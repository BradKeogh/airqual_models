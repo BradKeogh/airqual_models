{
 "cells": [
  {
   "cell_type": "code",
   "execution_count": 1,
   "metadata": {},
   "outputs": [],
   "source": [
    "################################################################################\n",
    "# R CODE INCLUDED AS SUPPLEMENTARY ONLINE MATERIAL FOR:\n",
    "#   \"Time series regression studies in environmental epidemiology\"\n",
    "#   Bhaskaran K, ....\n",
    "################################################################################\n",
    "\n",
    "# LOAD THE DATA INTO THE SESSION\n",
    "# (THE DATA ARE STORED IN A STATA'S .dta FILE)\n",
    "# (THE FUNCTION read.dta IN THE PACKAGE foreign CAN DO THE JOB)\n",
    "# (THE PACKAGE IS NOT PRE-LOADED INTO THE SESSION AND NEEDS TO BE LOADED)\n",
    "library(foreign)\n",
    "#data <- read.dta(\"ije-2012-10-0989-File003.dta\")\n",
    "data <- read.csv(file=\"./soton_aquality.csv\", header=TRUE, sep=\",\")\n",
    "\n",
    "# SET THE DEFAULT ACTION FOR MISSING DATA TO na.exclude\n",
    "# (MISSING EXCLUDED IN ESTIMATION BUT RE-INSERTED IN PREDICTION/RESIDUALS)\n",
    "options(na.action=\"na.exclude\")\n",
    "\n",
    "# CONVERT DATE COLUMN TO DATE FORMAT\n",
    "data$date <- as.Date(data$date, format = \"%Y-%m-%d\")\n",
    "\n",
    "# CHOOSE VARIABLES\n",
    "data$target <- data$total_ed_attendance\n",
    "data$pollutant <- data$sulphur_dioxide_ug_m3\n",
    "data$temperature <- data$air_temp_min"
   ]
  },
  {
   "cell_type": "code",
   "execution_count": 2,
   "metadata": {},
   "outputs": [
    {
     "data": {
      "text/html": [
       "<table>\n",
       "<thead><tr><th></th><th scope=col>total_ed_attendance</th><th scope=col>total_admissions_from_ed</th><th scope=col>air_temp_ave</th><th scope=col>air_temp_min</th><th scope=col>air_temp_max</th><th scope=col>relative_humidity_percrh</th><th scope=col>pm10_ugm3</th><th scope=col>pm2_5_ugm3</th><th scope=col>nitrogen_dioxide_ug_m3</th><th scope=col>nitric_oxide_ug_m3</th><th scope=col>ozone_ug_m3</th><th scope=col>sulphur_dioxide_ug_m3</th></tr></thead>\n",
       "<tbody>\n",
       "\t<tr><th scope=row>total_ed_attendance</th><td> 1.00000000</td><td> 0.84821090</td><td>-0.32858496</td><td>-0.27931509</td><td>-0.35387551</td><td> 0.07440333</td><td> 0.05788941</td><td> 0.02264320</td><td> 0.08269065</td><td> 0.05545744</td><td>-0.09063789</td><td> 0.13958798</td></tr>\n",
       "\t<tr><th scope=row>total_admissions_from_ed</th><td> 0.84821090</td><td> 1.00000000</td><td>-0.29461913</td><td>-0.26745525</td><td>-0.30046508</td><td> 0.04154038</td><td> 0.04651715</td><td> 0.01007683</td><td> 0.06686114</td><td> 0.06088782</td><td>-0.06347658</td><td> 0.13776912</td></tr>\n",
       "\t<tr><th scope=row>air_temp_ave</th><td>-0.32858496</td><td>-0.29461913</td><td> 1.00000000</td><td> 0.96116860</td><td> 0.96393926</td><td> 0.09881439</td><td>-0.08278288</td><td>-0.13302122</td><td>-0.32159909</td><td>-0.26191133</td><td> 0.18528900</td><td>-0.29794196</td></tr>\n",
       "\t<tr><th scope=row>air_temp_min</th><td>-0.27931509</td><td>-0.26745525</td><td> 0.96116860</td><td> 1.00000000</td><td> 0.87477388</td><td> 0.10763095</td><td>-0.08679068</td><td>-0.15515016</td><td>-0.31252075</td><td>-0.28580125</td><td> 0.17094142</td><td>-0.29341999</td></tr>\n",
       "\t<tr><th scope=row>air_temp_max</th><td>-0.35387551</td><td>-0.30046508</td><td> 0.96393926</td><td> 0.87477388</td><td> 1.00000000</td><td> 0.06158603</td><td>-0.06447689</td><td>-0.08228386</td><td>-0.31448749</td><td>-0.23696243</td><td> 0.17785501</td><td>-0.29472963</td></tr>\n",
       "\t<tr><th scope=row>relative_humidity_percrh</th><td> 0.07440333</td><td> 0.04154038</td><td> 0.09881439</td><td> 0.10763095</td><td> 0.06158603</td><td> 1.00000000</td><td> 0.07799513</td><td> 0.04282336</td><td> 0.10757940</td><td> 0.11729239</td><td>-0.22236368</td><td> 0.04218557</td></tr>\n",
       "\t<tr><th scope=row>pm10_ugm3</th><td> 0.05788941</td><td> 0.04651715</td><td>-0.08278288</td><td>-0.08679068</td><td>-0.06447689</td><td> 0.07799513</td><td> 1.00000000</td><td> 0.85619508</td><td> 0.27884408</td><td> 0.46008513</td><td>-0.31004662</td><td> 0.30737805</td></tr>\n",
       "\t<tr><th scope=row>pm2_5_ugm3</th><td> 0.02264320</td><td> 0.01007683</td><td>-0.13302122</td><td>-0.15515016</td><td>-0.08228386</td><td> 0.04282336</td><td> 0.85619508</td><td> 1.00000000</td><td> 0.31766566</td><td> 0.49461520</td><td>-0.40779471</td><td> 0.30087181</td></tr>\n",
       "\t<tr><th scope=row>nitrogen_dioxide_ug_m3</th><td> 0.08269065</td><td> 0.06686114</td><td>-0.32159909</td><td>-0.31252075</td><td>-0.31448749</td><td> 0.10757940</td><td> 0.27884408</td><td> 0.31766566</td><td> 1.00000000</td><td> 0.52780554</td><td>-0.55320021</td><td> 0.34254925</td></tr>\n",
       "\t<tr><th scope=row>nitric_oxide_ug_m3</th><td> 0.05545744</td><td> 0.06088782</td><td>-0.26191133</td><td>-0.28580125</td><td>-0.23696243</td><td> 0.11729239</td><td> 0.46008513</td><td> 0.49461520</td><td> 0.52780554</td><td> 1.00000000</td><td>-0.51927470</td><td> 0.66116859</td></tr>\n",
       "\t<tr><th scope=row>ozone_ug_m3</th><td>-0.09063789</td><td>-0.06347658</td><td> 0.18528900</td><td> 0.17094142</td><td> 0.17785501</td><td>-0.22236368</td><td>-0.31004662</td><td>-0.40779471</td><td>-0.55320021</td><td>-0.51927470</td><td> 1.00000000</td><td>-0.27416382</td></tr>\n",
       "\t<tr><th scope=row>sulphur_dioxide_ug_m3</th><td> 0.13958798</td><td> 0.13776912</td><td>-0.29794196</td><td>-0.29341999</td><td>-0.29472963</td><td> 0.04218557</td><td> 0.30737805</td><td> 0.30087181</td><td> 0.34254925</td><td> 0.66116859</td><td>-0.27416382</td><td> 1.00000000</td></tr>\n",
       "</tbody>\n",
       "</table>\n"
      ],
      "text/latex": [
       "\\begin{tabular}{r|llllllllllll}\n",
       "  & total\\_ed\\_attendance & total\\_admissions\\_from\\_ed & air\\_temp\\_ave & air\\_temp\\_min & air\\_temp\\_max & relative\\_humidity\\_percrh & pm10\\_ugm3 & pm2\\_5\\_ugm3 & nitrogen\\_dioxide\\_ug\\_m3 & nitric\\_oxide\\_ug\\_m3 & ozone\\_ug\\_m3 & sulphur\\_dioxide\\_ug\\_m3\\\\\n",
       "\\hline\n",
       "\ttotal\\_ed\\_attendance &  1.00000000 &  0.84821090 & -0.32858496 & -0.27931509 & -0.35387551 &  0.07440333 &  0.05788941 &  0.02264320 &  0.08269065 &  0.05545744 & -0.09063789 &  0.13958798\\\\\n",
       "\ttotal\\_admissions\\_from\\_ed &  0.84821090 &  1.00000000 & -0.29461913 & -0.26745525 & -0.30046508 &  0.04154038 &  0.04651715 &  0.01007683 &  0.06686114 &  0.06088782 & -0.06347658 &  0.13776912\\\\\n",
       "\tair\\_temp\\_ave & -0.32858496 & -0.29461913 &  1.00000000 &  0.96116860 &  0.96393926 &  0.09881439 & -0.08278288 & -0.13302122 & -0.32159909 & -0.26191133 &  0.18528900 & -0.29794196\\\\\n",
       "\tair\\_temp\\_min & -0.27931509 & -0.26745525 &  0.96116860 &  1.00000000 &  0.87477388 &  0.10763095 & -0.08679068 & -0.15515016 & -0.31252075 & -0.28580125 &  0.17094142 & -0.29341999\\\\\n",
       "\tair\\_temp\\_max & -0.35387551 & -0.30046508 &  0.96393926 &  0.87477388 &  1.00000000 &  0.06158603 & -0.06447689 & -0.08228386 & -0.31448749 & -0.23696243 &  0.17785501 & -0.29472963\\\\\n",
       "\trelative\\_humidity\\_percrh &  0.07440333 &  0.04154038 &  0.09881439 &  0.10763095 &  0.06158603 &  1.00000000 &  0.07799513 &  0.04282336 &  0.10757940 &  0.11729239 & -0.22236368 &  0.04218557\\\\\n",
       "\tpm10\\_ugm3 &  0.05788941 &  0.04651715 & -0.08278288 & -0.08679068 & -0.06447689 &  0.07799513 &  1.00000000 &  0.85619508 &  0.27884408 &  0.46008513 & -0.31004662 &  0.30737805\\\\\n",
       "\tpm2\\_5\\_ugm3 &  0.02264320 &  0.01007683 & -0.13302122 & -0.15515016 & -0.08228386 &  0.04282336 &  0.85619508 &  1.00000000 &  0.31766566 &  0.49461520 & -0.40779471 &  0.30087181\\\\\n",
       "\tnitrogen\\_dioxide\\_ug\\_m3 &  0.08269065 &  0.06686114 & -0.32159909 & -0.31252075 & -0.31448749 &  0.10757940 &  0.27884408 &  0.31766566 &  1.00000000 &  0.52780554 & -0.55320021 &  0.34254925\\\\\n",
       "\tnitric\\_oxide\\_ug\\_m3 &  0.05545744 &  0.06088782 & -0.26191133 & -0.28580125 & -0.23696243 &  0.11729239 &  0.46008513 &  0.49461520 &  0.52780554 &  1.00000000 & -0.51927470 &  0.66116859\\\\\n",
       "\tozone\\_ug\\_m3 & -0.09063789 & -0.06347658 &  0.18528900 &  0.17094142 &  0.17785501 & -0.22236368 & -0.31004662 & -0.40779471 & -0.55320021 & -0.51927470 &  1.00000000 & -0.27416382\\\\\n",
       "\tsulphur\\_dioxide\\_ug\\_m3 &  0.13958798 &  0.13776912 & -0.29794196 & -0.29341999 & -0.29472963 &  0.04218557 &  0.30737805 &  0.30087181 &  0.34254925 &  0.66116859 & -0.27416382 &  1.00000000\\\\\n",
       "\\end{tabular}\n"
      ],
      "text/markdown": [
       "\n",
       "| <!--/--> | total_ed_attendance | total_admissions_from_ed | air_temp_ave | air_temp_min | air_temp_max | relative_humidity_percrh | pm10_ugm3 | pm2_5_ugm3 | nitrogen_dioxide_ug_m3 | nitric_oxide_ug_m3 | ozone_ug_m3 | sulphur_dioxide_ug_m3 |\n",
       "|---|---|---|---|---|---|---|---|---|---|---|---|---|\n",
       "| total_ed_attendance |  1.00000000 |  0.84821090 | -0.32858496 | -0.27931509 | -0.35387551 |  0.07440333 |  0.05788941 |  0.02264320 |  0.08269065 |  0.05545744 | -0.09063789 |  0.13958798 |\n",
       "| total_admissions_from_ed |  0.84821090 |  1.00000000 | -0.29461913 | -0.26745525 | -0.30046508 |  0.04154038 |  0.04651715 |  0.01007683 |  0.06686114 |  0.06088782 | -0.06347658 |  0.13776912 |\n",
       "| air_temp_ave | -0.32858496 | -0.29461913 |  1.00000000 |  0.96116860 |  0.96393926 |  0.09881439 | -0.08278288 | -0.13302122 | -0.32159909 | -0.26191133 |  0.18528900 | -0.29794196 |\n",
       "| air_temp_min | -0.27931509 | -0.26745525 |  0.96116860 |  1.00000000 |  0.87477388 |  0.10763095 | -0.08679068 | -0.15515016 | -0.31252075 | -0.28580125 |  0.17094142 | -0.29341999 |\n",
       "| air_temp_max | -0.35387551 | -0.30046508 |  0.96393926 |  0.87477388 |  1.00000000 |  0.06158603 | -0.06447689 | -0.08228386 | -0.31448749 | -0.23696243 |  0.17785501 | -0.29472963 |\n",
       "| relative_humidity_percrh |  0.07440333 |  0.04154038 |  0.09881439 |  0.10763095 |  0.06158603 |  1.00000000 |  0.07799513 |  0.04282336 |  0.10757940 |  0.11729239 | -0.22236368 |  0.04218557 |\n",
       "| pm10_ugm3 |  0.05788941 |  0.04651715 | -0.08278288 | -0.08679068 | -0.06447689 |  0.07799513 |  1.00000000 |  0.85619508 |  0.27884408 |  0.46008513 | -0.31004662 |  0.30737805 |\n",
       "| pm2_5_ugm3 |  0.02264320 |  0.01007683 | -0.13302122 | -0.15515016 | -0.08228386 |  0.04282336 |  0.85619508 |  1.00000000 |  0.31766566 |  0.49461520 | -0.40779471 |  0.30087181 |\n",
       "| nitrogen_dioxide_ug_m3 |  0.08269065 |  0.06686114 | -0.32159909 | -0.31252075 | -0.31448749 |  0.10757940 |  0.27884408 |  0.31766566 |  1.00000000 |  0.52780554 | -0.55320021 |  0.34254925 |\n",
       "| nitric_oxide_ug_m3 |  0.05545744 |  0.06088782 | -0.26191133 | -0.28580125 | -0.23696243 |  0.11729239 |  0.46008513 |  0.49461520 |  0.52780554 |  1.00000000 | -0.51927470 |  0.66116859 |\n",
       "| ozone_ug_m3 | -0.09063789 | -0.06347658 |  0.18528900 |  0.17094142 |  0.17785501 | -0.22236368 | -0.31004662 | -0.40779471 | -0.55320021 | -0.51927470 |  1.00000000 | -0.27416382 |\n",
       "| sulphur_dioxide_ug_m3 |  0.13958798 |  0.13776912 | -0.29794196 | -0.29341999 | -0.29472963 |  0.04218557 |  0.30737805 |  0.30087181 |  0.34254925 |  0.66116859 | -0.27416382 |  1.00000000 |\n",
       "\n"
      ],
      "text/plain": [
       "                         total_ed_attendance total_admissions_from_ed\n",
       "total_ed_attendance       1.00000000          0.84821090             \n",
       "total_admissions_from_ed  0.84821090          1.00000000             \n",
       "air_temp_ave             -0.32858496         -0.29461913             \n",
       "air_temp_min             -0.27931509         -0.26745525             \n",
       "air_temp_max             -0.35387551         -0.30046508             \n",
       "relative_humidity_percrh  0.07440333          0.04154038             \n",
       "pm10_ugm3                 0.05788941          0.04651715             \n",
       "pm2_5_ugm3                0.02264320          0.01007683             \n",
       "nitrogen_dioxide_ug_m3    0.08269065          0.06686114             \n",
       "nitric_oxide_ug_m3        0.05545744          0.06088782             \n",
       "ozone_ug_m3              -0.09063789         -0.06347658             \n",
       "sulphur_dioxide_ug_m3     0.13958798          0.13776912             \n",
       "                         air_temp_ave air_temp_min air_temp_max\n",
       "total_ed_attendance      -0.32858496  -0.27931509  -0.35387551 \n",
       "total_admissions_from_ed -0.29461913  -0.26745525  -0.30046508 \n",
       "air_temp_ave              1.00000000   0.96116860   0.96393926 \n",
       "air_temp_min              0.96116860   1.00000000   0.87477388 \n",
       "air_temp_max              0.96393926   0.87477388   1.00000000 \n",
       "relative_humidity_percrh  0.09881439   0.10763095   0.06158603 \n",
       "pm10_ugm3                -0.08278288  -0.08679068  -0.06447689 \n",
       "pm2_5_ugm3               -0.13302122  -0.15515016  -0.08228386 \n",
       "nitrogen_dioxide_ug_m3   -0.32159909  -0.31252075  -0.31448749 \n",
       "nitric_oxide_ug_m3       -0.26191133  -0.28580125  -0.23696243 \n",
       "ozone_ug_m3               0.18528900   0.17094142   0.17785501 \n",
       "sulphur_dioxide_ug_m3    -0.29794196  -0.29341999  -0.29472963 \n",
       "                         relative_humidity_percrh pm10_ugm3   pm2_5_ugm3 \n",
       "total_ed_attendance       0.07440333               0.05788941  0.02264320\n",
       "total_admissions_from_ed  0.04154038               0.04651715  0.01007683\n",
       "air_temp_ave              0.09881439              -0.08278288 -0.13302122\n",
       "air_temp_min              0.10763095              -0.08679068 -0.15515016\n",
       "air_temp_max              0.06158603              -0.06447689 -0.08228386\n",
       "relative_humidity_percrh  1.00000000               0.07799513  0.04282336\n",
       "pm10_ugm3                 0.07799513               1.00000000  0.85619508\n",
       "pm2_5_ugm3                0.04282336               0.85619508  1.00000000\n",
       "nitrogen_dioxide_ug_m3    0.10757940               0.27884408  0.31766566\n",
       "nitric_oxide_ug_m3        0.11729239               0.46008513  0.49461520\n",
       "ozone_ug_m3              -0.22236368              -0.31004662 -0.40779471\n",
       "sulphur_dioxide_ug_m3     0.04218557               0.30737805  0.30087181\n",
       "                         nitrogen_dioxide_ug_m3 nitric_oxide_ug_m3 ozone_ug_m3\n",
       "total_ed_attendance       0.08269065             0.05545744        -0.09063789\n",
       "total_admissions_from_ed  0.06686114             0.06088782        -0.06347658\n",
       "air_temp_ave             -0.32159909            -0.26191133         0.18528900\n",
       "air_temp_min             -0.31252075            -0.28580125         0.17094142\n",
       "air_temp_max             -0.31448749            -0.23696243         0.17785501\n",
       "relative_humidity_percrh  0.10757940             0.11729239        -0.22236368\n",
       "pm10_ugm3                 0.27884408             0.46008513        -0.31004662\n",
       "pm2_5_ugm3                0.31766566             0.49461520        -0.40779471\n",
       "nitrogen_dioxide_ug_m3    1.00000000             0.52780554        -0.55320021\n",
       "nitric_oxide_ug_m3        0.52780554             1.00000000        -0.51927470\n",
       "ozone_ug_m3              -0.55320021            -0.51927470         1.00000000\n",
       "sulphur_dioxide_ug_m3     0.34254925             0.66116859        -0.27416382\n",
       "                         sulphur_dioxide_ug_m3\n",
       "total_ed_attendance       0.13958798          \n",
       "total_admissions_from_ed  0.13776912          \n",
       "air_temp_ave             -0.29794196          \n",
       "air_temp_min             -0.29341999          \n",
       "air_temp_max             -0.29472963          \n",
       "relative_humidity_percrh  0.04218557          \n",
       "pm10_ugm3                 0.30737805          \n",
       "pm2_5_ugm3                0.30087181          \n",
       "nitrogen_dioxide_ug_m3    0.34254925          \n",
       "nitric_oxide_ug_m3        0.66116859          \n",
       "ozone_ug_m3              -0.27416382          \n",
       "sulphur_dioxide_ug_m3     1.00000000          "
      ]
     },
     "metadata": {},
     "output_type": "display_data"
    }
   ],
   "source": [
    "cor(data[,3:14])"
   ]
  },
  {
   "cell_type": "code",
   "execution_count": 3,
   "metadata": {},
   "outputs": [
    {
     "data": {
      "text/plain": [
       "      date                   date.1    total_ed_attendance\n",
       " Min.   :2014-06-04   2014-06-04:  1   Min.   : 0.00      \n",
       " 1st Qu.:2014-11-17   2014-06-05:  1   1st Qu.:10.00      \n",
       " Median :2015-05-03   2014-06-06:  1   Median :13.00      \n",
       " Mean   :2015-05-03   2014-06-07:  1   Mean   :13.48      \n",
       " 3rd Qu.:2015-10-16   2014-06-08:  1   3rd Qu.:16.00      \n",
       " Max.   :2016-03-31   2014-06-09:  1   Max.   :35.00      \n",
       "                      (Other)   :661                      \n",
       " total_admissions_from_ed  air_temp_ave    air_temp_min    air_temp_max  \n",
       " Min.   : 0.000           Min.   : 0.50   Min.   :-2.40   Min.   : 3.00  \n",
       " 1st Qu.: 6.000           1st Qu.: 8.10   1st Qu.: 5.40   1st Qu.:10.90  \n",
       " Median : 8.000           Median :12.00   Median : 9.30   Median :14.30  \n",
       " Mean   : 8.438           Mean   :11.75   Mean   : 8.97   Mean   :14.55  \n",
       " 3rd Qu.:11.000           3rd Qu.:15.60   3rd Qu.:12.75   3rd Qu.:18.55  \n",
       " Max.   :24.000           Max.   :22.90   Max.   :19.80   Max.   :29.80  \n",
       "                                                                         \n",
       " relative_humidity_percrh   pm10_ugm3       pm2_5_ugm3   \n",
       " Min.   :40.20            Min.   : 5.00   Min.   : 1.00  \n",
       " 1st Qu.:75.25            1st Qu.:12.00   1st Qu.: 6.00  \n",
       " Median :82.10            Median :16.00   Median : 9.00  \n",
       " Mean   :81.01            Mean   :17.65   Mean   :11.69  \n",
       " 3rd Qu.:87.40            3rd Qu.:20.00   3rd Qu.:14.00  \n",
       " Max.   :97.40            Max.   :78.00   Max.   :71.00  \n",
       "                                                         \n",
       " nitrogen_dioxide_ug_m3 nitric_oxide_ug_m3  ozone_ug_m3   \n",
       " Min.   : 8.00          Min.   :  1.00     Min.   : 1.00  \n",
       " 1st Qu.:23.00          1st Qu.:  6.00     1st Qu.:27.00  \n",
       " Median :30.00          Median : 10.00     Median :37.00  \n",
       " Mean   :31.78          Mean   : 15.71     Mean   :36.51  \n",
       " 3rd Qu.:38.00          3rd Qu.: 17.00     3rd Qu.:46.00  \n",
       " Max.   :98.00          Max.   :347.00     Max.   :84.00  \n",
       "                                                          \n",
       " sulphur_dioxide_ug_m3 pos_virus_perc   phe_resp_virus_tests_total\n",
       " Min.   : 0.000        Min.   :0.0000   Min.   : 0.00             \n",
       " 1st Qu.: 1.000        1st Qu.:0.0000   1st Qu.: 1.00             \n",
       " Median : 1.000        Median :0.1111   Median : 9.00             \n",
       " Mean   : 1.721        Mean   :0.1650   Mean   :11.13             \n",
       " 3rd Qu.: 2.000        3rd Qu.:0.2857   3rd Qu.:18.00             \n",
       " Max.   :14.000        Max.   :1.0000   Max.   :56.00             \n",
       "                                                                  \n",
       "     target        pollutant       temperature   \n",
       " Min.   : 0.00   Min.   : 0.000   Min.   :-2.40  \n",
       " 1st Qu.:10.00   1st Qu.: 1.000   1st Qu.: 5.40  \n",
       " Median :13.00   Median : 1.000   Median : 9.30  \n",
       " Mean   :13.48   Mean   : 1.721   Mean   : 8.97  \n",
       " 3rd Qu.:16.00   3rd Qu.: 2.000   3rd Qu.:12.75  \n",
       " Max.   :35.00   Max.   :14.000   Max.   :19.80  \n",
       "                                                 "
      ]
     },
     "metadata": {},
     "output_type": "display_data"
    },
    {
     "data": {
      "text/html": [
       "<table>\n",
       "<thead><tr><th></th><th scope=col>total_admissions_from_ed</th><th scope=col>air_temp_ave</th><th scope=col>air_temp_min</th><th scope=col>air_temp_max</th><th scope=col>relative_humidity_percrh</th></tr></thead>\n",
       "<tbody>\n",
       "\t<tr><th scope=row>total_admissions_from_ed</th><td> 1.00000000</td><td>-0.29461913</td><td>-0.2674553 </td><td>-0.30046508</td><td>0.04154038 </td></tr>\n",
       "\t<tr><th scope=row>air_temp_ave</th><td>-0.29461913</td><td> 1.00000000</td><td> 0.9611686 </td><td> 0.96393926</td><td>0.09881439 </td></tr>\n",
       "\t<tr><th scope=row>air_temp_min</th><td>-0.26745525</td><td> 0.96116860</td><td> 1.0000000 </td><td> 0.87477388</td><td>0.10763095 </td></tr>\n",
       "\t<tr><th scope=row>air_temp_max</th><td>-0.30046508</td><td> 0.96393926</td><td> 0.8747739 </td><td> 1.00000000</td><td>0.06158603 </td></tr>\n",
       "\t<tr><th scope=row>relative_humidity_percrh</th><td> 0.04154038</td><td> 0.09881439</td><td> 0.1076310 </td><td> 0.06158603</td><td>1.00000000 </td></tr>\n",
       "</tbody>\n",
       "</table>\n"
      ],
      "text/latex": [
       "\\begin{tabular}{r|lllll}\n",
       "  & total\\_admissions\\_from\\_ed & air\\_temp\\_ave & air\\_temp\\_min & air\\_temp\\_max & relative\\_humidity\\_percrh\\\\\n",
       "\\hline\n",
       "\ttotal\\_admissions\\_from\\_ed &  1.00000000 & -0.29461913 & -0.2674553  & -0.30046508 & 0.04154038 \\\\\n",
       "\tair\\_temp\\_ave & -0.29461913 &  1.00000000 &  0.9611686  &  0.96393926 & 0.09881439 \\\\\n",
       "\tair\\_temp\\_min & -0.26745525 &  0.96116860 &  1.0000000  &  0.87477388 & 0.10763095 \\\\\n",
       "\tair\\_temp\\_max & -0.30046508 &  0.96393926 &  0.8747739  &  1.00000000 & 0.06158603 \\\\\n",
       "\trelative\\_humidity\\_percrh &  0.04154038 &  0.09881439 &  0.1076310  &  0.06158603 & 1.00000000 \\\\\n",
       "\\end{tabular}\n"
      ],
      "text/markdown": [
       "\n",
       "| <!--/--> | total_admissions_from_ed | air_temp_ave | air_temp_min | air_temp_max | relative_humidity_percrh |\n",
       "|---|---|---|---|---|---|\n",
       "| total_admissions_from_ed |  1.00000000 | -0.29461913 | -0.2674553  | -0.30046508 | 0.04154038  |\n",
       "| air_temp_ave | -0.29461913 |  1.00000000 |  0.9611686  |  0.96393926 | 0.09881439  |\n",
       "| air_temp_min | -0.26745525 |  0.96116860 |  1.0000000  |  0.87477388 | 0.10763095  |\n",
       "| air_temp_max | -0.30046508 |  0.96393926 |  0.8747739  |  1.00000000 | 0.06158603  |\n",
       "| relative_humidity_percrh |  0.04154038 |  0.09881439 |  0.1076310  |  0.06158603 | 1.00000000  |\n",
       "\n"
      ],
      "text/plain": [
       "                         total_admissions_from_ed air_temp_ave air_temp_min\n",
       "total_admissions_from_ed  1.00000000              -0.29461913  -0.2674553  \n",
       "air_temp_ave             -0.29461913               1.00000000   0.9611686  \n",
       "air_temp_min             -0.26745525               0.96116860   1.0000000  \n",
       "air_temp_max             -0.30046508               0.96393926   0.8747739  \n",
       "relative_humidity_percrh  0.04154038               0.09881439   0.1076310  \n",
       "                         air_temp_max relative_humidity_percrh\n",
       "total_admissions_from_ed -0.30046508  0.04154038              \n",
       "air_temp_ave              0.96393926  0.09881439              \n",
       "air_temp_min              0.87477388  0.10763095              \n",
       "air_temp_max              1.00000000  0.06158603              \n",
       "relative_humidity_percrh  0.06158603  1.00000000              "
      ]
     },
     "metadata": {},
     "output_type": "display_data"
    },
    {
     "data": {
      "image/png": "[encoded data removed]",
      "text/plain": [
       "Plot with title \"Ozone levels over time\""
      ]
     },
     "metadata": {},
     "output_type": "display_data"
    }
   ],
   "source": [
    "################################################################################\n",
    "# PRELIMINARY ANALYSIS\n",
    "#######################\n",
    "\n",
    "#############\n",
    "# FIGURE 1\n",
    "#############\n",
    "\n",
    "# SET THE PLOTTING PARAMETERS FOR THE PLOT (SEE ?par)\n",
    "oldpar <- par(no.readonly=TRUE)\n",
    "par(mex=0.8,mfrow=c(2,1))\n",
    "\n",
    "# SUB-PLOT FOR DAILY DEATHS, WITH VERTICAL LINES DEFINING YEARS\n",
    "plot(data$date,data$target,pch=\".\",main=\"Daily deaths over time\",\n",
    "  ylab=\"Daily number of deaths\",xlab=\"Date\")\n",
    "abline(v=data$date[grep(\"-01-01\",data$date)],col=grey(0.6),lty=2)\n",
    "\n",
    "# THE SAME FOR OZONE LEVELS\n",
    "plot(data$date,data$pollutant,pch=\".\",main=\"Ozone levels over time\",\n",
    "     ylab=\"Daily mean ozone level (ug/m3)\",xlab=\"Date\")\n",
    "abline(v=data$date[grep(\"-01-01\",data$date)],col=grey(0.6),lty=2)\n",
    "par(oldpar)\n",
    "layout(1)\n",
    "\n",
    "########################\n",
    "# DESCRIPTIVE STATISTICS\n",
    "########################\n",
    "\n",
    "# SUMMARY\n",
    "summary(data)\n",
    "\n",
    "# OTHER USEFUL FUNCTIONS IN THE PACKAGE epicals\n",
    "# (THE PACKAGE IS NOT PRESENT IN THE DEFAULT R INSTALLATION)\n",
    "# (IT NEED TO BE INSTALLED AND THEN LOADED INTO THE SESSION)\n",
    "#install.packages(\"epicalc\") # is this only required for 2 commands below\n",
    "#library(epicalc)\n",
    "#des(data)\n",
    "#summ(data)\n",
    "\n",
    "# CORRELATIONS\n",
    "#cor(data[,2:4])\n",
    "cor(data[,4:8])\n",
    "#################\n",
    "# SCALE EXPOSURE\n",
    "#################\n",
    "\n",
    "#data$ozone10 <- data$ozone/10"
   ]
  },
  {
   "cell_type": "code",
   "execution_count": 4,
   "metadata": {},
   "outputs": [
    {
     "data": {
      "text/plain": [
       "\n",
       "Call:\n",
       "glm(formula = target ~ month/year, family = quasipoisson, data = data)\n",
       "\n",
       "Deviance Residuals: \n",
       "    Min       1Q   Median       3Q      Max  \n",
       "-4.6260  -0.8233  -0.1556   0.6996   3.5610  \n",
       "\n",
       "Coefficients: (14 not defined because of singularities)\n",
       "                  Estimate Std. Error t value Pr(>|t|)    \n",
       "(Intercept)        2.37024    0.06731  35.213  < 2e-16 ***\n",
       "monthAug          -0.16944    0.09862  -1.718 0.086243 .  \n",
       "monthDec           0.56224    0.08384   6.706 4.38e-11 ***\n",
       "monthFeb           0.34010    0.08869   3.835 0.000138 ***\n",
       "monthJan           0.45726    0.08548   5.349 1.23e-07 ***\n",
       "monthJul          -0.03591    0.09527  -0.377 0.706344    \n",
       "monthJun           0.01750    0.09735   0.180 0.857408    \n",
       "monthMar           0.38198    0.08674   4.404 1.25e-05 ***\n",
       "monthMay           0.15935    0.09094   1.752 0.080202 .  \n",
       "monthNov           0.31533    0.08852   3.562 0.000395 ***\n",
       "monthOct           0.13594    0.09142   1.487 0.137523    \n",
       "monthSep          -0.01887    0.09565  -0.197 0.843674    \n",
       "monthApr:year2015       NA         NA      NA       NA    \n",
       "monthAug:year2015  0.14286    0.09847   1.451 0.147332    \n",
       "monthDec:year2015 -0.03319    0.07129  -0.466 0.641680    \n",
       "monthFeb:year2015 -0.13175    0.08531  -1.544 0.122966    \n",
       "monthJan:year2015 -0.12593    0.07697  -1.636 0.102298    \n",
       "monthJul:year2015 -0.01893    0.09580  -0.198 0.843432    \n",
       "monthJun:year2015 -0.02689    0.09757  -0.276 0.782963    \n",
       "monthMar:year2015 -0.17740    0.08103  -2.189 0.028939 *  \n",
       "monthMay:year2015       NA         NA      NA       NA    \n",
       "monthNov:year2015  0.13183    0.07876   1.674 0.094653 .  \n",
       "monthOct:year2015  0.32893    0.08113   4.054 5.64e-05 ***\n",
       "monthSep:year2015  0.32965    0.08909   3.700 0.000234 ***\n",
       "monthApr:year2016       NA         NA      NA       NA    \n",
       "monthAug:year2016       NA         NA      NA       NA    \n",
       "monthDec:year2016       NA         NA      NA       NA    \n",
       "monthFeb:year2016       NA         NA      NA       NA    \n",
       "monthJan:year2016       NA         NA      NA       NA    \n",
       "monthJul:year2016       NA         NA      NA       NA    \n",
       "monthJun:year2016       NA         NA      NA       NA    \n",
       "monthMar:year2016       NA         NA      NA       NA    \n",
       "monthMay:year2016       NA         NA      NA       NA    \n",
       "monthNov:year2016       NA         NA      NA       NA    \n",
       "monthOct:year2016       NA         NA      NA       NA    \n",
       "monthSep:year2016       NA         NA      NA       NA    \n",
       "---\n",
       "Signif. codes:  0 '***' 0.001 '**' 0.01 '*' 0.05 '.' 0.1 ' ' 1\n",
       "\n",
       "(Dispersion parameter for quasipoisson family taken to be 1.454423)\n",
       "\n",
       "    Null deviance: 1362.46  on 666  degrees of freedom\n",
       "Residual deviance:  951.84  on 645  degrees of freedom\n",
       "AIC: NA\n",
       "\n",
       "Number of Fisher Scoring iterations: 4\n"
      ]
     },
     "metadata": {},
     "output_type": "display_data"
    },
    {
     "data": {
      "image/png": "[encoded data removed]",
      "text/plain": [
       "Plot with title \"Time-stratified model (month strata)\""
      ]
     },
     "metadata": {},
     "output_type": "display_data"
    }
   ],
   "source": [
    "################################################################################\n",
    "# MODELLING SEASONALITY AND LONG-TERM TREND\n",
    "# (LEAVING OUT MAIN EXPOSURE FOR NOW)\n",
    "############################################\n",
    "\n",
    "##################################\n",
    "# OPTION 1: TIME-STRATIFIED MODEL\n",
    "# (SIMPLE INDICATOR VARIABLES)\n",
    "##################################\n",
    "\n",
    "# GENERATE MONTH AND YEAR\n",
    "data$month <- as.factor(months(data$date,abbr=TRUE))\n",
    "data$year <- as.factor(substr(data$date,1,4))\n",
    "\n",
    "# FIT A POISSON MODEL WITH A STRATUM FOR EACH MONTH NESTED IN YEAR\n",
    "# (USE OF quasipoisson FAMILY FOR SCALING THE STANDARD ERRORS)\n",
    "model1 <- glm(target ~ month/year,data,family=quasipoisson)\n",
    "summary(model1)\n",
    "\n",
    "# COMPUTE PREDICTED NUMBER OF DEATHS FROM THIS MODEL\n",
    "pred1 <- predict(model1,type=\"response\")\n",
    "\n",
    "#############\n",
    "# FIGURE 2A\n",
    "#############\n",
    "\n",
    "#plot(data$date,data$num_deaths,ylim=c(100,300),pch=19,cex=0.2,col=grey(0.6),\n",
    "#  main=\"Time-stratified model (month strata)\",ylab=\"Daily number of deaths\",\n",
    "#  xlab=\"Date\")\n",
    "\n",
    "plot(data$date,data$target,pch=19,cex=0.2,col=grey(0.6),\n",
    "     main=\"Time-stratified model (month strata)\",ylab=\"Daily number of deaths\",\n",
    "     xlab=\"Date\")\n",
    "lines(data$date,pred1,lwd=2)"
   ]
  },
  {
   "cell_type": "code",
   "execution_count": 5,
   "metadata": {},
   "outputs": [
    {
     "name": "stdout",
     "output_type": "stream",
     "text": [
      "package 'tsModel' successfully unpacked and MD5 sums checked\n",
      "\n",
      "The downloaded binary packages are in\n",
      "\tC:\\Users\\bjk1y13\\AppData\\Local\\Temp\\RtmpiwFGoe\\downloaded_packages\n"
     ]
    },
    {
     "name": "stderr",
     "output_type": "stream",
     "text": [
      "Warning message:\n",
      "\"package 'tsModel' was built under R version 3.5.3\"Time Series Modeling for Air Pollution and Health (0.6)\n"
     ]
    }
   ],
   "source": [
    "#####################################\n",
    "# OPTION 2: PERIODIC FUNCTIONS MODEL\n",
    "# (FOURIER TERMS)\n",
    "#####################################\n",
    "\n",
    "# GENERATE FOURIER TERMS\n",
    "# (USE FUNCTION harmonic, IN PACKAGE tsModel TO BE INSTALLED AND THEN LOADED)\n",
    "install.packages(\"tsModel\", repos='http://cran.us.r-project.org')\n",
    "library(tsModel)"
   ]
  },
  {
   "cell_type": "code",
   "execution_count": 6,
   "metadata": {},
   "outputs": [
    {
     "data": {
      "text/plain": [
       "\n",
       "Call:\n",
       "glm(formula = target ~ fourier + time, family = quasipoisson, \n",
       "    data = data)\n",
       "\n",
       "Deviance Residuals: \n",
       "    Min       1Q   Median       3Q      Max  \n",
       "-4.9289  -0.9104  -0.1124   0.6878   3.7224  \n",
       "\n",
       "Coefficients:\n",
       "              Estimate Std. Error t value Pr(>|t|)    \n",
       "(Intercept)  2.442e+00  2.817e-02  86.688  < 2e-16 ***\n",
       "fourier1    -8.036e-02  1.955e-02  -4.111 4.44e-05 ***\n",
       "fourier2    -2.364e-02  1.877e-02  -1.259 0.208301    \n",
       "fourier3     7.906e-02  1.800e-02   4.393 1.30e-05 ***\n",
       "fourier4    -2.105e-01  1.950e-02 -10.792  < 2e-16 ***\n",
       "fourier5     7.072e-02  1.835e-02   3.855 0.000127 ***\n",
       "fourier6     7.170e-03  1.813e-02   0.395 0.692634    \n",
       "time         3.779e-04  7.192e-05   5.255 2.00e-07 ***\n",
       "---\n",
       "Signif. codes:  0 '***' 0.001 '**' 0.01 '*' 0.05 '.' 0.1 ' ' 1\n",
       "\n",
       "(Dispersion parameter for quasipoisson family taken to be 1.446011)\n",
       "\n",
       "    Null deviance: 1362.46  on 666  degrees of freedom\n",
       "Residual deviance:  967.95  on 659  degrees of freedom\n",
       "AIC: NA\n",
       "\n",
       "Number of Fisher Scoring iterations: 4\n"
      ]
     },
     "metadata": {},
     "output_type": "display_data"
    },
    {
     "data": {
      "image/png": "[encoded data removed]",
      "text/plain": [
       "Plot with title \"Sine-cosine functions (Fourier terms)\""
      ]
     },
     "metadata": {},
     "output_type": "display_data"
    }
   ],
   "source": [
    "# 4 SINE-COSINE PAIRS REPRESENTING DIFFERENT HARMONICS WITH PERIOD 1 YEAR\n",
    "data$time <- seq(nrow(data))\n",
    "fourier <- harmonic(data$time,nfreq=3,period=365.25)\n",
    "\n",
    "# FIT A POISSON MODEL FOURIER TERMS + LINEAR TERM FOR TREND\n",
    "# (USE OF quasipoisson FAMILY FOR SCALING THE STANDARD ERRORS)\n",
    "model2 <- glm(target ~ fourier + time,data,family=quasipoisson)\n",
    "summary(model2)\n",
    "\n",
    "# COMPUTE PREDICTED NUMBER OF DEATHS FROM THIS MODEL\n",
    "pred2 <- predict(model2,type=\"response\")\n",
    "\n",
    "#############\n",
    "# FIGURE 2B\n",
    "#############\n",
    "#plot(data$date,data$target,ylim=c(100,300),pch=19,cex=0.2,col=grey(0.6),\n",
    "#     main=\"Sine-cosine functions (Fourier terms)\",ylab=\"Daily number of deaths\",\n",
    "#     xlab=\"Date\")\n",
    "\n",
    "plot(data$date,data$target,pch=19,cex=0.2,col=grey(0.6),\n",
    "  main=\"Sine-cosine functions (Fourier terms)\",ylab=\"Daily number of deaths\",\n",
    "  xlab=\"Date\")\n",
    "lines(data$date,pred2,lwd=2)"
   ]
  },
  {
   "cell_type": "code",
   "execution_count": 7,
   "metadata": {},
   "outputs": [
    {
     "data": {
      "image/png": "[encoded data removed]",
      "text/plain": [
       "Plot with title \"Residuals over time\""
      ]
     },
     "metadata": {},
     "output_type": "display_data"
    }
   ],
   "source": [
    "#####################################\n",
    "# PLOT RESPONSE RESIDUALS OVER TIME\n",
    "# FROM MODEL 3\n",
    "#####################################\n",
    "\n",
    "# GENERATE RESIDUALS\n",
    "res3 <- residuals(model2,type=\"response\")\n",
    "\n",
    "############\n",
    "# FIGURE 3\n",
    "############\n",
    "\n",
    "plot(data$date,res3,pch=19,cex=0.4,col=grey(0.6),\n",
    "  main=\"Residuals over time\",ylab=\"Residuals (observed-fitted)\",xlab=\"Date\")\n",
    "abline(h=1,lty=2,lwd=2)\n",
    "\n",
    "#,ylim=c(-50,150)"
   ]
  },
  {
   "cell_type": "code",
   "execution_count": 8,
   "metadata": {},
   "outputs": [
    {
     "data": {
      "text/plain": [
       "\n",
       "Call:\n",
       "glm(formula = target ~ spl, family = quasipoisson, data = data)\n",
       "\n",
       "Deviance Residuals: \n",
       "    Min       1Q   Median       3Q      Max  \n",
       "-4.9184  -0.9162  -0.1571   0.7554   3.8027  \n",
       "\n",
       "Coefficients:\n",
       "            Estimate Std. Error t value Pr(>|t|)    \n",
       "(Intercept)  2.25819    0.15614  14.462  < 2e-16 ***\n",
       "spl1         0.40758    0.28646   1.423 0.155273    \n",
       "spl2        -0.26323    0.18540  -1.420 0.156146    \n",
       "spl3         0.06125    0.21289   0.288 0.773672    \n",
       "spl4         0.58231    0.17574   3.314 0.000972 ***\n",
       "spl5         0.63806    0.18698   3.412 0.000684 ***\n",
       "spl6         0.10772    0.18364   0.587 0.557696    \n",
       "spl7         0.33036    0.18915   1.747 0.081182 .  \n",
       "spl8        -0.02238    0.18943  -0.118 0.905981    \n",
       "spl9         0.13379    0.18779   0.712 0.476427    \n",
       "spl10        0.64303    0.18242   3.525 0.000453 ***\n",
       "spl11        0.62477    0.18481   3.381 0.000766 ***\n",
       "spl12        0.55626    0.20143   2.762 0.005915 ** \n",
       "spl13        0.33129    0.20916   1.584 0.113692    \n",
       "spl14        0.61423    0.19812   3.100 0.002017 ** \n",
       "---\n",
       "Signif. codes:  0 '***' 0.001 '**' 0.01 '*' 0.05 '.' 0.1 ' ' 1\n",
       "\n",
       "(Dispersion parameter for quasipoisson family taken to be 1.454147)\n",
       "\n",
       "    Null deviance: 1362.46  on 666  degrees of freedom\n",
       "Residual deviance:  958.96  on 652  degrees of freedom\n",
       "AIC: NA\n",
       "\n",
       "Number of Fisher Scoring iterations: 4\n"
      ]
     },
     "metadata": {},
     "output_type": "display_data"
    },
    {
     "data": {
      "image/png": "[encoded data removed]",
      "text/plain": [
       "Plot with title \"Flexible cubic spline model\""
      ]
     },
     "metadata": {},
     "output_type": "display_data"
    }
   ],
   "source": [
    "#####################################\n",
    "# OPTION 3: SPLINE MODEL\n",
    "# (FLEXIBLE SPLINE FUNCTIONS)\n",
    "#####################################\n",
    "\n",
    "# GENERATE SPLINE TERMS\n",
    "# (USE FUNCTION bs IN PACKAGE splines, TO BE LOADED)\n",
    "library(splines)\n",
    "\n",
    "# A CUBIC B-SPLINE WITH 32 EQUALLY-SPACED KNOTS + 2 BOUNDARY KNOTS\n",
    "# (NOTE: THIS PARAMETERIZATION IS SLIGHTLY DIFFERENT THAN STATA'S)\n",
    "# (THE 35 BASIS VARIABLES ARE SET AS df, WITH DEFAULT KNOTS PLACEMENT. SEE ?bs)\n",
    "# (OTHER TYPES OF SPLINES CAN BE PRODUCED WITH THE FUNCTION ns. SEE ?ns)\n",
    "# spl <- bs(data$time,degree=3,df=12)\n",
    "spl <- bs(data$time,degree=3,df=14)\n",
    "\n",
    "# FIT A POISSON MODEL FOURIER TERMS + LINEAR TERM FOR TREND\n",
    "# (USE OF quasipoisson FAMILY FOR SCALING THE STANDARD ERRORS)\n",
    "model3 <- glm(target ~ spl,data,family=quasipoisson)\n",
    "summary(model3)\n",
    "\n",
    "# COMPUTE PREDICTED NUMBER OF DEATHS FROM THIS MODEL\n",
    "pred3 <- predict(model3,type=\"response\")\n",
    "\n",
    "#############\n",
    "# FIGURE 2C\n",
    "#############\n",
    "\n",
    "plot(data$date,data$target,pch=19,cex=0.2,col=grey(0.6),\n",
    "     main=\"Flexible cubic spline model\",ylab=\"Daily number of deaths\",\n",
    "     xlab=\"Date\")\n",
    "lines(data$date,pred3,lwd=2)\n",
    "# this looks a bit overfit, fourier looks better."
   ]
  },
  {
   "cell_type": "code",
   "execution_count": 9,
   "metadata": {},
   "outputs": [
    {
     "data": {
      "image/png": "[encoded data removed]",
      "text/plain": [
       "Plot with title \"Residuals over time\""
      ]
     },
     "metadata": {},
     "output_type": "display_data"
    }
   ],
   "source": [
    "#####################################\n",
    "# PLOT RESPONSE RESIDUALS OVER TIME\n",
    "# FROM MODEL 3\n",
    "#####################################\n",
    "\n",
    "# GENERATE RESIDUALS\n",
    "res3 <- residuals(model3,type=\"response\")\n",
    "\n",
    "############\n",
    "# FIGURE 3\n",
    "############\n",
    "\n",
    "plot(data$date,res3,pch=19,cex=0.4,col=grey(0.6),\n",
    "  main=\"Residuals over time\",ylab=\"Residuals (observed-fitted)\",xlab=\"Date\")\n",
    "abline(h=1,lty=2,lwd=2)\n",
    "\n",
    "#,ylim=c(-50,150)"
   ]
  },
  {
   "cell_type": "code",
   "execution_count": null,
   "metadata": {},
   "outputs": [],
   "source": []
  },
  {
   "cell_type": "code",
   "execution_count": null,
   "metadata": {},
   "outputs": [],
   "source": []
  },
  {
   "cell_type": "code",
   "execution_count": 10,
   "metadata": {},
   "outputs": [
    {
     "name": "stdout",
     "output_type": "stream",
     "text": [
      "package 'Epi' successfully unpacked and MD5 sums checked\n"
     ]
    },
    {
     "name": "stderr",
     "output_type": "stream",
     "text": [
      "Warning message:\n",
      "\"cannot remove prior installation of package 'Epi'\""
     ]
    },
    {
     "name": "stdout",
     "output_type": "stream",
     "text": [
      "\n",
      "The downloaded binary packages are in\n",
      "\tC:\\Users\\bjk1y13\\AppData\\Local\\Temp\\RtmpiwFGoe\\downloaded_packages\n"
     ]
    },
    {
     "ename": "ERROR",
     "evalue": "Error in library(Epi): there is no package called 'Epi'\n",
     "output_type": "error",
     "traceback": [
      "Error in library(Epi): there is no package called 'Epi'\nTraceback:\n",
      "1. library(Epi)",
      "2. stop(txt, domain = NA)"
     ]
    }
   ],
   "source": [
    "################################################################################\n",
    "# ESTIMATING OZONE-MORTALITY ASSOCIATION\n",
    "# (CONTROLLING FOR CONFOUNDERS)\n",
    "############################################\n",
    "\n",
    "\n",
    "#date year month target phe_resp_virus_tests_total temperature pm10_ugm3 relative_humidity_percrh date_count\n",
    "\n",
    "# COMPARE THE RR (AND CI)\n",
    "# (COMPUTED WITH THE FUNCTION ci.lin IN PACKAGE Epi, TO BE INSTALLED AND LOADED)\n",
    "install.packages(\"Epi\", repos='http://cran.us.r-project.org')\n",
    "library(Epi)"
   ]
  },
  {
   "cell_type": "code",
   "execution_count": 11,
   "metadata": {},
   "outputs": [
    {
     "data": {
      "text/plain": [
       "\n",
       "Call:\n",
       "glm(formula = target ~ pollutant, family = quasipoisson, data = data)\n",
       "\n",
       "Deviance Residuals: \n",
       "    Min       1Q   Median       3Q      Max  \n",
       "-5.2208  -1.0322  -0.1716   0.7908   4.8250  \n",
       "\n",
       "Coefficients:\n",
       "            Estimate Std. Error t value Pr(>|t|)    \n",
       "(Intercept)  2.52416    0.02625  96.142   <2e-16 ***\n",
       "pollutant    0.04400    0.01211   3.635    3e-04 ***\n",
       "---\n",
       "Signif. codes:  0 '***' 0.001 '**' 0.01 '*' 0.05 '.' 0.1 ' ' 1\n",
       "\n",
       "(Dispersion parameter for quasipoisson family taken to be 2.01246)\n",
       "\n",
       "    Null deviance: 1362.5  on 666  degrees of freedom\n",
       "Residual deviance: 1337.5  on 665  degrees of freedom\n",
       "AIC: NA\n",
       "\n",
       "Number of Fisher Scoring iterations: 4\n"
      ]
     },
     "metadata": {},
     "output_type": "display_data"
    },
    {
     "ename": "ERROR",
     "evalue": "Error in ci.lin(model4, subset = \"pollutant\", Exp = T): could not find function \"ci.lin\"\n",
     "output_type": "error",
     "traceback": [
      "Error in ci.lin(model4, subset = \"pollutant\", Exp = T): could not find function \"ci.lin\"\nTraceback:\n"
     ]
    }
   ],
   "source": [
    "# UNADJUSTED MODEL\n",
    "model4 <- glm(target ~ pollutant,data,family=quasipoisson)\n",
    "summary(model4)\n",
    "(eff4 <- ci.lin(model4,subset=\"pollutant\",Exp=T))\n",
    "\n",
    "# CONTROLLING FOR SEASONALITY (WITH FOURRIER AS IN MODEL 2)\n",
    "# model5 <- update(model4,.~.+fourier)\n",
    "model5 <- update(model4,.~.+fourier)\n",
    "summary(model5)\n",
    "(eff5 <- ci.lin(model5,subset=\"pollutant\",Exp=T))"
   ]
  },
  {
   "cell_type": "code",
   "execution_count": 12,
   "metadata": {},
   "outputs": [
    {
     "data": {
      "text/plain": [
       "\n",
       "Call:\n",
       "glm(formula = target ~ pollutant, family = quasipoisson, data = data)\n",
       "\n",
       "Deviance Residuals: \n",
       "    Min       1Q   Median       3Q      Max  \n",
       "-5.2208  -1.0322  -0.1716   0.7908   4.8250  \n",
       "\n",
       "Coefficients:\n",
       "            Estimate Std. Error t value Pr(>|t|)    \n",
       "(Intercept)  2.52416    0.02625  96.142   <2e-16 ***\n",
       "pollutant    0.04400    0.01211   3.635    3e-04 ***\n",
       "---\n",
       "Signif. codes:  0 '***' 0.001 '**' 0.01 '*' 0.05 '.' 0.1 ' ' 1\n",
       "\n",
       "(Dispersion parameter for quasipoisson family taken to be 2.01246)\n",
       "\n",
       "    Null deviance: 1362.5  on 666  degrees of freedom\n",
       "Residual deviance: 1337.5  on 665  degrees of freedom\n",
       "AIC: NA\n",
       "\n",
       "Number of Fisher Scoring iterations: 4\n"
      ]
     },
     "metadata": {},
     "output_type": "display_data"
    },
    {
     "ename": "ERROR",
     "evalue": "Error in ci.lin(model4, subset = \"pollutant\", Exp = T): could not find function \"ci.lin\"\n",
     "output_type": "error",
     "traceback": [
      "Error in ci.lin(model4, subset = \"pollutant\", Exp = T): could not find function \"ci.lin\"\nTraceback:\n"
     ]
    }
   ],
   "source": [
    "# UNADJUSTED MODEL\n",
    "model4 <- glm(target ~ pollutant,data,family=quasipoisson)\n",
    "summary(model4)\n",
    "(eff4 <- ci.lin(model4,subset=\"pollutant\",Exp=T))\n",
    "\n",
    "# CONTROLLING FOR SEASONALITY (WITH SPLINE AS IN MODEL 3)\n",
    "# model5 <- update(model4,.~.+fourier)\n",
    "model5 <- update(model4,.~.+spl)\n",
    "summary(model5)\n",
    "(eff5 <- ci.lin(model5,subset=\"pollutant\",Exp=T))"
   ]
  },
  {
   "cell_type": "code",
   "execution_count": 13,
   "metadata": {},
   "outputs": [
    {
     "data": {
      "text/plain": [
       "\n",
       "Call:\n",
       "glm(formula = target ~ pollutant + fourier + tempdecile, family = quasipoisson, \n",
       "    data = data)\n",
       "\n",
       "Deviance Residuals: \n",
       "    Min       1Q   Median       3Q      Max  \n",
       "-4.8493  -0.9050  -0.1058   0.7351   3.3800  \n",
       "\n",
       "Coefficients:\n",
       "                       Estimate Std. Error t value Pr(>|t|)    \n",
       "(Intercept)            2.590945   0.052582  49.274  < 2e-16 ***\n",
       "pollutant             -0.002803   0.011704  -0.240 0.810783    \n",
       "fourier1              -0.117681   0.030176  -3.900 0.000106 ***\n",
       "fourier2              -0.016919   0.021167  -0.799 0.424408    \n",
       "fourier3               0.079340   0.018451   4.300 1.97e-05 ***\n",
       "fourier4              -0.227183   0.022038 -10.309  < 2e-16 ***\n",
       "fourier5               0.055661   0.019334   2.879 0.004121 ** \n",
       "fourier6               0.011431   0.018602   0.614 0.539120    \n",
       "tempdecile(2.2,4.7]   -0.101546   0.055634  -1.825 0.068424 .  \n",
       "tempdecile(4.7,6.1]   -0.003774   0.055342  -0.068 0.945648    \n",
       "tempdecile(6.1,7.74]   0.034259   0.058969   0.581 0.561471    \n",
       "tempdecile(7.74,9.3]  -0.061269   0.061322  -0.999 0.318097    \n",
       "tempdecile(9.3,10.8]   0.053085   0.063221   0.840 0.401403    \n",
       "tempdecile(10.8,12]   -0.031065   0.070014  -0.444 0.657413    \n",
       "tempdecile(12,13.5]    0.043177   0.070731   0.610 0.541787    \n",
       "tempdecile(13.5,14.9] -0.026782   0.074022  -0.362 0.717613    \n",
       "tempdecile(14.9,19.8] -0.090935   0.081625  -1.114 0.265661    \n",
       "---\n",
       "Signif. codes:  0 '***' 0.001 '**' 0.01 '*' 0.05 '.' 0.1 ' ' 1\n",
       "\n",
       "(Dispersion parameter for quasipoisson family taken to be 1.491768)\n",
       "\n",
       "    Null deviance: 1362.46  on 666  degrees of freedom\n",
       "Residual deviance:  985.47  on 650  degrees of freedom\n",
       "AIC: NA\n",
       "\n",
       "Number of Fisher Scoring iterations: 4\n"
      ]
     },
     "metadata": {},
     "output_type": "display_data"
    },
    {
     "ename": "ERROR",
     "evalue": "Error in ci.lin(model6, subset = \"pollutant\", Exp = T): could not find function \"ci.lin\"\n",
     "output_type": "error",
     "traceback": [
      "Error in ci.lin(model6, subset = \"pollutant\", Exp = T): could not find function \"ci.lin\"\nTraceback:\n"
     ]
    }
   ],
   "source": [
    "# CONTROLLING FOR TEMPERATURE\n",
    "# (TEMPERATURE MODELLED WITH CATEGORICAL VARIABLES FOR DECILES)\n",
    "# (MORE SOPHISTICATED APPROACHES ARE AVAILABLE - SEE ARMSTRONG EPIDEMIOLOGY 2006)\n",
    "cutoffs <- quantile(data$temperature,probs=0:10/10)\n",
    "tempdecile <- cut(data$temperature,breaks=cutoffs,include.lowest=TRUE)\n",
    "model6 <- update(model5,.~.+tempdecile)\n",
    "summary(model6)\n",
    "(eff6 <- ci.lin(model6,subset=\"pollutant\",Exp=T))\n",
    "\n",
    "# BUILD A SUMMARY TABLE WITH EFFECT AS PERCENT INCREASE\n",
    "tabeff <- rbind(eff4,eff5,eff6)[,5:7]\n",
    "tabeff <- (tabeff-1)*100\n",
    "dimnames(tabeff) <- list(c(\"Unadjusted\",\"Plus season/trend\",\"Plus temperature\"),\n",
    "  c(\"RR\",\"ci.low\",\"ci.hi\"))\n",
    "round(tabeff,2)"
   ]
  },
  {
   "cell_type": "code",
   "execution_count": 14,
   "metadata": {
    "scrolled": true
   },
   "outputs": [
    {
     "ename": "ERROR",
     "evalue": "Error in ci.lin(mod, subset = \"pollutantlag\", Exp = T): could not find function \"ci.lin\"\n",
     "output_type": "error",
     "traceback": [
      "Error in ci.lin(mod, subset = \"pollutantlag\", Exp = T): could not find function \"ci.lin\"\nTraceback:\n"
     ]
    }
   ],
   "source": [
    "################################################################################\n",
    "# EXPLORING THE LAGGED (DELAYED) EFFECTS\n",
    "############################################\n",
    "\n",
    "#####################\n",
    "# SINGLE-LAG MODELS\n",
    "#####################\n",
    "\n",
    "# PREPARE THE TABLE WITH ESTIMATES\n",
    "tablag <- matrix(NA,7+1,3,dimnames=list(paste(\"Lag\",0:7),\n",
    "  c(\"RR\",\"ci.low\",\"ci.hi\")))\n",
    "\n",
    "# RUN THE LOOP\n",
    "for(i in 0:7) {\n",
    "  # LAG OZONE AND TEMPERATURE VARIABLES\n",
    "  pollutantlag <- Lag(data$pollutant,i)\n",
    "  tempdecilelag <- cut(Lag(data$temperature,i),breaks=cutoffs,\n",
    "    include.lowest=TRUE)\n",
    "  # DEFINE THE TRANSFORMATION FOR TEMPERATURE\n",
    "  # LAG SAME AS ABOVE, BUT WITH STRATA TERMS INSTEAD THAN LINEAR\n",
    "  mod <- glm(target ~ pollutantlag + tempdecilelag + spl,data,\n",
    "    family=quasipoisson)\n",
    "  tablag[i+1,] <- ci.lin(mod,subset=\"pollutantlag\",Exp=T)[5:7]\n",
    "}\n",
    "tablag\n",
    "\n",
    "#############\n",
    "# FIGURE 4A\n",
    "#############\n",
    "\n",
    "plot(0:7,0:7,type=\"n\",ylim=c(0.99,1.03),main=\"Lag terms modelled one at a time\",\n",
    "  xlab=\"Lag (days)\",ylab=\"RR and 95%CI per 10ug/m3 ozone increase\")\n",
    "abline(h=1)\n",
    "arrows(0:7,tablag[,2],0:7,tablag[,3],length=0.05,angle=90,code=3)\n",
    "points(0:7,tablag[,1],pch=19)"
   ]
  },
  {
   "cell_type": "code",
   "execution_count": 15,
   "metadata": {},
   "outputs": [
    {
     "name": "stdout",
     "output_type": "stream",
     "text": [
      "package 'dlnm' successfully unpacked and MD5 sums checked\n",
      "\n",
      "The downloaded binary packages are in\n",
      "\tC:\\Users\\bjk1y13\\AppData\\Local\\Temp\\RtmpiwFGoe\\downloaded_packages\n"
     ]
    },
    {
     "name": "stderr",
     "output_type": "stream",
     "text": [
      "Warning message:\n",
      "\"package 'dlnm' was built under R version 3.5.3\"This is dlnm 2.3.9. For details: help(dlnm) and vignette('dlnmOverview').\n"
     ]
    }
   ],
   "source": [
    "#####################\n",
    "# UNCONSTRAINED DLM\n",
    "#####################\n",
    "\n",
    "# FACILITATED BY THE FUNCTIONS IN PACKAGE dlnm, TO BE DOWNLOADED AND LOADED\n",
    "install.packages(\"dlnm\", repos='http://cran.us.r-project.org')\n",
    "\n",
    "library(dlnm)"
   ]
  },
  {
   "cell_type": "code",
   "execution_count": 16,
   "metadata": {},
   "outputs": [
    {
     "name": "stderr",
     "output_type": "stream",
     "text": [
      "Warning message in checkcrossbasis(argvar, arglag, list(...)):\n",
      "\"argument 'type' replaced by 'fun'. See ?onebasis\"Warning message in checkcrossbasis(argvar, arglag, list(...)):\n",
      "\"argument 'type' replaced by 'fun'. See ?onebasis\"Warning message in checkonebasis(fun, args, cen):\n",
      "\"centering through 'cen' now applied at the prediction stage. See ?crosspred\""
     ]
    },
    {
     "name": "stdout",
     "output_type": "stream",
     "text": [
      "CROSSBASIS FUNCTIONS\n",
      "observations: 667 \n",
      "range: 0 to 14 \n",
      "lag period: 0 7 \n",
      "total df:  8 \n",
      "\n",
      "BASIS FOR VAR:\n",
      "fun: lin \n",
      "intercept: FALSE \n",
      "\n",
      "BASIS FOR LAG:\n",
      "fun: integer \n",
      "values: 0 1 2 3 4 5 6 ... \n",
      "intercept: TRUE \n",
      "\n"
     ]
    },
    {
     "name": "stderr",
     "output_type": "stream",
     "text": [
      "Warning message in checkcrossbasis(argvar, arglag, list(...)):\n",
      "\"argument 'type' replaced by 'fun'. See ?onebasis\"Warning message in checkcrossbasis(argvar, arglag, list(...)):\n",
      "\"argument 'type' replaced by 'fun'. See ?onebasis\"Warning message in checkonebasis(fun, args, cen):\n",
      "\"argument 'knots' replaced by 'breaks' in function strata. See ?strata\""
     ]
    },
    {
     "name": "stdout",
     "output_type": "stream",
     "text": [
      "CROSSBASIS FUNCTIONS\n",
      "observations: 667 \n",
      "range: -2.4 to 19.8 \n",
      "lag period: 0 7 \n",
      "total df:  72 \n",
      "\n",
      "BASIS FOR VAR:\n",
      "fun: strata \n",
      "df: 9 \n",
      "breaks: 2.2 4.7 6.1 7.74 9.3 10.8 12.02 ... \n",
      "ref: 1 \n",
      "intercept: FALSE \n",
      "\n",
      "BASIS FOR LAG:\n",
      "fun: integer \n",
      "values: 0 1 2 3 4 5 6 ... \n",
      "intercept: TRUE \n",
      "\n"
     ]
    },
    {
     "data": {
      "text/html": [
       "<table>\n",
       "<thead><tr><th></th><th scope=col>RR</th><th scope=col>ci.low</th><th scope=col>ci.hi</th></tr></thead>\n",
       "<tbody>\n",
       "\t<tr><th scope=row>lag0</th><td>0.9670805</td><td>0.7504579</td><td>1.246232 </td></tr>\n",
       "\t<tr><th scope=row>lag1</th><td>0.9034271</td><td>0.6926113</td><td>1.178411 </td></tr>\n",
       "\t<tr><th scope=row>lag2</th><td>1.0027654</td><td>0.7743275</td><td>1.298596 </td></tr>\n",
       "\t<tr><th scope=row>lag3</th><td>1.0191044</td><td>0.7809099</td><td>1.329953 </td></tr>\n",
       "\t<tr><th scope=row>lag4</th><td>1.1420473</td><td>0.8799209</td><td>1.482260 </td></tr>\n",
       "\t<tr><th scope=row>lag5</th><td>1.1509045</td><td>0.8938692</td><td>1.481851 </td></tr>\n",
       "\t<tr><th scope=row>lag6</th><td>1.0561695</td><td>0.8146068</td><td>1.369365 </td></tr>\n",
       "\t<tr><th scope=row>lag7</th><td>1.0751044</td><td>0.8342134</td><td>1.385556 </td></tr>\n",
       "</tbody>\n",
       "</table>\n"
      ],
      "text/latex": [
       "\\begin{tabular}{r|lll}\n",
       "  & RR & ci.low & ci.hi\\\\\n",
       "\\hline\n",
       "\tlag0 & 0.9670805 & 0.7504579 & 1.246232 \\\\\n",
       "\tlag1 & 0.9034271 & 0.6926113 & 1.178411 \\\\\n",
       "\tlag2 & 1.0027654 & 0.7743275 & 1.298596 \\\\\n",
       "\tlag3 & 1.0191044 & 0.7809099 & 1.329953 \\\\\n",
       "\tlag4 & 1.1420473 & 0.8799209 & 1.482260 \\\\\n",
       "\tlag5 & 1.1509045 & 0.8938692 & 1.481851 \\\\\n",
       "\tlag6 & 1.0561695 & 0.8146068 & 1.369365 \\\\\n",
       "\tlag7 & 1.0751044 & 0.8342134 & 1.385556 \\\\\n",
       "\\end{tabular}\n"
      ],
      "text/markdown": [
       "\n",
       "| <!--/--> | RR | ci.low | ci.hi |\n",
       "|---|---|---|---|\n",
       "| lag0 | 0.9670805 | 0.7504579 | 1.246232  |\n",
       "| lag1 | 0.9034271 | 0.6926113 | 1.178411  |\n",
       "| lag2 | 1.0027654 | 0.7743275 | 1.298596  |\n",
       "| lag3 | 1.0191044 | 0.7809099 | 1.329953  |\n",
       "| lag4 | 1.1420473 | 0.8799209 | 1.482260  |\n",
       "| lag5 | 1.1509045 | 0.8938692 | 1.481851  |\n",
       "| lag6 | 1.0561695 | 0.8146068 | 1.369365  |\n",
       "| lag7 | 1.0751044 | 0.8342134 | 1.385556  |\n",
       "\n"
      ],
      "text/plain": [
       "     RR        ci.low    ci.hi   \n",
       "lag0 0.9670805 0.7504579 1.246232\n",
       "lag1 0.9034271 0.6926113 1.178411\n",
       "lag2 1.0027654 0.7743275 1.298596\n",
       "lag3 1.0191044 0.7809099 1.329953\n",
       "lag4 1.1420473 0.8799209 1.482260\n",
       "lag5 1.1509045 0.8938692 1.481851\n",
       "lag6 1.0561695 0.8146068 1.369365\n",
       "lag7 1.0751044 0.8342134 1.385556"
      ]
     },
     "metadata": {},
     "output_type": "display_data"
    },
    {
     "data": {
      "text/html": [
       "<strong>10:</strong> 1.33254346642217"
      ],
      "text/latex": [
       "\\textbf{10:} 1.33254346642217"
      ],
      "text/markdown": [
       "**10:** 1.33254346642217"
      ],
      "text/plain": [
       "      10 \n",
       "1.332543 "
      ]
     },
     "metadata": {},
     "output_type": "display_data"
    },
    {
     "data": {
      "text/html": [
       "<strong>10:</strong> 0.775842398097352"
      ],
      "text/latex": [
       "\\textbf{10:} 0.775842398097352"
      ],
      "text/markdown": [
       "**10:** 0.775842398097352"
      ],
      "text/plain": [
       "       10 \n",
       "0.7758424 "
      ]
     },
     "metadata": {},
     "output_type": "display_data"
    },
    {
     "data": {
      "text/html": [
       "<strong>10:</strong> 2.28870205374055"
      ],
      "text/latex": [
       "\\textbf{10:} 2.28870205374055"
      ],
      "text/markdown": [
       "**10:** 2.28870205374055"
      ],
      "text/plain": [
       "      10 \n",
       "2.288702 "
      ]
     },
     "metadata": {},
     "output_type": "display_data"
    },
    {
     "data": {
      "image/png": "[encoded data removed]",
      "text/plain": [
       "Plot with title \"All lag terms modelled together (unconstrained)\""
      ]
     },
     "metadata": {},
     "output_type": "display_data"
    }
   ],
   "source": [
    "# IN PARTICULAR, THE FUNCTION crossbasis PRODUCES THE TRANSFORMATION FOR \n",
    "#   SPECIFIC LAG STRUCTURES AND OPTIONALLY FOR NON-LINEARITY\n",
    "# THE FUNCTION crosspred INSTEAD PREDICTS ESTIMATED EFFECTS\n",
    "\n",
    "# PRODUCE THE CROSS-BASIS FOR OZONE (SCALING NOT NEEDED)\n",
    "# A SIMPLE UNSTRANSFORMED LINEAR TERM AND THE UNCONSTRAINED LAG STRUCTURE\n",
    "cbo3unc <- crossbasis(data$pollutant,lag=c(0,7),argvar=list(type=\"lin\",cen=FALSE),\n",
    "  arglag=list(type=\"integer\"))\n",
    "summary(cbo3unc)\n",
    "\n",
    "# PRODUCE THE CROSS-BASIS FOR TEMPERATURE\n",
    "# AS ABOVE, BUT WITH STRATA DEFINED BY INTERNAL CUT-OFFS\n",
    "cbtempunc <- crossbasis(data$temperature,lag=c(0,7),\n",
    "  argvar=list(type=\"strata\",knots=cutoffs[2:10]),\n",
    "  arglag=list(type=\"integer\"))\n",
    "summary(cbtempunc)\n",
    "\n",
    "# RUN THE MODEL AND OBTAIN PREDICTIONS FOR OZONE LEVEL 10ug/m3\n",
    "model7 <- glm(target ~ cbo3unc + cbtempunc + fourier,data,family=quasipoisson)\n",
    "pred7 <- crosspred(cbo3unc,model7,at=10)\n",
    "\n",
    "# ESTIMATED EFFECTS AT EACH LAG\n",
    "tablag2 <- with(pred7,t(rbind(matRRfit,matRRlow,matRRhigh)))\n",
    "colnames(tablag2) <- c(\"RR\",\"ci.low\",\"ci.hi\")\n",
    "tablag2\n",
    "\n",
    "# OVERALL CUMULATIVE (NET) EFFECT\n",
    "pred7$allRRfit ; pred7$allRRlow ; pred7$allRRhigh\n",
    "\n",
    "#############\n",
    "# FIGURE 4B\n",
    "#############\n",
    "#ylim=c(0.99,1.03)\n",
    "plot(pred7,var=10,type=\"p\",ci=\"bars\",col=1,pch=19,\n",
    "  main=\"All lag terms modelled together (unconstrained)\",xlab=\"Lag (days)\",\n",
    "  ylab=\"RR and 95%CI per 10ug/m3 ozone increase\")"
   ]
  },
  {
   "cell_type": "code",
   "execution_count": 17,
   "metadata": {},
   "outputs": [
    {
     "name": "stderr",
     "output_type": "stream",
     "text": [
      "Warning message in checkcrossbasis(argvar, arglag, list(...)):\n",
      "\"argument 'type' replaced by 'fun'. See ?onebasis\"Warning message in checkcrossbasis(argvar, arglag, list(...)):\n",
      "\"argument 'type' replaced by 'fun'. See ?onebasis\"Warning message in checkonebasis(fun, args, cen):\n",
      "\"centering through 'cen' now applied at the prediction stage. See ?crosspred\"Warning message in checkonebasis(fun, args, cen):\n",
      "\"argument 'knots' replaced by 'breaks' in function strata. See ?strata\""
     ]
    },
    {
     "name": "stdout",
     "output_type": "stream",
     "text": [
      "CROSSBASIS FUNCTIONS\n",
      "observations: 667 \n",
      "range: 0 to 14 \n",
      "lag period: 0 7 \n",
      "total df:  3 \n",
      "\n",
      "BASIS FOR VAR:\n",
      "fun: lin \n",
      "intercept: FALSE \n",
      "\n",
      "BASIS FOR LAG:\n",
      "fun: strata \n",
      "df: 3 \n",
      "breaks: 1 3 \n",
      "ref: 1 \n",
      "intercept: TRUE \n",
      "\n"
     ]
    },
    {
     "data": {
      "text/html": [
       "<table>\n",
       "<thead><tr><th></th><th scope=col>RR</th><th scope=col>ci.low</th><th scope=col>ci.hi</th></tr></thead>\n",
       "<tbody>\n",
       "\t<tr><th scope=row>lag0</th><td>0.9601934</td><td>0.7427170</td><td>1.241349 </td></tr>\n",
       "\t<tr><th scope=row>lag1</th><td>0.9244995</td><td>0.7773234</td><td>1.099542 </td></tr>\n",
       "\t<tr><th scope=row>lag2</th><td>0.9244995</td><td>0.7773234</td><td>1.099542 </td></tr>\n",
       "\t<tr><th scope=row>lag3</th><td>1.0437538</td><td>0.9418365</td><td>1.156700 </td></tr>\n",
       "\t<tr><th scope=row>lag4</th><td>1.0437538</td><td>0.9418365</td><td>1.156700 </td></tr>\n",
       "\t<tr><th scope=row>lag5</th><td>1.0437538</td><td>0.9418365</td><td>1.156700 </td></tr>\n",
       "\t<tr><th scope=row>lag6</th><td>1.0437538</td><td>0.9418365</td><td>1.156700 </td></tr>\n",
       "\t<tr><th scope=row>lag7</th><td>1.0437538</td><td>0.9418365</td><td>1.156700 </td></tr>\n",
       "</tbody>\n",
       "</table>\n"
      ],
      "text/latex": [
       "\\begin{tabular}{r|lll}\n",
       "  & RR & ci.low & ci.hi\\\\\n",
       "\\hline\n",
       "\tlag0 & 0.9601934 & 0.7427170 & 1.241349 \\\\\n",
       "\tlag1 & 0.9244995 & 0.7773234 & 1.099542 \\\\\n",
       "\tlag2 & 0.9244995 & 0.7773234 & 1.099542 \\\\\n",
       "\tlag3 & 1.0437538 & 0.9418365 & 1.156700 \\\\\n",
       "\tlag4 & 1.0437538 & 0.9418365 & 1.156700 \\\\\n",
       "\tlag5 & 1.0437538 & 0.9418365 & 1.156700 \\\\\n",
       "\tlag6 & 1.0437538 & 0.9418365 & 1.156700 \\\\\n",
       "\tlag7 & 1.0437538 & 0.9418365 & 1.156700 \\\\\n",
       "\\end{tabular}\n"
      ],
      "text/markdown": [
       "\n",
       "| <!--/--> | RR | ci.low | ci.hi |\n",
       "|---|---|---|---|\n",
       "| lag0 | 0.9601934 | 0.7427170 | 1.241349  |\n",
       "| lag1 | 0.9244995 | 0.7773234 | 1.099542  |\n",
       "| lag2 | 0.9244995 | 0.7773234 | 1.099542  |\n",
       "| lag3 | 1.0437538 | 0.9418365 | 1.156700  |\n",
       "| lag4 | 1.0437538 | 0.9418365 | 1.156700  |\n",
       "| lag5 | 1.0437538 | 0.9418365 | 1.156700  |\n",
       "| lag6 | 1.0437538 | 0.9418365 | 1.156700  |\n",
       "| lag7 | 1.0437538 | 0.9418365 | 1.156700  |\n",
       "\n"
      ],
      "text/plain": [
       "     RR        ci.low    ci.hi   \n",
       "lag0 0.9601934 0.7427170 1.241349\n",
       "lag1 0.9244995 0.7773234 1.099542\n",
       "lag2 0.9244995 0.7773234 1.099542\n",
       "lag3 1.0437538 0.9418365 1.156700\n",
       "lag4 1.0437538 0.9418365 1.156700\n",
       "lag5 1.0437538 0.9418365 1.156700\n",
       "lag6 1.0437538 0.9418365 1.156700\n",
       "lag7 1.0437538 0.9418365 1.156700"
      ]
     },
     "metadata": {},
     "output_type": "display_data"
    },
    {
     "data": {
      "text/html": [
       "<strong>10:</strong> 1.01662877060096"
      ],
      "text/latex": [
       "\\textbf{10:} 1.01662877060096"
      ],
      "text/markdown": [
       "**10:** 1.01662877060096"
      ],
      "text/plain": [
       "      10 \n",
       "1.016629 "
      ]
     },
     "metadata": {},
     "output_type": "display_data"
    },
    {
     "data": {
      "text/html": [
       "<strong>10:</strong> 0.527484334804509"
      ],
      "text/latex": [
       "\\textbf{10:} 0.527484334804509"
      ],
      "text/markdown": [
       "**10:** 0.527484334804509"
      ],
      "text/plain": [
       "       10 \n",
       "0.5274843 "
      ]
     },
     "metadata": {},
     "output_type": "display_data"
    },
    {
     "data": {
      "text/html": [
       "<strong>10:</strong> 1.95936445694954"
      ],
      "text/latex": [
       "\\textbf{10:} 1.95936445694954"
      ],
      "text/markdown": [
       "**10:** 1.95936445694954"
      ],
      "text/plain": [
       "      10 \n",
       "1.959364 "
      ]
     },
     "metadata": {},
     "output_type": "display_data"
    },
    {
     "data": {
      "image/png": "[encoded data removed]",
      "text/plain": [
       "Plot with title \"All lag terms modelled together (with costraints)\""
      ]
     },
     "metadata": {},
     "output_type": "display_data"
    }
   ],
   "source": [
    "####################################\n",
    "# CONSTRAINED (LAG-STRATIFIED) DLM\n",
    "####################################\n",
    "\n",
    "# PRODUCE A DIFFERENT CROSS-BASIS FOR OZONE\n",
    "# USE STRATA FOR LAG STRUCTURE, WITH CUT-OFFS DEFINING RIGHT-OPEN INTERVALS \n",
    "cbo3constr <- crossbasis(data$pollutant,lag=c(0,7),argvar=list(type=\"lin\",cen=FALSE),\n",
    "  arglag=list(type=\"strata\",knots=c(1,3)))\n",
    "summary(cbo3constr)\n",
    "\n",
    "# RUN THE MODEL AND OBTAIN PREDICTIONS FOR OZONE LEVEL 10ug/m3\n",
    "model8 <- glm(target ~ cbo3constr + cbtempunc + spl,data,family=quasipoisson)\n",
    "pred8 <- crosspred(cbo3constr,model8,at=10)\n",
    "\n",
    "# ESTIMATED EFFECTS AT EACH LAG\n",
    "tablag3 <- with(pred8,t(rbind(matRRfit,matRRlow,matRRhigh)))\n",
    "colnames(tablag3) <- c(\"RR\",\"ci.low\",\"ci.hi\")\n",
    "tablag3\n",
    "\n",
    "# OVERALL CUMULATIVE (NET) EFFECT\n",
    "pred8$allRRfit ; pred8$allRRlow ; pred8$allRRhigh\n",
    "\n",
    "#############\n",
    "# FIGURE 4C\n",
    "#############\n",
    "\n",
    "plot(pred8,var=10,type=\"p\",ci=\"bars\",col=1,pch=19,\n",
    "  main=\"All lag terms modelled together (with costraints)\",xlab=\"Lag (days)\",\n",
    "  ylab=\"RR and 95%CI per 10ug/m3 ozone increase\")"
   ]
  },
  {
   "cell_type": "code",
   "execution_count": 18,
   "metadata": {},
   "outputs": [
    {
     "data": {
      "image/png": "[encoded data removed]",
      "text/plain": [
       "Plot with title \"Residuals over time\""
      ]
     },
     "metadata": {},
     "output_type": "display_data"
    },
    {
     "data": {
      "image/png": "[encoded data removed]",
      "text/plain": [
       "Plot with title \"From original model\""
      ]
     },
     "metadata": {},
     "output_type": "display_data"
    },
    {
     "data": {
      "image/png": "[encoded data removed]",
      "text/plain": [
       "Plot with title \"From model adjusted for residual autocorrelation\""
      ]
     },
     "metadata": {},
     "output_type": "display_data"
    }
   ],
   "source": [
    "################################################################################\n",
    "# MODEL CHECKING\n",
    "##################\n",
    "\n",
    "# GENERATE DEVIANCE RESIDUALS FROM UNCONSTRAINED DISTRIBUTED LAG MODEL\n",
    "res7 <- residuals(model7,type=\"deviance\")\n",
    "\n",
    "#############\n",
    "# FIGURE A1\n",
    "#############\n",
    "\n",
    "plot(data$date,res7,ylim=c(-5,10),pch=19,cex=0.7,col=grey(0.6),\n",
    "  main=\"Residuals over time\",ylab=\"Deviance residuals\",xlab=\"Date\")\n",
    "abline(h=0,lty=2,lwd=2)\n",
    "\n",
    "#############################\n",
    "# FIGURE A2a\n",
    "#############################\n",
    "\n",
    "pacf(res7,na.action=na.omit,main=\"From original model\")\n",
    "\n",
    "# INCLUDE THE 1-DAY LAGGED RESIDUAL IN THE MODEL\n",
    "model9 <- update(model7,.~.+Lag(res7,1))\n",
    "\n",
    "#############################\n",
    "# FIGURE A2b\n",
    "#############################\n",
    "\n",
    "pacf(residuals(model9,type=\"deviance\"),na.action=na.omit,\n",
    "  main=\"From model adjusted for residual autocorrelation\")\n",
    "\n",
    "#"
   ]
  },
  {
   "cell_type": "code",
   "execution_count": null,
   "metadata": {},
   "outputs": [],
   "source": []
  },
  {
   "cell_type": "code",
   "execution_count": null,
   "metadata": {},
   "outputs": [],
   "source": []
  }
 ],
 "metadata": {
  "anaconda-cloud": {},
  "kernelspec": {
   "display_name": "R [conda env:R]",
   "language": "R",
   "name": "conda-env-R-r"
  },
  "language_info": {
   "codemirror_mode": "r",
   "file_extension": ".r",
   "mimetype": "text/x-r-source",
   "name": "R",
   "pygments_lexer": "r",
   "version": "3.5.1"
  }
 },
 "nbformat": 4,
 "nbformat_minor": 2
}

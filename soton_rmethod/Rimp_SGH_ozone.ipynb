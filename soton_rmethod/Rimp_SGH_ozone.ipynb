{
 "cells": [
  {
   "cell_type": "code",
   "execution_count": 19,
   "metadata": {},
   "outputs": [],
   "source": [
    "################################################################################\n",
    "# R CODE INCLUDED AS SUPPLEMENTARY ONLINE MATERIAL FOR:\n",
    "#   \"Time series regression studies in environmental epidemiology\"\n",
    "#   Bhaskaran K, ....\n",
    "################################################################################\n",
    "\n",
    "# LOAD THE DATA INTO THE SESSION\n",
    "# (THE DATA ARE STORED IN A STATA'S .dta FILE)\n",
    "# (THE FUNCTION read.dta IN THE PACKAGE foreign CAN DO THE JOB)\n",
    "# (THE PACKAGE IS NOT PRE-LOADED INTO THE SESSION AND NEEDS TO BE LOADED)\n",
    "library(foreign)\n",
    "#data <- read.dta(\"ije-2012-10-0989-File003.dta\")\n",
    "data <- read.csv(file=\"./soton_aquality.csv\", header=TRUE, sep=\",\")\n",
    "\n",
    "# SET THE DEFAULT ACTION FOR MISSING DATA TO na.exclude\n",
    "# (MISSING EXCLUDED IN ESTIMATION BUT RE-INSERTED IN PREDICTION/RESIDUALS)\n",
    "options(na.action=\"na.exclude\")\n",
    "\n",
    "# CONVERT DATE COLUMN TO DATE FORMAT\n",
    "data$date <- as.Date(data$date, format = \"%Y-%m-%d\")\n",
    "\n",
    "# CHOOSE VARIABLES\n",
    "data$target <- data$total_ed_attendance\n",
    "data$pollutant <- data$ozone_ug_m3\n",
    "data$temperature <- data$air_temp_min"
   ]
  },
  {
   "cell_type": "markdown",
   "metadata": {},
   "source": [
    "data"
   ]
  },
  {
   "cell_type": "code",
   "execution_count": 20,
   "metadata": {},
   "outputs": [
    {
     "data": {
      "text/plain": [
       "      date                   date.1    total_ed_attendance\n",
       " Min.   :2014-06-04   2014-06-04:  1   Min.   : 0.00      \n",
       " 1st Qu.:2014-11-17   2014-06-05:  1   1st Qu.:10.00      \n",
       " Median :2015-05-03   2014-06-06:  1   Median :13.00      \n",
       " Mean   :2015-05-03   2014-06-07:  1   Mean   :13.48      \n",
       " 3rd Qu.:2015-10-16   2014-06-08:  1   3rd Qu.:16.00      \n",
       " Max.   :2016-03-31   2014-06-09:  1   Max.   :35.00      \n",
       "                      (Other)   :661                      \n",
       " total_admissions_from_ed  air_temp_ave    air_temp_min    air_temp_max  \n",
       " Min.   : 0.000           Min.   : 0.50   Min.   :-2.40   Min.   : 3.00  \n",
       " 1st Qu.: 6.000           1st Qu.: 8.10   1st Qu.: 5.40   1st Qu.:10.90  \n",
       " Median : 8.000           Median :12.00   Median : 9.30   Median :14.30  \n",
       " Mean   : 8.438           Mean   :11.75   Mean   : 8.97   Mean   :14.55  \n",
       " 3rd Qu.:11.000           3rd Qu.:15.60   3rd Qu.:12.75   3rd Qu.:18.55  \n",
       " Max.   :24.000           Max.   :22.90   Max.   :19.80   Max.   :29.80  \n",
       "                                                                         \n",
       " relative_humidity_percrh   pm10_ugm3       pm2_5_ugm3   \n",
       " Min.   :40.20            Min.   : 5.00   Min.   : 1.00  \n",
       " 1st Qu.:75.25            1st Qu.:12.00   1st Qu.: 6.00  \n",
       " Median :82.10            Median :16.00   Median : 9.00  \n",
       " Mean   :81.01            Mean   :17.65   Mean   :11.69  \n",
       " 3rd Qu.:87.40            3rd Qu.:20.00   3rd Qu.:14.00  \n",
       " Max.   :97.40            Max.   :78.00   Max.   :71.00  \n",
       "                                                         \n",
       " nitrogen_dioxide_ug_m3 nitric_oxide_ug_m3  ozone_ug_m3   \n",
       " Min.   : 8.00          Min.   :  1.00     Min.   : 1.00  \n",
       " 1st Qu.:23.00          1st Qu.:  6.00     1st Qu.:27.00  \n",
       " Median :30.00          Median : 10.00     Median :37.00  \n",
       " Mean   :31.78          Mean   : 15.71     Mean   :36.51  \n",
       " 3rd Qu.:38.00          3rd Qu.: 17.00     3rd Qu.:46.00  \n",
       " Max.   :98.00          Max.   :347.00     Max.   :84.00  \n",
       "                                                          \n",
       " sulphur_dioxide_ug_m3 pos_virus_perc   phe_resp_virus_tests_total\n",
       " Min.   : 0.000        Min.   :0.0000   Min.   : 0.00             \n",
       " 1st Qu.: 1.000        1st Qu.:0.0000   1st Qu.: 1.00             \n",
       " Median : 1.000        Median :0.1111   Median : 9.00             \n",
       " Mean   : 1.721        Mean   :0.1650   Mean   :11.13             \n",
       " 3rd Qu.: 2.000        3rd Qu.:0.2857   3rd Qu.:18.00             \n",
       " Max.   :14.000        Max.   :1.0000   Max.   :56.00             \n",
       "                                                                  \n",
       "     target        pollutant      temperature   \n",
       " Min.   : 0.00   Min.   : 1.00   Min.   :-2.40  \n",
       " 1st Qu.:10.00   1st Qu.:27.00   1st Qu.: 5.40  \n",
       " Median :13.00   Median :37.00   Median : 9.30  \n",
       " Mean   :13.48   Mean   :36.51   Mean   : 8.97  \n",
       " 3rd Qu.:16.00   3rd Qu.:46.00   3rd Qu.:12.75  \n",
       " Max.   :35.00   Max.   :84.00   Max.   :19.80  \n",
       "                                                "
      ]
     },
     "metadata": {},
     "output_type": "display_data"
    },
    {
     "data": {
      "text/html": [
       "<table>\n",
       "<thead><tr><th></th><th scope=col>total_admissions_from_ed</th><th scope=col>air_temp_ave</th><th scope=col>air_temp_min</th><th scope=col>air_temp_max</th><th scope=col>relative_humidity_percrh</th></tr></thead>\n",
       "<tbody>\n",
       "\t<tr><th scope=row>total_admissions_from_ed</th><td> 1.00000000</td><td>-0.29461913</td><td>-0.2674553 </td><td>-0.30046508</td><td>0.04154038 </td></tr>\n",
       "\t<tr><th scope=row>air_temp_ave</th><td>-0.29461913</td><td> 1.00000000</td><td> 0.9611686 </td><td> 0.96393926</td><td>0.09881439 </td></tr>\n",
       "\t<tr><th scope=row>air_temp_min</th><td>-0.26745525</td><td> 0.96116860</td><td> 1.0000000 </td><td> 0.87477388</td><td>0.10763095 </td></tr>\n",
       "\t<tr><th scope=row>air_temp_max</th><td>-0.30046508</td><td> 0.96393926</td><td> 0.8747739 </td><td> 1.00000000</td><td>0.06158603 </td></tr>\n",
       "\t<tr><th scope=row>relative_humidity_percrh</th><td> 0.04154038</td><td> 0.09881439</td><td> 0.1076310 </td><td> 0.06158603</td><td>1.00000000 </td></tr>\n",
       "</tbody>\n",
       "</table>\n"
      ],
      "text/latex": [
       "\\begin{tabular}{r|lllll}\n",
       "  & total\\_admissions\\_from\\_ed & air\\_temp\\_ave & air\\_temp\\_min & air\\_temp\\_max & relative\\_humidity\\_percrh\\\\\n",
       "\\hline\n",
       "\ttotal\\_admissions\\_from\\_ed &  1.00000000 & -0.29461913 & -0.2674553  & -0.30046508 & 0.04154038 \\\\\n",
       "\tair\\_temp\\_ave & -0.29461913 &  1.00000000 &  0.9611686  &  0.96393926 & 0.09881439 \\\\\n",
       "\tair\\_temp\\_min & -0.26745525 &  0.96116860 &  1.0000000  &  0.87477388 & 0.10763095 \\\\\n",
       "\tair\\_temp\\_max & -0.30046508 &  0.96393926 &  0.8747739  &  1.00000000 & 0.06158603 \\\\\n",
       "\trelative\\_humidity\\_percrh &  0.04154038 &  0.09881439 &  0.1076310  &  0.06158603 & 1.00000000 \\\\\n",
       "\\end{tabular}\n"
      ],
      "text/markdown": [
       "\n",
       "| <!--/--> | total_admissions_from_ed | air_temp_ave | air_temp_min | air_temp_max | relative_humidity_percrh |\n",
       "|---|---|---|---|---|---|\n",
       "| total_admissions_from_ed |  1.00000000 | -0.29461913 | -0.2674553  | -0.30046508 | 0.04154038  |\n",
       "| air_temp_ave | -0.29461913 |  1.00000000 |  0.9611686  |  0.96393926 | 0.09881439  |\n",
       "| air_temp_min | -0.26745525 |  0.96116860 |  1.0000000  |  0.87477388 | 0.10763095  |\n",
       "| air_temp_max | -0.30046508 |  0.96393926 |  0.8747739  |  1.00000000 | 0.06158603  |\n",
       "| relative_humidity_percrh |  0.04154038 |  0.09881439 |  0.1076310  |  0.06158603 | 1.00000000  |\n",
       "\n"
      ],
      "text/plain": [
       "                         total_admissions_from_ed air_temp_ave air_temp_min\n",
       "total_admissions_from_ed  1.00000000              -0.29461913  -0.2674553  \n",
       "air_temp_ave             -0.29461913               1.00000000   0.9611686  \n",
       "air_temp_min             -0.26745525               0.96116860   1.0000000  \n",
       "air_temp_max             -0.30046508               0.96393926   0.8747739  \n",
       "relative_humidity_percrh  0.04154038               0.09881439   0.1076310  \n",
       "                         air_temp_max relative_humidity_percrh\n",
       "total_admissions_from_ed -0.30046508  0.04154038              \n",
       "air_temp_ave              0.96393926  0.09881439              \n",
       "air_temp_min              0.87477388  0.10763095              \n",
       "air_temp_max              1.00000000  0.06158603              \n",
       "relative_humidity_percrh  0.06158603  1.00000000              "
      ]
     },
     "metadata": {},
     "output_type": "display_data"
    },
    {
     "data": {
      "image/png": "[encoded data removed]",
      "text/plain": [
       "Plot with title \"Ozone levels over time\""
      ]
     },
     "metadata": {},
     "output_type": "display_data"
    }
   ],
   "source": [
    "################################################################################\n",
    "# PRELIMINARY ANALYSIS\n",
    "#######################\n",
    "\n",
    "#############\n",
    "# FIGURE 1\n",
    "#############\n",
    "\n",
    "# SET THE PLOTTING PARAMETERS FOR THE PLOT (SEE ?par)\n",
    "oldpar <- par(no.readonly=TRUE)\n",
    "par(mex=0.8,mfrow=c(2,1))\n",
    "\n",
    "# SUB-PLOT FOR DAILY DEATHS, WITH VERTICAL LINES DEFINING YEARS\n",
    "plot(data$date,data$target,pch=\".\",main=\"Daily deaths over time\",\n",
    "  ylab=\"Daily number of deaths\",xlab=\"Date\")\n",
    "abline(v=data$date[grep(\"-01-01\",data$date)],col=grey(0.6),lty=2)\n",
    "\n",
    "# THE SAME FOR OZONE LEVELS\n",
    "plot(data$date,data$pollutant,pch=\".\",main=\"Ozone levels over time\",\n",
    "     ylab=\"Daily mean ozone level (ug/m3)\",xlab=\"Date\")\n",
    "abline(v=data$date[grep(\"-01-01\",data$date)],col=grey(0.6),lty=2)\n",
    "par(oldpar)\n",
    "layout(1)\n",
    "\n",
    "########################\n",
    "# DESCRIPTIVE STATISTICS\n",
    "########################\n",
    "\n",
    "# SUMMARY\n",
    "summary(data)\n",
    "\n",
    "# OTHER USEFUL FUNCTIONS IN THE PACKAGE epicals\n",
    "# (THE PACKAGE IS NOT PRESENT IN THE DEFAULT R INSTALLATION)\n",
    "# (IT NEED TO BE INSTALLED AND THEN LOADED INTO THE SESSION)\n",
    "#install.packages(\"epicalc\") # is this only required for 2 commands below\n",
    "#library(epicalc)\n",
    "#des(data)\n",
    "#summ(data)\n",
    "\n",
    "# CORRELATIONS\n",
    "#cor(data[,2:4])\n",
    "cor(data[,4:8])\n",
    "#################\n",
    "# SCALE EXPOSURE\n",
    "#################\n",
    "\n",
    "#data$ozone10 <- data$ozone/10"
   ]
  },
  {
   "cell_type": "code",
   "execution_count": 21,
   "metadata": {},
   "outputs": [
    {
     "data": {
      "text/plain": [
       "\n",
       "Call:\n",
       "glm(formula = target ~ month/year, family = quasipoisson, data = data)\n",
       "\n",
       "Deviance Residuals: \n",
       "    Min       1Q   Median       3Q      Max  \n",
       "-4.6260  -0.8233  -0.1556   0.6996   3.5610  \n",
       "\n",
       "Coefficients: (14 not defined because of singularities)\n",
       "                  Estimate Std. Error t value Pr(>|t|)    \n",
       "(Intercept)        2.37024    0.06731  35.213  < 2e-16 ***\n",
       "monthAug          -0.16944    0.09862  -1.718 0.086243 .  \n",
       "monthDec           0.56224    0.08384   6.706 4.38e-11 ***\n",
       "monthFeb           0.34010    0.08869   3.835 0.000138 ***\n",
       "monthJan           0.45726    0.08548   5.349 1.23e-07 ***\n",
       "monthJul          -0.03591    0.09527  -0.377 0.706344    \n",
       "monthJun           0.01750    0.09735   0.180 0.857408    \n",
       "monthMar           0.38198    0.08674   4.404 1.25e-05 ***\n",
       "monthMay           0.15935    0.09094   1.752 0.080202 .  \n",
       "monthNov           0.31533    0.08852   3.562 0.000395 ***\n",
       "monthOct           0.13594    0.09142   1.487 0.137523    \n",
       "monthSep          -0.01887    0.09565  -0.197 0.843674    \n",
       "monthApr:year2015       NA         NA      NA       NA    \n",
       "monthAug:year2015  0.14286    0.09847   1.451 0.147332    \n",
       "monthDec:year2015 -0.03319    0.07129  -0.466 0.641680    \n",
       "monthFeb:year2015 -0.13175    0.08531  -1.544 0.122966    \n",
       "monthJan:year2015 -0.12593    0.07697  -1.636 0.102298    \n",
       "monthJul:year2015 -0.01893    0.09580  -0.198 0.843432    \n",
       "monthJun:year2015 -0.02689    0.09757  -0.276 0.782963    \n",
       "monthMar:year2015 -0.17740    0.08103  -2.189 0.028939 *  \n",
       "monthMay:year2015       NA         NA      NA       NA    \n",
       "monthNov:year2015  0.13183    0.07876   1.674 0.094653 .  \n",
       "monthOct:year2015  0.32893    0.08113   4.054 5.64e-05 ***\n",
       "monthSep:year2015  0.32965    0.08909   3.700 0.000234 ***\n",
       "monthApr:year2016       NA         NA      NA       NA    \n",
       "monthAug:year2016       NA         NA      NA       NA    \n",
       "monthDec:year2016       NA         NA      NA       NA    \n",
       "monthFeb:year2016       NA         NA      NA       NA    \n",
       "monthJan:year2016       NA         NA      NA       NA    \n",
       "monthJul:year2016       NA         NA      NA       NA    \n",
       "monthJun:year2016       NA         NA      NA       NA    \n",
       "monthMar:year2016       NA         NA      NA       NA    \n",
       "monthMay:year2016       NA         NA      NA       NA    \n",
       "monthNov:year2016       NA         NA      NA       NA    \n",
       "monthOct:year2016       NA         NA      NA       NA    \n",
       "monthSep:year2016       NA         NA      NA       NA    \n",
       "---\n",
       "Signif. codes:  0 '***' 0.001 '**' 0.01 '*' 0.05 '.' 0.1 ' ' 1\n",
       "\n",
       "(Dispersion parameter for quasipoisson family taken to be 1.454423)\n",
       "\n",
       "    Null deviance: 1362.46  on 666  degrees of freedom\n",
       "Residual deviance:  951.84  on 645  degrees of freedom\n",
       "AIC: NA\n",
       "\n",
       "Number of Fisher Scoring iterations: 4\n"
      ]
     },
     "metadata": {},
     "output_type": "display_data"
    },
    {
     "data": {
      "image/png": "[encoded data removed]",
      "text/plain": [
       "Plot with title \"Time-stratified model (month strata)\""
      ]
     },
     "metadata": {},
     "output_type": "display_data"
    }
   ],
   "source": [
    "################################################################################\n",
    "# MODELLING SEASONALITY AND LONG-TERM TREND\n",
    "# (LEAVING OUT MAIN EXPOSURE FOR NOW)\n",
    "############################################\n",
    "\n",
    "##################################\n",
    "# OPTION 1: TIME-STRATIFIED MODEL\n",
    "# (SIMPLE INDICATOR VARIABLES)\n",
    "##################################\n",
    "\n",
    "# GENERATE MONTH AND YEAR\n",
    "data$month <- as.factor(months(data$date,abbr=TRUE))\n",
    "data$year <- as.factor(substr(data$date,1,4))\n",
    "\n",
    "# FIT A POISSON MODEL WITH A STRATUM FOR EACH MONTH NESTED IN YEAR\n",
    "# (USE OF quasipoisson FAMILY FOR SCALING THE STANDARD ERRORS)\n",
    "model1 <- glm(target ~ month/year,data,family=quasipoisson)\n",
    "summary(model1)\n",
    "\n",
    "# COMPUTE PREDICTED NUMBER OF DEATHS FROM THIS MODEL\n",
    "pred1 <- predict(model1,type=\"response\")\n",
    "\n",
    "#############\n",
    "# FIGURE 2A\n",
    "#############\n",
    "\n",
    "#plot(data$date,data$num_deaths,ylim=c(100,300),pch=19,cex=0.2,col=grey(0.6),\n",
    "#  main=\"Time-stratified model (month strata)\",ylab=\"Daily number of deaths\",\n",
    "#  xlab=\"Date\")\n",
    "\n",
    "plot(data$date,data$target,pch=19,cex=0.2,col=grey(0.6),\n",
    "     main=\"Time-stratified model (month strata)\",ylab=\"Daily number of deaths\",\n",
    "     xlab=\"Date\")\n",
    "lines(data$date,pred1,lwd=2)"
   ]
  },
  {
   "cell_type": "code",
   "execution_count": 22,
   "metadata": {},
   "outputs": [
    {
     "name": "stderr",
     "output_type": "stream",
     "text": [
      "Warning message:\n",
      "\"package 'tsModel' is in use and will not be installed\""
     ]
    }
   ],
   "source": [
    "#####################################\n",
    "# OPTION 2: PERIODIC FUNCTIONS MODEL\n",
    "# (FOURIER TERMS)\n",
    "#####################################\n",
    "\n",
    "# GENERATE FOURIER TERMS\n",
    "# (USE FUNCTION harmonic, IN PACKAGE tsModel TO BE INSTALLED AND THEN LOADED)\n",
    "install.packages(\"tsModel\", repos='http://cran.us.r-project.org')\n",
    "library(tsModel)"
   ]
  },
  {
   "cell_type": "code",
   "execution_count": 23,
   "metadata": {},
   "outputs": [
    {
     "data": {
      "text/plain": [
       "\n",
       "Call:\n",
       "glm(formula = target ~ fourier + time, family = quasipoisson, \n",
       "    data = data)\n",
       "\n",
       "Deviance Residuals: \n",
       "    Min       1Q   Median       3Q      Max  \n",
       "-4.9289  -0.9104  -0.1124   0.6878   3.7224  \n",
       "\n",
       "Coefficients:\n",
       "              Estimate Std. Error t value Pr(>|t|)    \n",
       "(Intercept)  2.442e+00  2.817e-02  86.688  < 2e-16 ***\n",
       "fourier1    -8.036e-02  1.955e-02  -4.111 4.44e-05 ***\n",
       "fourier2    -2.364e-02  1.877e-02  -1.259 0.208301    \n",
       "fourier3     7.906e-02  1.800e-02   4.393 1.30e-05 ***\n",
       "fourier4    -2.105e-01  1.950e-02 -10.792  < 2e-16 ***\n",
       "fourier5     7.072e-02  1.835e-02   3.855 0.000127 ***\n",
       "fourier6     7.170e-03  1.813e-02   0.395 0.692634    \n",
       "time         3.779e-04  7.192e-05   5.255 2.00e-07 ***\n",
       "---\n",
       "Signif. codes:  0 '***' 0.001 '**' 0.01 '*' 0.05 '.' 0.1 ' ' 1\n",
       "\n",
       "(Dispersion parameter for quasipoisson family taken to be 1.446011)\n",
       "\n",
       "    Null deviance: 1362.46  on 666  degrees of freedom\n",
       "Residual deviance:  967.95  on 659  degrees of freedom\n",
       "AIC: NA\n",
       "\n",
       "Number of Fisher Scoring iterations: 4\n"
      ]
     },
     "metadata": {},
     "output_type": "display_data"
    },
    {
     "data": {
      "image/png": "[encoded data removed]",
      "text/plain": [
       "Plot with title \"Sine-cosine functions (Fourier terms)\""
      ]
     },
     "metadata": {},
     "output_type": "display_data"
    }
   ],
   "source": [
    "# 4 SINE-COSINE PAIRS REPRESENTING DIFFERENT HARMONICS WITH PERIOD 1 YEAR\n",
    "data$time <- seq(nrow(data))\n",
    "fourier <- harmonic(data$time,nfreq=3,period=365.25)\n",
    "\n",
    "# FIT A POISSON MODEL FOURIER TERMS + LINEAR TERM FOR TREND\n",
    "# (USE OF quasipoisson FAMILY FOR SCALING THE STANDARD ERRORS)\n",
    "model2 <- glm(target ~ fourier + time,data,family=quasipoisson)\n",
    "summary(model2)\n",
    "\n",
    "# COMPUTE PREDICTED NUMBER OF DEATHS FROM THIS MODEL\n",
    "pred2 <- predict(model2,type=\"response\")\n",
    "\n",
    "#############\n",
    "# FIGURE 2B\n",
    "#############\n",
    "#plot(data$date,data$target,ylim=c(100,300),pch=19,cex=0.2,col=grey(0.6),\n",
    "#     main=\"Sine-cosine functions (Fourier terms)\",ylab=\"Daily number of deaths\",\n",
    "#     xlab=\"Date\")\n",
    "\n",
    "plot(data$date,data$target,pch=19,cex=0.2,col=grey(0.6),\n",
    "  main=\"Sine-cosine functions (Fourier terms)\",ylab=\"Daily number of deaths\",\n",
    "  xlab=\"Date\")\n",
    "lines(data$date,pred2,lwd=2)"
   ]
  },
  {
   "cell_type": "code",
   "execution_count": 24,
   "metadata": {},
   "outputs": [
    {
     "data": {
      "image/png": "[encoded data removed]",
      "text/plain": [
       "Plot with title \"Residuals over time\""
      ]
     },
     "metadata": {},
     "output_type": "display_data"
    }
   ],
   "source": [
    "#####################################\n",
    "# PLOT RESPONSE RESIDUALS OVER TIME\n",
    "# FROM MODEL 3\n",
    "#####################################\n",
    "\n",
    "# GENERATE RESIDUALS\n",
    "res3 <- residuals(model2,type=\"response\")\n",
    "\n",
    "############\n",
    "# FIGURE 3\n",
    "############\n",
    "\n",
    "plot(data$date,res3,pch=19,cex=0.4,col=grey(0.6),\n",
    "  main=\"Residuals over time\",ylab=\"Residuals (observed-fitted)\",xlab=\"Date\")\n",
    "abline(h=1,lty=2,lwd=2)\n",
    "\n",
    "#,ylim=c(-50,150)"
   ]
  },
  {
   "cell_type": "code",
   "execution_count": 25,
   "metadata": {},
   "outputs": [
    {
     "data": {
      "text/plain": [
       "\n",
       "Call:\n",
       "glm(formula = target ~ spl, family = quasipoisson, data = data)\n",
       "\n",
       "Deviance Residuals: \n",
       "    Min       1Q   Median       3Q      Max  \n",
       "-4.9184  -0.9162  -0.1571   0.7554   3.8027  \n",
       "\n",
       "Coefficients:\n",
       "            Estimate Std. Error t value Pr(>|t|)    \n",
       "(Intercept)  2.25819    0.15614  14.462  < 2e-16 ***\n",
       "spl1         0.40758    0.28646   1.423 0.155273    \n",
       "spl2        -0.26323    0.18540  -1.420 0.156146    \n",
       "spl3         0.06125    0.21289   0.288 0.773672    \n",
       "spl4         0.58231    0.17574   3.314 0.000972 ***\n",
       "spl5         0.63806    0.18698   3.412 0.000684 ***\n",
       "spl6         0.10772    0.18364   0.587 0.557696    \n",
       "spl7         0.33036    0.18915   1.747 0.081182 .  \n",
       "spl8        -0.02238    0.18943  -0.118 0.905981    \n",
       "spl9         0.13379    0.18779   0.712 0.476427    \n",
       "spl10        0.64303    0.18242   3.525 0.000453 ***\n",
       "spl11        0.62477    0.18481   3.381 0.000766 ***\n",
       "spl12        0.55626    0.20143   2.762 0.005915 ** \n",
       "spl13        0.33129    0.20916   1.584 0.113692    \n",
       "spl14        0.61423    0.19812   3.100 0.002017 ** \n",
       "---\n",
       "Signif. codes:  0 '***' 0.001 '**' 0.01 '*' 0.05 '.' 0.1 ' ' 1\n",
       "\n",
       "(Dispersion parameter for quasipoisson family taken to be 1.454147)\n",
       "\n",
       "    Null deviance: 1362.46  on 666  degrees of freedom\n",
       "Residual deviance:  958.96  on 652  degrees of freedom\n",
       "AIC: NA\n",
       "\n",
       "Number of Fisher Scoring iterations: 4\n"
      ]
     },
     "metadata": {},
     "output_type": "display_data"
    },
    {
     "data": {
      "image/png": "[encoded data removed]",
      "text/plain": [
       "Plot with title \"Flexible cubic spline model\""
      ]
     },
     "metadata": {},
     "output_type": "display_data"
    }
   ],
   "source": [
    "#####################################\n",
    "# OPTION 3: SPLINE MODEL\n",
    "# (FLEXIBLE SPLINE FUNCTIONS)\n",
    "#####################################\n",
    "\n",
    "# GENERATE SPLINE TERMS\n",
    "# (USE FUNCTION bs IN PACKAGE splines, TO BE LOADED)\n",
    "library(splines)\n",
    "\n",
    "# A CUBIC B-SPLINE WITH 32 EQUALLY-SPACED KNOTS + 2 BOUNDARY KNOTS\n",
    "# (NOTE: THIS PARAMETERIZATION IS SLIGHTLY DIFFERENT THAN STATA'S)\n",
    "# (THE 35 BASIS VARIABLES ARE SET AS df, WITH DEFAULT KNOTS PLACEMENT. SEE ?bs)\n",
    "# (OTHER TYPES OF SPLINES CAN BE PRODUCED WITH THE FUNCTION ns. SEE ?ns)\n",
    "# spl <- bs(data$time,degree=3,df=12)\n",
    "spl <- bs(data$time,degree=3,df=14)\n",
    "\n",
    "# FIT A POISSON MODEL FOURIER TERMS + LINEAR TERM FOR TREND\n",
    "# (USE OF quasipoisson FAMILY FOR SCALING THE STANDARD ERRORS)\n",
    "model3 <- glm(target ~ spl,data,family=quasipoisson)\n",
    "summary(model3)\n",
    "\n",
    "# COMPUTE PREDICTED NUMBER OF DEATHS FROM THIS MODEL\n",
    "pred3 <- predict(model3,type=\"response\")\n",
    "\n",
    "#############\n",
    "# FIGURE 2C\n",
    "#############\n",
    "\n",
    "plot(data$date,data$target,pch=19,cex=0.2,col=grey(0.6),\n",
    "     main=\"Flexible cubic spline model\",ylab=\"Daily number of deaths\",\n",
    "     xlab=\"Date\")\n",
    "lines(data$date,pred3,lwd=2)\n",
    "# this looks a bit overfit, fourier looks better."
   ]
  },
  {
   "cell_type": "code",
   "execution_count": 26,
   "metadata": {},
   "outputs": [
    {
     "data": {
      "image/png": "[encoded data removed]",
      "text/plain": [
       "Plot with title \"Residuals over time\""
      ]
     },
     "metadata": {},
     "output_type": "display_data"
    }
   ],
   "source": [
    "#####################################\n",
    "# PLOT RESPONSE RESIDUALS OVER TIME\n",
    "# FROM MODEL 3\n",
    "#####################################\n",
    "\n",
    "# GENERATE RESIDUALS\n",
    "res3 <- residuals(model3,type=\"response\")\n",
    "\n",
    "############\n",
    "# FIGURE 3\n",
    "############\n",
    "\n",
    "plot(data$date,res3,pch=19,cex=0.4,col=grey(0.6),\n",
    "  main=\"Residuals over time\",ylab=\"Residuals (observed-fitted)\",xlab=\"Date\")\n",
    "abline(h=1,lty=2,lwd=2)\n",
    "\n",
    "#,ylim=c(-50,150)"
   ]
  },
  {
   "cell_type": "code",
   "execution_count": null,
   "metadata": {},
   "outputs": [],
   "source": []
  },
  {
   "cell_type": "code",
   "execution_count": null,
   "metadata": {},
   "outputs": [],
   "source": []
  },
  {
   "cell_type": "code",
   "execution_count": 27,
   "metadata": {},
   "outputs": [
    {
     "name": "stderr",
     "output_type": "stream",
     "text": [
      "Warning message:\n",
      "\"package 'Epi' is in use and will not be installed\""
     ]
    }
   ],
   "source": [
    "################################################################################\n",
    "# ESTIMATING OZONE-MORTALITY ASSOCIATION\n",
    "# (CONTROLLING FOR CONFOUNDERS)\n",
    "############################################\n",
    "\n",
    "\n",
    "#date year month target phe_resp_virus_tests_total temperature pm10_ugm3 relative_humidity_percrh date_count\n",
    "\n",
    "# COMPARE THE RR (AND CI)\n",
    "# (COMPUTED WITH THE FUNCTION ci.lin IN PACKAGE Epi, TO BE INSTALLED AND LOADED)\n",
    "install.packages(\"Epi\", repos='http://cran.us.r-project.org')\n",
    "library(Epi)"
   ]
  },
  {
   "cell_type": "code",
   "execution_count": 28,
   "metadata": {},
   "outputs": [
    {
     "data": {
      "text/plain": [
       "\n",
       "Call:\n",
       "glm(formula = target ~ pollutant, family = quasipoisson, data = data)\n",
       "\n",
       "Deviance Residuals: \n",
       "    Min       1Q   Median       3Q      Max  \n",
       "-5.0505  -1.0229  -0.1619   0.6974   5.0160  \n",
       "\n",
       "Coefficients:\n",
       "             Estimate Std. Error t value Pr(>|t|)    \n",
       "(Intercept)  2.693563   0.041950  64.208   <2e-16 ***\n",
       "pollutant   -0.002547   0.001087  -2.343   0.0194 *  \n",
       "---\n",
       "Signif. codes:  0 '***' 0.001 '**' 0.01 '*' 0.05 '.' 0.1 ' ' 1\n",
       "\n",
       "(Dispersion parameter for quasipoisson family taken to be 2.03592)\n",
       "\n",
       "    Null deviance: 1362.5  on 666  degrees of freedom\n",
       "Residual deviance: 1351.3  on 665  degrees of freedom\n",
       "AIC: NA\n",
       "\n",
       "Number of Fisher Scoring iterations: 4\n"
      ]
     },
     "metadata": {},
     "output_type": "display_data"
    },
    {
     "data": {
      "text/html": [
       "<table>\n",
       "<thead><tr><th></th><th scope=col>Estimate</th><th scope=col>StdErr</th><th scope=col>z</th><th scope=col>P</th><th scope=col>exp(Est.)</th><th scope=col>2.5%</th><th scope=col>97.5%</th></tr></thead>\n",
       "<tbody>\n",
       "\t<tr><th scope=row>pollutant</th><td>-0.002547036</td><td>0.001087039 </td><td>-2.343096   </td><td>0.01912445  </td><td>0.9974562   </td><td>0.9953333   </td><td>0.9995836   </td></tr>\n",
       "</tbody>\n",
       "</table>\n"
      ],
      "text/latex": [
       "\\begin{tabular}{r|lllllll}\n",
       "  & Estimate & StdErr & z & P & exp(Est.) & 2.5\\% & 97.5\\%\\\\\n",
       "\\hline\n",
       "\tpollutant & -0.002547036 & 0.001087039  & -2.343096    & 0.01912445   & 0.9974562    & 0.9953333    & 0.9995836   \\\\\n",
       "\\end{tabular}\n"
      ],
      "text/markdown": [
       "\n",
       "| <!--/--> | Estimate | StdErr | z | P | exp(Est.) | 2.5% | 97.5% |\n",
       "|---|---|---|---|---|---|---|---|\n",
       "| pollutant | -0.002547036 | 0.001087039  | -2.343096    | 0.01912445   | 0.9974562    | 0.9953333    | 0.9995836    |\n",
       "\n"
      ],
      "text/plain": [
       "          Estimate     StdErr      z         P          exp(Est.) 2.5%     \n",
       "pollutant -0.002547036 0.001087039 -2.343096 0.01912445 0.9974562 0.9953333\n",
       "          97.5%    \n",
       "pollutant 0.9995836"
      ]
     },
     "metadata": {},
     "output_type": "display_data"
    },
    {
     "data": {
      "text/plain": [
       "\n",
       "Call:\n",
       "glm(formula = target ~ pollutant + fourier, family = quasipoisson, \n",
       "    data = data)\n",
       "\n",
       "Deviance Residuals: \n",
       "    Min       1Q   Median       3Q      Max  \n",
       "-5.0324  -0.8975  -0.1064   0.6384   3.4668  \n",
       "\n",
       "Coefficients:\n",
       "             Estimate Std. Error t value Pr(>|t|)    \n",
       "(Intercept)  2.509979   0.041073  61.111  < 2e-16 ***\n",
       "pollutant    0.001609   0.001032   1.559  0.11949    \n",
       "fourier1    -0.108421   0.019134  -5.666 2.18e-08 ***\n",
       "fourier2    -0.030495   0.019087  -1.598  0.11059    \n",
       "fourier3     0.076881   0.018342   4.192 3.15e-05 ***\n",
       "fourier4    -0.245245   0.021437 -11.440  < 2e-16 ***\n",
       "fourier5     0.056337   0.018658   3.019  0.00263 ** \n",
       "fourier6     0.010631   0.018436   0.577  0.56438    \n",
       "---\n",
       "Signif. codes:  0 '***' 0.001 '**' 0.01 '*' 0.05 '.' 0.1 ' ' 1\n",
       "\n",
       "(Dispersion parameter for quasipoisson family taken to be 1.498473)\n",
       "\n",
       "    Null deviance: 1362.5  on 666  degrees of freedom\n",
       "Residual deviance: 1004.3  on 659  degrees of freedom\n",
       "AIC: NA\n",
       "\n",
       "Number of Fisher Scoring iterations: 4\n"
      ]
     },
     "metadata": {},
     "output_type": "display_data"
    },
    {
     "data": {
      "text/html": [
       "<table>\n",
       "<thead><tr><th></th><th scope=col>Estimate</th><th scope=col>StdErr</th><th scope=col>z</th><th scope=col>P</th><th scope=col>exp(Est.)</th><th scope=col>2.5%</th><th scope=col>97.5%</th></tr></thead>\n",
       "<tbody>\n",
       "\t<tr><th scope=row>pollutant</th><td>0.001608705</td><td>0.001031913</td><td>1.558954   </td><td>0.1190073  </td><td>1.00161    </td><td>0.9995863  </td><td>1.003638   </td></tr>\n",
       "</tbody>\n",
       "</table>\n"
      ],
      "text/latex": [
       "\\begin{tabular}{r|lllllll}\n",
       "  & Estimate & StdErr & z & P & exp(Est.) & 2.5\\% & 97.5\\%\\\\\n",
       "\\hline\n",
       "\tpollutant & 0.001608705 & 0.001031913 & 1.558954    & 0.1190073   & 1.00161     & 0.9995863   & 1.003638   \\\\\n",
       "\\end{tabular}\n"
      ],
      "text/markdown": [
       "\n",
       "| <!--/--> | Estimate | StdErr | z | P | exp(Est.) | 2.5% | 97.5% |\n",
       "|---|---|---|---|---|---|---|---|\n",
       "| pollutant | 0.001608705 | 0.001031913 | 1.558954    | 0.1190073   | 1.00161     | 0.9995863   | 1.003638    |\n",
       "\n"
      ],
      "text/plain": [
       "          Estimate    StdErr      z        P         exp(Est.) 2.5%     \n",
       "pollutant 0.001608705 0.001031913 1.558954 0.1190073 1.00161   0.9995863\n",
       "          97.5%   \n",
       "pollutant 1.003638"
      ]
     },
     "metadata": {},
     "output_type": "display_data"
    }
   ],
   "source": [
    "# UNADJUSTED MODEL\n",
    "model4 <- glm(target ~ pollutant,data,family=quasipoisson)\n",
    "summary(model4)\n",
    "(eff4 <- ci.lin(model4,subset=\"pollutant\",Exp=T))\n",
    "\n",
    "# CONTROLLING FOR SEASONALITY (WITH FOURRIER AS IN MODEL 2)\n",
    "# model5 <- update(model4,.~.+fourier)\n",
    "model5 <- update(model4,.~.+fourier)\n",
    "summary(model5)\n",
    "(eff5 <- ci.lin(model5,subset=\"pollutant\",Exp=T))"
   ]
  },
  {
   "cell_type": "code",
   "execution_count": 29,
   "metadata": {},
   "outputs": [
    {
     "data": {
      "text/plain": [
       "\n",
       "Call:\n",
       "glm(formula = target ~ pollutant, family = quasipoisson, data = data)\n",
       "\n",
       "Deviance Residuals: \n",
       "    Min       1Q   Median       3Q      Max  \n",
       "-5.0505  -1.0229  -0.1619   0.6974   5.0160  \n",
       "\n",
       "Coefficients:\n",
       "             Estimate Std. Error t value Pr(>|t|)    \n",
       "(Intercept)  2.693563   0.041950  64.208   <2e-16 ***\n",
       "pollutant   -0.002547   0.001087  -2.343   0.0194 *  \n",
       "---\n",
       "Signif. codes:  0 '***' 0.001 '**' 0.01 '*' 0.05 '.' 0.1 ' ' 1\n",
       "\n",
       "(Dispersion parameter for quasipoisson family taken to be 2.03592)\n",
       "\n",
       "    Null deviance: 1362.5  on 666  degrees of freedom\n",
       "Residual deviance: 1351.3  on 665  degrees of freedom\n",
       "AIC: NA\n",
       "\n",
       "Number of Fisher Scoring iterations: 4\n"
      ]
     },
     "metadata": {},
     "output_type": "display_data"
    },
    {
     "data": {
      "text/html": [
       "<table>\n",
       "<thead><tr><th></th><th scope=col>Estimate</th><th scope=col>StdErr</th><th scope=col>z</th><th scope=col>P</th><th scope=col>exp(Est.)</th><th scope=col>2.5%</th><th scope=col>97.5%</th></tr></thead>\n",
       "<tbody>\n",
       "\t<tr><th scope=row>pollutant</th><td>-0.002547036</td><td>0.001087039 </td><td>-2.343096   </td><td>0.01912445  </td><td>0.9974562   </td><td>0.9953333   </td><td>0.9995836   </td></tr>\n",
       "</tbody>\n",
       "</table>\n"
      ],
      "text/latex": [
       "\\begin{tabular}{r|lllllll}\n",
       "  & Estimate & StdErr & z & P & exp(Est.) & 2.5\\% & 97.5\\%\\\\\n",
       "\\hline\n",
       "\tpollutant & -0.002547036 & 0.001087039  & -2.343096    & 0.01912445   & 0.9974562    & 0.9953333    & 0.9995836   \\\\\n",
       "\\end{tabular}\n"
      ],
      "text/markdown": [
       "\n",
       "| <!--/--> | Estimate | StdErr | z | P | exp(Est.) | 2.5% | 97.5% |\n",
       "|---|---|---|---|---|---|---|---|\n",
       "| pollutant | -0.002547036 | 0.001087039  | -2.343096    | 0.01912445   | 0.9974562    | 0.9953333    | 0.9995836    |\n",
       "\n"
      ],
      "text/plain": [
       "          Estimate     StdErr      z         P          exp(Est.) 2.5%     \n",
       "pollutant -0.002547036 0.001087039 -2.343096 0.01912445 0.9974562 0.9953333\n",
       "          97.5%    \n",
       "pollutant 0.9995836"
      ]
     },
     "metadata": {},
     "output_type": "display_data"
    },
    {
     "data": {
      "text/plain": [
       "\n",
       "Call:\n",
       "glm(formula = target ~ pollutant + spl, family = quasipoisson, \n",
       "    data = data)\n",
       "\n",
       "Deviance Residuals: \n",
       "    Min       1Q   Median       3Q      Max  \n",
       "-4.9545  -0.8775  -0.1625   0.7277   3.6655  \n",
       "\n",
       "Coefficients:\n",
       "             Estimate Std. Error t value Pr(>|t|)    \n",
       "(Intercept)  2.186593   0.162798  13.431  < 2e-16 ***\n",
       "pollutant    0.001624   0.001071   1.516 0.129994    \n",
       "spl1         0.404942   0.285985   1.416 0.157267    \n",
       "spl2        -0.264797   0.184921  -1.432 0.152639    \n",
       "spl3         0.081780   0.212934   0.384 0.701058    \n",
       "spl4         0.628305   0.177997   3.530 0.000445 ***\n",
       "spl5         0.650713   0.186758   3.484 0.000527 ***\n",
       "spl6         0.130129   0.183778   0.708 0.479153    \n",
       "spl7         0.302995   0.189630   1.598 0.110568    \n",
       "spl8        -0.011623   0.189138  -0.061 0.951016    \n",
       "spl9         0.141169   0.187476   0.753 0.451726    \n",
       "spl10        0.683672   0.184006   3.715 0.000220 ***\n",
       "spl11        0.620200   0.184389   3.364 0.000815 ***\n",
       "spl12        0.575213   0.201383   2.856 0.004423 ** \n",
       "spl13        0.343580   0.208966   1.644 0.100619    \n",
       "spl14        0.611332   0.197683   3.092 0.002070 ** \n",
       "---\n",
       "Signif. codes:  0 '***' 0.001 '**' 0.01 '*' 0.05 '.' 0.1 ' ' 1\n",
       "\n",
       "(Dispersion parameter for quasipoisson family taken to be 1.448459)\n",
       "\n",
       "    Null deviance: 1362.46  on 666  degrees of freedom\n",
       "Residual deviance:  955.63  on 651  degrees of freedom\n",
       "AIC: NA\n",
       "\n",
       "Number of Fisher Scoring iterations: 4\n"
      ]
     },
     "metadata": {},
     "output_type": "display_data"
    },
    {
     "data": {
      "text/html": [
       "<table>\n",
       "<thead><tr><th></th><th scope=col>Estimate</th><th scope=col>StdErr</th><th scope=col>z</th><th scope=col>P</th><th scope=col>exp(Est.)</th><th scope=col>2.5%</th><th scope=col>97.5%</th></tr></thead>\n",
       "<tbody>\n",
       "\t<tr><th scope=row>pollutant</th><td>0.001624268</td><td>0.001071388</td><td>1.516041   </td><td>0.1295089  </td><td>1.001626   </td><td>0.9995245  </td><td>1.003731   </td></tr>\n",
       "</tbody>\n",
       "</table>\n"
      ],
      "text/latex": [
       "\\begin{tabular}{r|lllllll}\n",
       "  & Estimate & StdErr & z & P & exp(Est.) & 2.5\\% & 97.5\\%\\\\\n",
       "\\hline\n",
       "\tpollutant & 0.001624268 & 0.001071388 & 1.516041    & 0.1295089   & 1.001626    & 0.9995245   & 1.003731   \\\\\n",
       "\\end{tabular}\n"
      ],
      "text/markdown": [
       "\n",
       "| <!--/--> | Estimate | StdErr | z | P | exp(Est.) | 2.5% | 97.5% |\n",
       "|---|---|---|---|---|---|---|---|\n",
       "| pollutant | 0.001624268 | 0.001071388 | 1.516041    | 0.1295089   | 1.001626    | 0.9995245   | 1.003731    |\n",
       "\n"
      ],
      "text/plain": [
       "          Estimate    StdErr      z        P         exp(Est.) 2.5%     \n",
       "pollutant 0.001624268 0.001071388 1.516041 0.1295089 1.001626  0.9995245\n",
       "          97.5%   \n",
       "pollutant 1.003731"
      ]
     },
     "metadata": {},
     "output_type": "display_data"
    }
   ],
   "source": [
    "# UNADJUSTED MODEL\n",
    "model4 <- glm(target ~ pollutant,data,family=quasipoisson)\n",
    "summary(model4)\n",
    "(eff4 <- ci.lin(model4,subset=\"pollutant\",Exp=T))\n",
    "\n",
    "# CONTROLLING FOR SEASONALITY (WITH SPLINE AS IN MODEL 3)\n",
    "# model5 <- update(model4,.~.+fourier)\n",
    "model5 <- update(model4,.~.+spl)\n",
    "summary(model5)\n",
    "(eff5 <- ci.lin(model5,subset=\"pollutant\",Exp=T))"
   ]
  },
  {
   "cell_type": "code",
   "execution_count": 30,
   "metadata": {},
   "outputs": [
    {
     "data": {
      "text/plain": [
       "\n",
       "Call:\n",
       "glm(formula = target ~ pollutant + spl + tempdecile, family = quasipoisson, \n",
       "    data = data)\n",
       "\n",
       "Deviance Residuals: \n",
       "    Min       1Q   Median       3Q      Max  \n",
       "-4.8633  -0.8321  -0.1498   0.6771   3.5227  \n",
       "\n",
       "Coefficients:\n",
       "                       Estimate Std. Error t value Pr(>|t|)    \n",
       "(Intercept)            2.150135   0.171834  12.513  < 2e-16 ***\n",
       "pollutant              0.001492   0.001111   1.343 0.179601    \n",
       "spl1                   0.525834   0.297828   1.766 0.077945 .  \n",
       "spl2                  -0.211774   0.187431  -1.130 0.258951    \n",
       "spl3                   0.101333   0.215809   0.470 0.638838    \n",
       "spl4                   0.674387   0.181580   3.714 0.000222 ***\n",
       "spl5                   0.721069   0.197520   3.651 0.000283 ***\n",
       "spl6                   0.196995   0.189502   1.040 0.298945    \n",
       "spl7                   0.341583   0.195801   1.745 0.081543 .  \n",
       "spl8                   0.033383   0.192075   0.174 0.862075    \n",
       "spl9                   0.182660   0.192058   0.951 0.341928    \n",
       "spl10                  0.714441   0.187676   3.807 0.000154 ***\n",
       "spl11                  0.656176   0.186108   3.526 0.000452 ***\n",
       "spl12                  0.626720   0.209032   2.998 0.002821 ** \n",
       "spl13                  0.435542   0.217549   2.002 0.045700 *  \n",
       "spl14                  0.642844   0.206552   3.112 0.001939 ** \n",
       "tempdecile(2.2,4.7]   -0.083214   0.055190  -1.508 0.132106    \n",
       "tempdecile(4.7,6.1]   -0.004701   0.058265  -0.081 0.935714    \n",
       "tempdecile(6.1,7.74]   0.031119   0.062840   0.495 0.620625    \n",
       "tempdecile(7.74,9.3]  -0.041750   0.065319  -0.639 0.522942    \n",
       "tempdecile(9.3,10.8]   0.027274   0.066992   0.407 0.684054    \n",
       "tempdecile(10.8,12]   -0.028218   0.072682  -0.388 0.697968    \n",
       "tempdecile(12,13.5]    0.084841   0.076403   1.110 0.267225    \n",
       "tempdecile(13.5,14.9]  0.007906   0.078587   0.101 0.919897    \n",
       "tempdecile(14.9,19.8] -0.087278   0.089869  -0.971 0.331832    \n",
       "---\n",
       "Signif. codes:  0 '***' 0.001 '**' 0.01 '*' 0.05 '.' 0.1 ' ' 1\n",
       "\n",
       "(Dispersion parameter for quasipoisson family taken to be 1.442228)\n",
       "\n",
       "    Null deviance: 1362.46  on 666  degrees of freedom\n",
       "Residual deviance:  936.48  on 642  degrees of freedom\n",
       "AIC: NA\n",
       "\n",
       "Number of Fisher Scoring iterations: 4\n"
      ]
     },
     "metadata": {},
     "output_type": "display_data"
    },
    {
     "data": {
      "text/html": [
       "<table>\n",
       "<thead><tr><th></th><th scope=col>Estimate</th><th scope=col>StdErr</th><th scope=col>z</th><th scope=col>P</th><th scope=col>exp(Est.)</th><th scope=col>2.5%</th><th scope=col>97.5%</th></tr></thead>\n",
       "<tbody>\n",
       "\t<tr><th scope=row>pollutant</th><td>0.001492077</td><td>0.00111063 </td><td>1.34345    </td><td>0.1791263  </td><td>1.001493   </td><td>0.9993155  </td><td>1.003676   </td></tr>\n",
       "</tbody>\n",
       "</table>\n"
      ],
      "text/latex": [
       "\\begin{tabular}{r|lllllll}\n",
       "  & Estimate & StdErr & z & P & exp(Est.) & 2.5\\% & 97.5\\%\\\\\n",
       "\\hline\n",
       "\tpollutant & 0.001492077 & 0.00111063  & 1.34345     & 0.1791263   & 1.001493    & 0.9993155   & 1.003676   \\\\\n",
       "\\end{tabular}\n"
      ],
      "text/markdown": [
       "\n",
       "| <!--/--> | Estimate | StdErr | z | P | exp(Est.) | 2.5% | 97.5% |\n",
       "|---|---|---|---|---|---|---|---|\n",
       "| pollutant | 0.001492077 | 0.00111063  | 1.34345     | 0.1791263   | 1.001493    | 0.9993155   | 1.003676    |\n",
       "\n"
      ],
      "text/plain": [
       "          Estimate    StdErr     z       P         exp(Est.) 2.5%      97.5%   \n",
       "pollutant 0.001492077 0.00111063 1.34345 0.1791263 1.001493  0.9993155 1.003676"
      ]
     },
     "metadata": {},
     "output_type": "display_data"
    },
    {
     "data": {
      "text/html": [
       "<table>\n",
       "<thead><tr><th></th><th scope=col>RR</th><th scope=col>ci.low</th><th scope=col>ci.hi</th></tr></thead>\n",
       "<tbody>\n",
       "\t<tr><th scope=row>Unadjusted</th><td>-0.25</td><td>-0.47</td><td>-0.04</td></tr>\n",
       "\t<tr><th scope=row>Plus season/trend</th><td> 0.16</td><td>-0.05</td><td> 0.37</td></tr>\n",
       "\t<tr><th scope=row>Plus temperature</th><td> 0.15</td><td>-0.07</td><td> 0.37</td></tr>\n",
       "</tbody>\n",
       "</table>\n"
      ],
      "text/latex": [
       "\\begin{tabular}{r|lll}\n",
       "  & RR & ci.low & ci.hi\\\\\n",
       "\\hline\n",
       "\tUnadjusted & -0.25 & -0.47 & -0.04\\\\\n",
       "\tPlus season/trend &  0.16 & -0.05 &  0.37\\\\\n",
       "\tPlus temperature &  0.15 & -0.07 &  0.37\\\\\n",
       "\\end{tabular}\n"
      ],
      "text/markdown": [
       "\n",
       "| <!--/--> | RR | ci.low | ci.hi |\n",
       "|---|---|---|---|\n",
       "| Unadjusted | -0.25 | -0.47 | -0.04 |\n",
       "| Plus season/trend |  0.16 | -0.05 |  0.37 |\n",
       "| Plus temperature |  0.15 | -0.07 |  0.37 |\n",
       "\n"
      ],
      "text/plain": [
       "                  RR    ci.low ci.hi\n",
       "Unadjusted        -0.25 -0.47  -0.04\n",
       "Plus season/trend  0.16 -0.05   0.37\n",
       "Plus temperature   0.15 -0.07   0.37"
      ]
     },
     "metadata": {},
     "output_type": "display_data"
    }
   ],
   "source": [
    "# CONTROLLING FOR TEMPERATURE\n",
    "# (TEMPERATURE MODELLED WITH CATEGORICAL VARIABLES FOR DECILES)\n",
    "# (MORE SOPHISTICATED APPROACHES ARE AVAILABLE - SEE ARMSTRONG EPIDEMIOLOGY 2006)\n",
    "cutoffs <- quantile(data$temperature,probs=0:10/10)\n",
    "tempdecile <- cut(data$temperature,breaks=cutoffs,include.lowest=TRUE)\n",
    "model6 <- update(model5,.~.+tempdecile)\n",
    "summary(model6)\n",
    "(eff6 <- ci.lin(model6,subset=\"pollutant\",Exp=T))\n",
    "\n",
    "# BUILD A SUMMARY TABLE WITH EFFECT AS PERCENT INCREASE\n",
    "tabeff <- rbind(eff4,eff5,eff6)[,5:7]\n",
    "tabeff <- (tabeff-1)*100\n",
    "dimnames(tabeff) <- list(c(\"Unadjusted\",\"Plus season/trend\",\"Plus temperature\"),\n",
    "  c(\"RR\",\"ci.low\",\"ci.hi\"))\n",
    "round(tabeff,2)"
   ]
  },
  {
   "cell_type": "code",
   "execution_count": 31,
   "metadata": {},
   "outputs": [
    {
     "data": {
      "text/html": [
       "<table>\n",
       "<thead><tr><th></th><th scope=col>RR</th><th scope=col>ci.low</th><th scope=col>ci.hi</th></tr></thead>\n",
       "<tbody>\n",
       "\t<tr><th scope=row>Lag 0</th><td>1.0014932</td><td>0.9993155</td><td>1.003676 </td></tr>\n",
       "\t<tr><th scope=row>Lag 1</th><td>1.0009812</td><td>0.9987870</td><td>1.003180 </td></tr>\n",
       "\t<tr><th scope=row>Lag 2</th><td>1.0003450</td><td>0.9981685</td><td>1.002526 </td></tr>\n",
       "\t<tr><th scope=row>Lag 3</th><td>0.9994710</td><td>0.9972819</td><td>1.001665 </td></tr>\n",
       "\t<tr><th scope=row>Lag 4</th><td>0.9993941</td><td>0.9972215</td><td>1.001571 </td></tr>\n",
       "\t<tr><th scope=row>Lag 5</th><td>0.9999794</td><td>0.9977846</td><td>1.002179 </td></tr>\n",
       "\t<tr><th scope=row>Lag 6</th><td>0.9998274</td><td>0.9976310</td><td>1.002029 </td></tr>\n",
       "\t<tr><th scope=row>Lag 7</th><td>1.0010471</td><td>0.9988481</td><td>1.003251 </td></tr>\n",
       "</tbody>\n",
       "</table>\n"
      ],
      "text/latex": [
       "\\begin{tabular}{r|lll}\n",
       "  & RR & ci.low & ci.hi\\\\\n",
       "\\hline\n",
       "\tLag 0 & 1.0014932 & 0.9993155 & 1.003676 \\\\\n",
       "\tLag 1 & 1.0009812 & 0.9987870 & 1.003180 \\\\\n",
       "\tLag 2 & 1.0003450 & 0.9981685 & 1.002526 \\\\\n",
       "\tLag 3 & 0.9994710 & 0.9972819 & 1.001665 \\\\\n",
       "\tLag 4 & 0.9993941 & 0.9972215 & 1.001571 \\\\\n",
       "\tLag 5 & 0.9999794 & 0.9977846 & 1.002179 \\\\\n",
       "\tLag 6 & 0.9998274 & 0.9976310 & 1.002029 \\\\\n",
       "\tLag 7 & 1.0010471 & 0.9988481 & 1.003251 \\\\\n",
       "\\end{tabular}\n"
      ],
      "text/markdown": [
       "\n",
       "| <!--/--> | RR | ci.low | ci.hi |\n",
       "|---|---|---|---|\n",
       "| Lag 0 | 1.0014932 | 0.9993155 | 1.003676  |\n",
       "| Lag 1 | 1.0009812 | 0.9987870 | 1.003180  |\n",
       "| Lag 2 | 1.0003450 | 0.9981685 | 1.002526  |\n",
       "| Lag 3 | 0.9994710 | 0.9972819 | 1.001665  |\n",
       "| Lag 4 | 0.9993941 | 0.9972215 | 1.001571  |\n",
       "| Lag 5 | 0.9999794 | 0.9977846 | 1.002179  |\n",
       "| Lag 6 | 0.9998274 | 0.9976310 | 1.002029  |\n",
       "| Lag 7 | 1.0010471 | 0.9988481 | 1.003251  |\n",
       "\n"
      ],
      "text/plain": [
       "      RR        ci.low    ci.hi   \n",
       "Lag 0 1.0014932 0.9993155 1.003676\n",
       "Lag 1 1.0009812 0.9987870 1.003180\n",
       "Lag 2 1.0003450 0.9981685 1.002526\n",
       "Lag 3 0.9994710 0.9972819 1.001665\n",
       "Lag 4 0.9993941 0.9972215 1.001571\n",
       "Lag 5 0.9999794 0.9977846 1.002179\n",
       "Lag 6 0.9998274 0.9976310 1.002029\n",
       "Lag 7 1.0010471 0.9988481 1.003251"
      ]
     },
     "metadata": {},
     "output_type": "display_data"
    },
    {
     "data": {
      "image/png": "[encoded data removed]",
      "text/plain": [
       "Plot with title \"Lag terms modelled one at a time\""
      ]
     },
     "metadata": {},
     "output_type": "display_data"
    }
   ],
   "source": [
    "################################################################################\n",
    "# EXPLORING THE LAGGED (DELAYED) EFFECTS\n",
    "############################################\n",
    "\n",
    "#####################\n",
    "# SINGLE-LAG MODELS\n",
    "#####################\n",
    "\n",
    "# PREPARE THE TABLE WITH ESTIMATES\n",
    "tablag <- matrix(NA,7+1,3,dimnames=list(paste(\"Lag\",0:7),\n",
    "  c(\"RR\",\"ci.low\",\"ci.hi\")))\n",
    "\n",
    "# RUN THE LOOP\n",
    "for(i in 0:7) {\n",
    "  # LAG OZONE AND TEMPERATURE VARIABLES\n",
    "  pollutantlag <- Lag(data$pollutant,i)\n",
    "  tempdecilelag <- cut(Lag(data$temperature,i),breaks=cutoffs,\n",
    "    include.lowest=TRUE)\n",
    "  # DEFINE THE TRANSFORMATION FOR TEMPERATURE\n",
    "  # LAG SAME AS ABOVE, BUT WITH STRATA TERMS INSTEAD THAN LINEAR\n",
    "  mod <- glm(target ~ pollutantlag + tempdecilelag + spl,data,\n",
    "    family=quasipoisson)\n",
    "  tablag[i+1,] <- ci.lin(mod,subset=\"pollutantlag\",Exp=T)[5:7]\n",
    "}\n",
    "tablag\n",
    "\n",
    "#############\n",
    "# FIGURE 4A\n",
    "#############\n",
    "\n",
    "plot(0:7,0:7,type=\"n\",ylim=c(0.99,1.03),main=\"Lag terms modelled one at a time\",\n",
    "  xlab=\"Lag (days)\",ylab=\"RR and 95%CI per 10ug/m3 ozone increase\")\n",
    "abline(h=1)\n",
    "arrows(0:7,tablag[,2],0:7,tablag[,3],length=0.05,angle=90,code=3)\n",
    "points(0:7,tablag[,1],pch=19)"
   ]
  },
  {
   "cell_type": "code",
   "execution_count": 32,
   "metadata": {},
   "outputs": [
    {
     "name": "stderr",
     "output_type": "stream",
     "text": [
      "Warning message:\n",
      "\"package 'dlnm' is in use and will not be installed\""
     ]
    }
   ],
   "source": [
    "#####################\n",
    "# UNCONSTRAINED DLM\n",
    "#####################\n",
    "\n",
    "# FACILITATED BY THE FUNCTIONS IN PACKAGE dlnm, TO BE DOWNLOADED AND LOADED\n",
    "install.packages(\"dlnm\", repos='http://cran.us.r-project.org')\n",
    "\n",
    "library(dlnm)"
   ]
  },
  {
   "cell_type": "code",
   "execution_count": 33,
   "metadata": {},
   "outputs": [
    {
     "name": "stderr",
     "output_type": "stream",
     "text": [
      "Warning message in checkcrossbasis(argvar, arglag, list(...)):\n",
      "\"argument 'type' replaced by 'fun'. See ?onebasis\"Warning message in checkcrossbasis(argvar, arglag, list(...)):\n",
      "\"argument 'type' replaced by 'fun'. See ?onebasis\"Warning message in checkonebasis(fun, args, cen):\n",
      "\"centering through 'cen' now applied at the prediction stage. See ?crosspred\""
     ]
    },
    {
     "name": "stdout",
     "output_type": "stream",
     "text": [
      "CROSSBASIS FUNCTIONS\n",
      "observations: 667 \n",
      "range: 1 to 84 \n",
      "lag period: 0 7 \n",
      "total df:  8 \n",
      "\n",
      "BASIS FOR VAR:\n",
      "fun: lin \n",
      "intercept: FALSE \n",
      "\n",
      "BASIS FOR LAG:\n",
      "fun: integer \n",
      "values: 0 1 2 3 4 5 6 ... \n",
      "intercept: TRUE \n",
      "\n"
     ]
    },
    {
     "name": "stderr",
     "output_type": "stream",
     "text": [
      "Warning message in checkcrossbasis(argvar, arglag, list(...)):\n",
      "\"argument 'type' replaced by 'fun'. See ?onebasis\"Warning message in checkcrossbasis(argvar, arglag, list(...)):\n",
      "\"argument 'type' replaced by 'fun'. See ?onebasis\"Warning message in checkonebasis(fun, args, cen):\n",
      "\"argument 'knots' replaced by 'breaks' in function strata. See ?strata\""
     ]
    },
    {
     "name": "stdout",
     "output_type": "stream",
     "text": [
      "CROSSBASIS FUNCTIONS\n",
      "observations: 667 \n",
      "range: -2.4 to 19.8 \n",
      "lag period: 0 7 \n",
      "total df:  72 \n",
      "\n",
      "BASIS FOR VAR:\n",
      "fun: strata \n",
      "df: 9 \n",
      "breaks: 2.2 4.7 6.1 7.74 9.3 10.8 12.02 ... \n",
      "ref: 1 \n",
      "intercept: FALSE \n",
      "\n",
      "BASIS FOR LAG:\n",
      "fun: integer \n",
      "values: 0 1 2 3 4 5 6 ... \n",
      "intercept: TRUE \n",
      "\n"
     ]
    },
    {
     "data": {
      "text/html": [
       "<table>\n",
       "<thead><tr><th></th><th scope=col>RR</th><th scope=col>ci.low</th><th scope=col>ci.hi</th></tr></thead>\n",
       "<tbody>\n",
       "\t<tr><th scope=row>lag0</th><td>1.0203054</td><td>0.9942566</td><td>1.047037 </td></tr>\n",
       "\t<tr><th scope=row>lag1</th><td>1.0013042</td><td>0.9733178</td><td>1.030095 </td></tr>\n",
       "\t<tr><th scope=row>lag2</th><td>1.0091649</td><td>0.9812268</td><td>1.037898 </td></tr>\n",
       "\t<tr><th scope=row>lag3</th><td>0.9879637</td><td>0.9606449</td><td>1.016059 </td></tr>\n",
       "\t<tr><th scope=row>lag4</th><td>0.9933520</td><td>0.9658905</td><td>1.021594 </td></tr>\n",
       "\t<tr><th scope=row>lag5</th><td>0.9984700</td><td>0.9712037</td><td>1.026502 </td></tr>\n",
       "\t<tr><th scope=row>lag6</th><td>0.9942280</td><td>0.9667508</td><td>1.022486 </td></tr>\n",
       "\t<tr><th scope=row>lag7</th><td>1.0079124</td><td>0.9822483</td><td>1.034247 </td></tr>\n",
       "</tbody>\n",
       "</table>\n"
      ],
      "text/latex": [
       "\\begin{tabular}{r|lll}\n",
       "  & RR & ci.low & ci.hi\\\\\n",
       "\\hline\n",
       "\tlag0 & 1.0203054 & 0.9942566 & 1.047037 \\\\\n",
       "\tlag1 & 1.0013042 & 0.9733178 & 1.030095 \\\\\n",
       "\tlag2 & 1.0091649 & 0.9812268 & 1.037898 \\\\\n",
       "\tlag3 & 0.9879637 & 0.9606449 & 1.016059 \\\\\n",
       "\tlag4 & 0.9933520 & 0.9658905 & 1.021594 \\\\\n",
       "\tlag5 & 0.9984700 & 0.9712037 & 1.026502 \\\\\n",
       "\tlag6 & 0.9942280 & 0.9667508 & 1.022486 \\\\\n",
       "\tlag7 & 1.0079124 & 0.9822483 & 1.034247 \\\\\n",
       "\\end{tabular}\n"
      ],
      "text/markdown": [
       "\n",
       "| <!--/--> | RR | ci.low | ci.hi |\n",
       "|---|---|---|---|\n",
       "| lag0 | 1.0203054 | 0.9942566 | 1.047037  |\n",
       "| lag1 | 1.0013042 | 0.9733178 | 1.030095  |\n",
       "| lag2 | 1.0091649 | 0.9812268 | 1.037898  |\n",
       "| lag3 | 0.9879637 | 0.9606449 | 1.016059  |\n",
       "| lag4 | 0.9933520 | 0.9658905 | 1.021594  |\n",
       "| lag5 | 0.9984700 | 0.9712037 | 1.026502  |\n",
       "| lag6 | 0.9942280 | 0.9667508 | 1.022486  |\n",
       "| lag7 | 1.0079124 | 0.9822483 | 1.034247  |\n",
       "\n"
      ],
      "text/plain": [
       "     RR        ci.low    ci.hi   \n",
       "lag0 1.0203054 0.9942566 1.047037\n",
       "lag1 1.0013042 0.9733178 1.030095\n",
       "lag2 1.0091649 0.9812268 1.037898\n",
       "lag3 0.9879637 0.9606449 1.016059\n",
       "lag4 0.9933520 0.9658905 1.021594\n",
       "lag5 0.9984700 0.9712037 1.026502\n",
       "lag6 0.9942280 0.9667508 1.022486\n",
       "lag7 1.0079124 0.9822483 1.034247"
      ]
     },
     "metadata": {},
     "output_type": "display_data"
    },
    {
     "data": {
      "text/html": [
       "<strong>10:</strong> 1.01238654984421"
      ],
      "text/latex": [
       "\\textbf{10:} 1.01238654984421"
      ],
      "text/markdown": [
       "**10:** 1.01238654984421"
      ],
      "text/plain": [
       "      10 \n",
       "1.012387 "
      ]
     },
     "metadata": {},
     "output_type": "display_data"
    },
    {
     "data": {
      "text/html": [
       "<strong>10:</strong> 0.96941720834164"
      ],
      "text/latex": [
       "\\textbf{10:} 0.96941720834164"
      ],
      "text/markdown": [
       "**10:** 0.96941720834164"
      ],
      "text/plain": [
       "       10 \n",
       "0.9694172 "
      ]
     },
     "metadata": {},
     "output_type": "display_data"
    },
    {
     "data": {
      "text/html": [
       "<strong>10:</strong> 1.0572605040288"
      ],
      "text/latex": [
       "\\textbf{10:} 1.0572605040288"
      ],
      "text/markdown": [
       "**10:** 1.0572605040288"
      ],
      "text/plain": [
       "      10 \n",
       "1.057261 "
      ]
     },
     "metadata": {},
     "output_type": "display_data"
    },
    {
     "data": {
      "image/png": "[encoded data removed]",
      "text/plain": [
       "Plot with title \"All lag terms modelled together (unconstrained)\""
      ]
     },
     "metadata": {},
     "output_type": "display_data"
    }
   ],
   "source": [
    "# IN PARTICULAR, THE FUNCTION crossbasis PRODUCES THE TRANSFORMATION FOR \n",
    "#   SPECIFIC LAG STRUCTURES AND OPTIONALLY FOR NON-LINEARITY\n",
    "# THE FUNCTION crosspred INSTEAD PREDICTS ESTIMATED EFFECTS\n",
    "\n",
    "# PRODUCE THE CROSS-BASIS FOR OZONE (SCALING NOT NEEDED)\n",
    "# A SIMPLE UNSTRANSFORMED LINEAR TERM AND THE UNCONSTRAINED LAG STRUCTURE\n",
    "cbo3unc <- crossbasis(data$pollutant,lag=c(0,7),argvar=list(type=\"lin\",cen=FALSE),\n",
    "  arglag=list(type=\"integer\"))\n",
    "summary(cbo3unc)\n",
    "\n",
    "# PRODUCE THE CROSS-BASIS FOR TEMPERATURE\n",
    "# AS ABOVE, BUT WITH STRATA DEFINED BY INTERNAL CUT-OFFS\n",
    "cbtempunc <- crossbasis(data$temperature,lag=c(0,7),\n",
    "  argvar=list(type=\"strata\",knots=cutoffs[2:10]),\n",
    "  arglag=list(type=\"integer\"))\n",
    "summary(cbtempunc)\n",
    "\n",
    "# RUN THE MODEL AND OBTAIN PREDICTIONS FOR OZONE LEVEL 10ug/m3\n",
    "model7 <- glm(target ~ cbo3unc + cbtempunc + fourier,data,family=quasipoisson)\n",
    "pred7 <- crosspred(cbo3unc,model7,at=10)\n",
    "\n",
    "# ESTIMATED EFFECTS AT EACH LAG\n",
    "tablag2 <- with(pred7,t(rbind(matRRfit,matRRlow,matRRhigh)))\n",
    "colnames(tablag2) <- c(\"RR\",\"ci.low\",\"ci.hi\")\n",
    "tablag2\n",
    "\n",
    "# OVERALL CUMULATIVE (NET) EFFECT\n",
    "pred7$allRRfit ; pred7$allRRlow ; pred7$allRRhigh\n",
    "\n",
    "#############\n",
    "# FIGURE 4B\n",
    "#############\n",
    "#ylim=c(0.99,1.03)\n",
    "plot(pred7,var=10,type=\"p\",ci=\"bars\",col=1,pch=19,\n",
    "  main=\"All lag terms modelled together (unconstrained)\",xlab=\"Lag (days)\",\n",
    "  ylab=\"RR and 95%CI per 10ug/m3 ozone increase\")"
   ]
  },
  {
   "cell_type": "code",
   "execution_count": 34,
   "metadata": {},
   "outputs": [
    {
     "name": "stderr",
     "output_type": "stream",
     "text": [
      "Warning message in checkcrossbasis(argvar, arglag, list(...)):\n",
      "\"argument 'type' replaced by 'fun'. See ?onebasis\"Warning message in checkcrossbasis(argvar, arglag, list(...)):\n",
      "\"argument 'type' replaced by 'fun'. See ?onebasis\"Warning message in checkonebasis(fun, args, cen):\n",
      "\"centering through 'cen' now applied at the prediction stage. See ?crosspred\"Warning message in checkonebasis(fun, args, cen):\n",
      "\"argument 'knots' replaced by 'breaks' in function strata. See ?strata\""
     ]
    },
    {
     "name": "stdout",
     "output_type": "stream",
     "text": [
      "CROSSBASIS FUNCTIONS\n",
      "observations: 667 \n",
      "range: 1 to 84 \n",
      "lag period: 0 7 \n",
      "total df:  3 \n",
      "\n",
      "BASIS FOR VAR:\n",
      "fun: lin \n",
      "intercept: FALSE \n",
      "\n",
      "BASIS FOR LAG:\n",
      "fun: strata \n",
      "df: 3 \n",
      "breaks: 1 3 \n",
      "ref: 1 \n",
      "intercept: TRUE \n",
      "\n"
     ]
    },
    {
     "data": {
      "text/html": [
       "<table>\n",
       "<thead><tr><th></th><th scope=col>RR</th><th scope=col>ci.low</th><th scope=col>ci.hi</th></tr></thead>\n",
       "<tbody>\n",
       "\t<tr><th scope=row>lag0</th><td>1.0174968</td><td>0.9923219</td><td>1.043310 </td></tr>\n",
       "\t<tr><th scope=row>lag1</th><td>1.0029321</td><td>0.9878268</td><td>1.018268 </td></tr>\n",
       "\t<tr><th scope=row>lag2</th><td>1.0029321</td><td>0.9878268</td><td>1.018268 </td></tr>\n",
       "\t<tr><th scope=row>lag3</th><td>0.9979403</td><td>0.9904553</td><td>1.005482 </td></tr>\n",
       "\t<tr><th scope=row>lag4</th><td>0.9979403</td><td>0.9904553</td><td>1.005482 </td></tr>\n",
       "\t<tr><th scope=row>lag5</th><td>0.9979403</td><td>0.9904553</td><td>1.005482 </td></tr>\n",
       "\t<tr><th scope=row>lag6</th><td>0.9979403</td><td>0.9904553</td><td>1.005482 </td></tr>\n",
       "\t<tr><th scope=row>lag7</th><td>0.9979403</td><td>0.9904553</td><td>1.005482 </td></tr>\n",
       "</tbody>\n",
       "</table>\n"
      ],
      "text/latex": [
       "\\begin{tabular}{r|lll}\n",
       "  & RR & ci.low & ci.hi\\\\\n",
       "\\hline\n",
       "\tlag0 & 1.0174968 & 0.9923219 & 1.043310 \\\\\n",
       "\tlag1 & 1.0029321 & 0.9878268 & 1.018268 \\\\\n",
       "\tlag2 & 1.0029321 & 0.9878268 & 1.018268 \\\\\n",
       "\tlag3 & 0.9979403 & 0.9904553 & 1.005482 \\\\\n",
       "\tlag4 & 0.9979403 & 0.9904553 & 1.005482 \\\\\n",
       "\tlag5 & 0.9979403 & 0.9904553 & 1.005482 \\\\\n",
       "\tlag6 & 0.9979403 & 0.9904553 & 1.005482 \\\\\n",
       "\tlag7 & 0.9979403 & 0.9904553 & 1.005482 \\\\\n",
       "\\end{tabular}\n"
      ],
      "text/markdown": [
       "\n",
       "| <!--/--> | RR | ci.low | ci.hi |\n",
       "|---|---|---|---|\n",
       "| lag0 | 1.0174968 | 0.9923219 | 1.043310  |\n",
       "| lag1 | 1.0029321 | 0.9878268 | 1.018268  |\n",
       "| lag2 | 1.0029321 | 0.9878268 | 1.018268  |\n",
       "| lag3 | 0.9979403 | 0.9904553 | 1.005482  |\n",
       "| lag4 | 0.9979403 | 0.9904553 | 1.005482  |\n",
       "| lag5 | 0.9979403 | 0.9904553 | 1.005482  |\n",
       "| lag6 | 0.9979403 | 0.9904553 | 1.005482  |\n",
       "| lag7 | 0.9979403 | 0.9904553 | 1.005482  |\n",
       "\n"
      ],
      "text/plain": [
       "     RR        ci.low    ci.hi   \n",
       "lag0 1.0174968 0.9923219 1.043310\n",
       "lag1 1.0029321 0.9878268 1.018268\n",
       "lag2 1.0029321 0.9878268 1.018268\n",
       "lag3 0.9979403 0.9904553 1.005482\n",
       "lag4 0.9979403 0.9904553 1.005482\n",
       "lag5 0.9979403 0.9904553 1.005482\n",
       "lag6 0.9979403 0.9904553 1.005482\n",
       "lag7 0.9979403 0.9904553 1.005482"
      ]
     },
     "metadata": {},
     "output_type": "display_data"
    },
    {
     "data": {
      "text/html": [
       "<strong>10:</strong> 1.01297533954168"
      ],
      "text/latex": [
       "\\textbf{10:} 1.01297533954168"
      ],
      "text/markdown": [
       "**10:** 1.01297533954168"
      ],
      "text/plain": [
       "      10 \n",
       "1.012975 "
      ]
     },
     "metadata": {},
     "output_type": "display_data"
    },
    {
     "data": {
      "text/html": [
       "<strong>10:</strong> 0.967362983189947"
      ],
      "text/latex": [
       "\\textbf{10:} 0.967362983189947"
      ],
      "text/markdown": [
       "**10:** 0.967362983189947"
      ],
      "text/plain": [
       "      10 \n",
       "0.967363 "
      ]
     },
     "metadata": {},
     "output_type": "display_data"
    },
    {
     "data": {
      "text/html": [
       "<strong>10:</strong> 1.06073837468525"
      ],
      "text/latex": [
       "\\textbf{10:} 1.06073837468525"
      ],
      "text/markdown": [
       "**10:** 1.06073837468525"
      ],
      "text/plain": [
       "      10 \n",
       "1.060738 "
      ]
     },
     "metadata": {},
     "output_type": "display_data"
    },
    {
     "data": {
      "image/png": "[encoded data removed]",
      "text/plain": [
       "Plot with title \"All lag terms modelled together (with costraints)\""
      ]
     },
     "metadata": {},
     "output_type": "display_data"
    }
   ],
   "source": [
    "####################################\n",
    "# CONSTRAINED (LAG-STRATIFIED) DLM\n",
    "####################################\n",
    "\n",
    "# PRODUCE A DIFFERENT CROSS-BASIS FOR OZONE\n",
    "# USE STRATA FOR LAG STRUCTURE, WITH CUT-OFFS DEFINING RIGHT-OPEN INTERVALS \n",
    "cbo3constr <- crossbasis(data$pollutant,lag=c(0,7),argvar=list(type=\"lin\",cen=FALSE),\n",
    "  arglag=list(type=\"strata\",knots=c(1,3)))\n",
    "summary(cbo3constr)\n",
    "\n",
    "# RUN THE MODEL AND OBTAIN PREDICTIONS FOR OZONE LEVEL 10ug/m3\n",
    "model8 <- glm(target ~ cbo3constr + cbtempunc + spl,data,family=quasipoisson)\n",
    "pred8 <- crosspred(cbo3constr,model8,at=10)\n",
    "\n",
    "# ESTIMATED EFFECTS AT EACH LAG\n",
    "tablag3 <- with(pred8,t(rbind(matRRfit,matRRlow,matRRhigh)))\n",
    "colnames(tablag3) <- c(\"RR\",\"ci.low\",\"ci.hi\")\n",
    "tablag3\n",
    "\n",
    "# OVERALL CUMULATIVE (NET) EFFECT\n",
    "pred8$allRRfit ; pred8$allRRlow ; pred8$allRRhigh\n",
    "\n",
    "#############\n",
    "# FIGURE 4C\n",
    "#############\n",
    "\n",
    "plot(pred8,var=10,type=\"p\",ci=\"bars\",col=1,pch=19,\n",
    "  main=\"All lag terms modelled together (with costraints)\",xlab=\"Lag (days)\",\n",
    "  ylab=\"RR and 95%CI per 10ug/m3 ozone increase\")"
   ]
  },
  {
   "cell_type": "code",
   "execution_count": 35,
   "metadata": {},
   "outputs": [
    {
     "data": {
      "image/png": "[encoded data removed]",
      "text/plain": [
       "Plot with title \"Residuals over time\""
      ]
     },
     "metadata": {},
     "output_type": "display_data"
    },
    {
     "data": {
      "image/png": "[encoded data removed]",
      "text/plain": [
       "Plot with title \"From original model\""
      ]
     },
     "metadata": {},
     "output_type": "display_data"
    },
    {
     "data": {
      "image/png": "[encoded data removed]",
      "text/plain": [
       "Plot with title \"From model adjusted for residual autocorrelation\""
      ]
     },
     "metadata": {},
     "output_type": "display_data"
    }
   ],
   "source": [
    "################################################################################\n",
    "# MODEL CHECKING\n",
    "##################\n",
    "\n",
    "# GENERATE DEVIANCE RESIDUALS FROM UNCONSTRAINED DISTRIBUTED LAG MODEL\n",
    "res7 <- residuals(model7,type=\"deviance\")\n",
    "\n",
    "#############\n",
    "# FIGURE A1\n",
    "#############\n",
    "\n",
    "plot(data$date,res7,ylim=c(-5,10),pch=19,cex=0.7,col=grey(0.6),\n",
    "  main=\"Residuals over time\",ylab=\"Deviance residuals\",xlab=\"Date\")\n",
    "abline(h=0,lty=2,lwd=2)\n",
    "\n",
    "#############################\n",
    "# FIGURE A2a\n",
    "#############################\n",
    "\n",
    "pacf(res7,na.action=na.omit,main=\"From original model\")\n",
    "\n",
    "# INCLUDE THE 1-DAY LAGGED RESIDUAL IN THE MODEL\n",
    "model9 <- update(model7,.~.+Lag(res7,1))\n",
    "\n",
    "#############################\n",
    "# FIGURE A2b\n",
    "#############################\n",
    "\n",
    "pacf(residuals(model9,type=\"deviance\"),na.action=na.omit,\n",
    "  main=\"From model adjusted for residual autocorrelation\")\n",
    "\n",
    "#"
   ]
  },
  {
   "cell_type": "code",
   "execution_count": null,
   "metadata": {},
   "outputs": [],
   "source": []
  },
  {
   "cell_type": "code",
   "execution_count": null,
   "metadata": {},
   "outputs": [],
   "source": []
  },
  {
   "cell_type": "code",
   "execution_count": null,
   "metadata": {},
   "outputs": [],
   "source": []
  }
 ],
 "metadata": {
  "kernelspec": {
   "display_name": "R [conda env:R]",
   "language": "R",
   "name": "conda-env-R-r"
  },
  "language_info": {
   "codemirror_mode": "r",
   "file_extension": ".r",
   "mimetype": "text/x-r-source",
   "name": "R",
   "pygments_lexer": "r",
   "version": "3.5.1"
  }
 },
 "nbformat": 4,
 "nbformat_minor": 2
}

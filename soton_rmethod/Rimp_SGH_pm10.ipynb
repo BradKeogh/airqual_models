{
 "cells": [
  {
   "cell_type": "code",
   "execution_count": 1,
   "metadata": {},
   "outputs": [],
   "source": [
    "################################################################################\n",
    "# R CODE INCLUDED AS SUPPLEMENTARY ONLINE MATERIAL FOR:\n",
    "#   \"Time series regression studies in environmental epidemiology\"\n",
    "#   Bhaskaran K, ....\n",
    "################################################################################\n",
    "\n",
    "# LOAD THE DATA INTO THE SESSION\n",
    "# (THE DATA ARE STORED IN A STATA'S .dta FILE)\n",
    "# (THE FUNCTION read.dta IN THE PACKAGE foreign CAN DO THE JOB)\n",
    "# (THE PACKAGE IS NOT PRE-LOADED INTO THE SESSION AND NEEDS TO BE LOADED)\n",
    "library(foreign)\n",
    "#data <- read.dta(\"ije-2012-10-0989-File003.dta\")\n",
    "data <- read.csv(file=\"./soton_aquality.csv\", header=TRUE, sep=\",\")\n",
    "\n",
    "# SET THE DEFAULT ACTION FOR MISSING DATA TO na.exclude\n",
    "# (MISSING EXCLUDED IN ESTIMATION BUT RE-INSERTED IN PREDICTION/RESIDUALS)\n",
    "options(na.action=\"na.exclude\")\n",
    "\n",
    "# CONVERT DATE COLUMN TO DATE FORMAT\n",
    "data$date <- as.Date(data$date, format = \"%Y-%m-%d\")\n",
    "\n",
    "# CHOOSE VARIABLES\n",
    "data$target <- data$total_ed_attendance\n",
    "data$pollutant <- data$pm10_ugm3\n",
    "data$temperature <- data$air_temp_min"
   ]
  },
  {
   "cell_type": "markdown",
   "metadata": {},
   "source": [
    "data"
   ]
  },
  {
   "cell_type": "code",
   "execution_count": 2,
   "metadata": {},
   "outputs": [
    {
     "data": {
      "text/plain": [
       "      date                   date.1    total_ed_attendance\n",
       " Min.   :2014-06-04   2014-06-04:  1   Min.   : 0.00      \n",
       " 1st Qu.:2014-11-17   2014-06-05:  1   1st Qu.:10.00      \n",
       " Median :2015-05-03   2014-06-06:  1   Median :13.00      \n",
       " Mean   :2015-05-03   2014-06-07:  1   Mean   :13.48      \n",
       " 3rd Qu.:2015-10-16   2014-06-08:  1   3rd Qu.:16.00      \n",
       " Max.   :2016-03-31   2014-06-09:  1   Max.   :35.00      \n",
       "                      (Other)   :661                      \n",
       " total_admissions_from_ed  air_temp_ave    air_temp_min    air_temp_max  \n",
       " Min.   : 0.000           Min.   : 0.50   Min.   :-2.40   Min.   : 3.00  \n",
       " 1st Qu.: 6.000           1st Qu.: 8.10   1st Qu.: 5.40   1st Qu.:10.90  \n",
       " Median : 8.000           Median :12.00   Median : 9.30   Median :14.30  \n",
       " Mean   : 8.438           Mean   :11.75   Mean   : 8.97   Mean   :14.55  \n",
       " 3rd Qu.:11.000           3rd Qu.:15.60   3rd Qu.:12.75   3rd Qu.:18.55  \n",
       " Max.   :24.000           Max.   :22.90   Max.   :19.80   Max.   :29.80  \n",
       "                                                                         \n",
       " relative_humidity_percrh   pm10_ugm3       pm2_5_ugm3   \n",
       " Min.   :40.20            Min.   : 5.00   Min.   : 1.00  \n",
       " 1st Qu.:75.25            1st Qu.:12.00   1st Qu.: 6.00  \n",
       " Median :82.10            Median :16.00   Median : 9.00  \n",
       " Mean   :81.01            Mean   :17.65   Mean   :11.69  \n",
       " 3rd Qu.:87.40            3rd Qu.:20.00   3rd Qu.:14.00  \n",
       " Max.   :97.40            Max.   :78.00   Max.   :71.00  \n",
       "                                                         \n",
       " nitrogen_dioxide_ug_m3 nitric_oxide_ug_m3  ozone_ug_m3   \n",
       " Min.   : 8.00          Min.   :  1.00     Min.   : 1.00  \n",
       " 1st Qu.:23.00          1st Qu.:  6.00     1st Qu.:27.00  \n",
       " Median :30.00          Median : 10.00     Median :37.00  \n",
       " Mean   :31.78          Mean   : 15.71     Mean   :36.51  \n",
       " 3rd Qu.:38.00          3rd Qu.: 17.00     3rd Qu.:46.00  \n",
       " Max.   :98.00          Max.   :347.00     Max.   :84.00  \n",
       "                                                          \n",
       " sulphur_dioxide_ug_m3 pos_virus_perc   phe_resp_virus_tests_total\n",
       " Min.   : 0.000        Min.   :0.0000   Min.   : 0.00             \n",
       " 1st Qu.: 1.000        1st Qu.:0.0000   1st Qu.: 1.00             \n",
       " Median : 1.000        Median :0.1111   Median : 9.00             \n",
       " Mean   : 1.721        Mean   :0.1650   Mean   :11.13             \n",
       " 3rd Qu.: 2.000        3rd Qu.:0.2857   3rd Qu.:18.00             \n",
       " Max.   :14.000        Max.   :1.0000   Max.   :56.00             \n",
       "                                                                  \n",
       "     target        pollutant      temperature   \n",
       " Min.   : 0.00   Min.   : 5.00   Min.   :-2.40  \n",
       " 1st Qu.:10.00   1st Qu.:12.00   1st Qu.: 5.40  \n",
       " Median :13.00   Median :16.00   Median : 9.30  \n",
       " Mean   :13.48   Mean   :17.65   Mean   : 8.97  \n",
       " 3rd Qu.:16.00   3rd Qu.:20.00   3rd Qu.:12.75  \n",
       " Max.   :35.00   Max.   :78.00   Max.   :19.80  \n",
       "                                                "
      ]
     },
     "metadata": {},
     "output_type": "display_data"
    },
    {
     "data": {
      "text/html": [
       "<table>\n",
       "<thead><tr><th></th><th scope=col>total_admissions_from_ed</th><th scope=col>air_temp_ave</th><th scope=col>air_temp_min</th><th scope=col>air_temp_max</th><th scope=col>relative_humidity_percrh</th></tr></thead>\n",
       "<tbody>\n",
       "\t<tr><th scope=row>total_admissions_from_ed</th><td> 1.00000000</td><td>-0.29461913</td><td>-0.2674553 </td><td>-0.30046508</td><td>0.04154038 </td></tr>\n",
       "\t<tr><th scope=row>air_temp_ave</th><td>-0.29461913</td><td> 1.00000000</td><td> 0.9611686 </td><td> 0.96393926</td><td>0.09881439 </td></tr>\n",
       "\t<tr><th scope=row>air_temp_min</th><td>-0.26745525</td><td> 0.96116860</td><td> 1.0000000 </td><td> 0.87477388</td><td>0.10763095 </td></tr>\n",
       "\t<tr><th scope=row>air_temp_max</th><td>-0.30046508</td><td> 0.96393926</td><td> 0.8747739 </td><td> 1.00000000</td><td>0.06158603 </td></tr>\n",
       "\t<tr><th scope=row>relative_humidity_percrh</th><td> 0.04154038</td><td> 0.09881439</td><td> 0.1076310 </td><td> 0.06158603</td><td>1.00000000 </td></tr>\n",
       "</tbody>\n",
       "</table>\n"
      ],
      "text/latex": [
       "\\begin{tabular}{r|lllll}\n",
       "  & total\\_admissions\\_from\\_ed & air\\_temp\\_ave & air\\_temp\\_min & air\\_temp\\_max & relative\\_humidity\\_percrh\\\\\n",
       "\\hline\n",
       "\ttotal\\_admissions\\_from\\_ed &  1.00000000 & -0.29461913 & -0.2674553  & -0.30046508 & 0.04154038 \\\\\n",
       "\tair\\_temp\\_ave & -0.29461913 &  1.00000000 &  0.9611686  &  0.96393926 & 0.09881439 \\\\\n",
       "\tair\\_temp\\_min & -0.26745525 &  0.96116860 &  1.0000000  &  0.87477388 & 0.10763095 \\\\\n",
       "\tair\\_temp\\_max & -0.30046508 &  0.96393926 &  0.8747739  &  1.00000000 & 0.06158603 \\\\\n",
       "\trelative\\_humidity\\_percrh &  0.04154038 &  0.09881439 &  0.1076310  &  0.06158603 & 1.00000000 \\\\\n",
       "\\end{tabular}\n"
      ],
      "text/markdown": [
       "\n",
       "| <!--/--> | total_admissions_from_ed | air_temp_ave | air_temp_min | air_temp_max | relative_humidity_percrh |\n",
       "|---|---|---|---|---|---|\n",
       "| total_admissions_from_ed |  1.00000000 | -0.29461913 | -0.2674553  | -0.30046508 | 0.04154038  |\n",
       "| air_temp_ave | -0.29461913 |  1.00000000 |  0.9611686  |  0.96393926 | 0.09881439  |\n",
       "| air_temp_min | -0.26745525 |  0.96116860 |  1.0000000  |  0.87477388 | 0.10763095  |\n",
       "| air_temp_max | -0.30046508 |  0.96393926 |  0.8747739  |  1.00000000 | 0.06158603  |\n",
       "| relative_humidity_percrh |  0.04154038 |  0.09881439 |  0.1076310  |  0.06158603 | 1.00000000  |\n",
       "\n"
      ],
      "text/plain": [
       "                         total_admissions_from_ed air_temp_ave air_temp_min\n",
       "total_admissions_from_ed  1.00000000              -0.29461913  -0.2674553  \n",
       "air_temp_ave             -0.29461913               1.00000000   0.9611686  \n",
       "air_temp_min             -0.26745525               0.96116860   1.0000000  \n",
       "air_temp_max             -0.30046508               0.96393926   0.8747739  \n",
       "relative_humidity_percrh  0.04154038               0.09881439   0.1076310  \n",
       "                         air_temp_max relative_humidity_percrh\n",
       "total_admissions_from_ed -0.30046508  0.04154038              \n",
       "air_temp_ave              0.96393926  0.09881439              \n",
       "air_temp_min              0.87477388  0.10763095              \n",
       "air_temp_max              1.00000000  0.06158603              \n",
       "relative_humidity_percrh  0.06158603  1.00000000              "
      ]
     },
     "metadata": {},
     "output_type": "display_data"
    },
    {
     "data": {
      "image/png": "[encoded data removed]",
      "text/plain": [
       "Plot with title \"Ozone levels over time\""
      ]
     },
     "metadata": {},
     "output_type": "display_data"
    }
   ],
   "source": [
    "################################################################################\n",
    "# PRELIMINARY ANALYSIS\n",
    "#######################\n",
    "\n",
    "#############\n",
    "# FIGURE 1\n",
    "#############\n",
    "\n",
    "# SET THE PLOTTING PARAMETERS FOR THE PLOT (SEE ?par)\n",
    "oldpar <- par(no.readonly=TRUE)\n",
    "par(mex=0.8,mfrow=c(2,1))\n",
    "\n",
    "# SUB-PLOT FOR DAILY DEATHS, WITH VERTICAL LINES DEFINING YEARS\n",
    "plot(data$date,data$target,pch=\".\",main=\"Daily deaths over time\",\n",
    "  ylab=\"Daily number of deaths\",xlab=\"Date\")\n",
    "abline(v=data$date[grep(\"-01-01\",data$date)],col=grey(0.6),lty=2)\n",
    "\n",
    "# THE SAME FOR OZONE LEVELS\n",
    "plot(data$date,data$pollutant,pch=\".\",main=\"Ozone levels over time\",\n",
    "     ylab=\"Daily mean ozone level (ug/m3)\",xlab=\"Date\")\n",
    "abline(v=data$date[grep(\"-01-01\",data$date)],col=grey(0.6),lty=2)\n",
    "par(oldpar)\n",
    "layout(1)\n",
    "\n",
    "########################\n",
    "# DESCRIPTIVE STATISTICS\n",
    "########################\n",
    "\n",
    "# SUMMARY\n",
    "summary(data)\n",
    "\n",
    "# OTHER USEFUL FUNCTIONS IN THE PACKAGE epicals\n",
    "# (THE PACKAGE IS NOT PRESENT IN THE DEFAULT R INSTALLATION)\n",
    "# (IT NEED TO BE INSTALLED AND THEN LOADED INTO THE SESSION)\n",
    "#install.packages(\"epicalc\") # is this only required for 2 commands below\n",
    "#library(epicalc)\n",
    "#des(data)\n",
    "#summ(data)\n",
    "\n",
    "# CORRELATIONS\n",
    "#cor(data[,2:4])\n",
    "cor(data[,4:8])\n",
    "#################\n",
    "# SCALE EXPOSURE\n",
    "#################\n",
    "\n",
    "#data$ozone10 <- data$ozone/10"
   ]
  },
  {
   "cell_type": "code",
   "execution_count": 3,
   "metadata": {},
   "outputs": [
    {
     "data": {
      "text/plain": [
       "\n",
       "Call:\n",
       "glm(formula = target ~ month/year, family = quasipoisson, data = data)\n",
       "\n",
       "Deviance Residuals: \n",
       "    Min       1Q   Median       3Q      Max  \n",
       "-4.6260  -0.8233  -0.1556   0.6996   3.5610  \n",
       "\n",
       "Coefficients: (14 not defined because of singularities)\n",
       "                  Estimate Std. Error t value Pr(>|t|)    \n",
       "(Intercept)        2.37024    0.06731  35.213  < 2e-16 ***\n",
       "monthAug          -0.16944    0.09862  -1.718 0.086243 .  \n",
       "monthDec           0.56224    0.08384   6.706 4.38e-11 ***\n",
       "monthFeb           0.34010    0.08869   3.835 0.000138 ***\n",
       "monthJan           0.45726    0.08548   5.349 1.23e-07 ***\n",
       "monthJul          -0.03591    0.09527  -0.377 0.706344    \n",
       "monthJun           0.01750    0.09735   0.180 0.857408    \n",
       "monthMar           0.38198    0.08674   4.404 1.25e-05 ***\n",
       "monthMay           0.15935    0.09094   1.752 0.080202 .  \n",
       "monthNov           0.31533    0.08852   3.562 0.000395 ***\n",
       "monthOct           0.13594    0.09142   1.487 0.137523    \n",
       "monthSep          -0.01887    0.09565  -0.197 0.843674    \n",
       "monthApr:year2015       NA         NA      NA       NA    \n",
       "monthAug:year2015  0.14286    0.09847   1.451 0.147332    \n",
       "monthDec:year2015 -0.03319    0.07129  -0.466 0.641680    \n",
       "monthFeb:year2015 -0.13175    0.08531  -1.544 0.122966    \n",
       "monthJan:year2015 -0.12593    0.07697  -1.636 0.102298    \n",
       "monthJul:year2015 -0.01893    0.09580  -0.198 0.843432    \n",
       "monthJun:year2015 -0.02689    0.09757  -0.276 0.782963    \n",
       "monthMar:year2015 -0.17740    0.08103  -2.189 0.028939 *  \n",
       "monthMay:year2015       NA         NA      NA       NA    \n",
       "monthNov:year2015  0.13183    0.07876   1.674 0.094653 .  \n",
       "monthOct:year2015  0.32893    0.08113   4.054 5.64e-05 ***\n",
       "monthSep:year2015  0.32965    0.08909   3.700 0.000234 ***\n",
       "monthApr:year2016       NA         NA      NA       NA    \n",
       "monthAug:year2016       NA         NA      NA       NA    \n",
       "monthDec:year2016       NA         NA      NA       NA    \n",
       "monthFeb:year2016       NA         NA      NA       NA    \n",
       "monthJan:year2016       NA         NA      NA       NA    \n",
       "monthJul:year2016       NA         NA      NA       NA    \n",
       "monthJun:year2016       NA         NA      NA       NA    \n",
       "monthMar:year2016       NA         NA      NA       NA    \n",
       "monthMay:year2016       NA         NA      NA       NA    \n",
       "monthNov:year2016       NA         NA      NA       NA    \n",
       "monthOct:year2016       NA         NA      NA       NA    \n",
       "monthSep:year2016       NA         NA      NA       NA    \n",
       "---\n",
       "Signif. codes:  0 '***' 0.001 '**' 0.01 '*' 0.05 '.' 0.1 ' ' 1\n",
       "\n",
       "(Dispersion parameter for quasipoisson family taken to be 1.454423)\n",
       "\n",
       "    Null deviance: 1362.46  on 666  degrees of freedom\n",
       "Residual deviance:  951.84  on 645  degrees of freedom\n",
       "AIC: NA\n",
       "\n",
       "Number of Fisher Scoring iterations: 4\n"
      ]
     },
     "metadata": {},
     "output_type": "display_data"
    },
    {
     "data": {
      "image/png": "[encoded data removed]",
      "text/plain": [
       "Plot with title \"Time-stratified model (month strata)\""
      ]
     },
     "metadata": {},
     "output_type": "display_data"
    }
   ],
   "source": [
    "################################################################################\n",
    "# MODELLING SEASONALITY AND LONG-TERM TREND\n",
    "# (LEAVING OUT MAIN EXPOSURE FOR NOW)\n",
    "############################################\n",
    "\n",
    "##################################\n",
    "# OPTION 1: TIME-STRATIFIED MODEL\n",
    "# (SIMPLE INDICATOR VARIABLES)\n",
    "##################################\n",
    "\n",
    "# GENERATE MONTH AND YEAR\n",
    "data$month <- as.factor(months(data$date,abbr=TRUE))\n",
    "data$year <- as.factor(substr(data$date,1,4))\n",
    "\n",
    "# FIT A POISSON MODEL WITH A STRATUM FOR EACH MONTH NESTED IN YEAR\n",
    "# (USE OF quasipoisson FAMILY FOR SCALING THE STANDARD ERRORS)\n",
    "model1 <- glm(target ~ month/year,data,family=quasipoisson)\n",
    "summary(model1)\n",
    "\n",
    "# COMPUTE PREDICTED NUMBER OF DEATHS FROM THIS MODEL\n",
    "pred1 <- predict(model1,type=\"response\")\n",
    "\n",
    "#############\n",
    "# FIGURE 2A\n",
    "#############\n",
    "\n",
    "#plot(data$date,data$num_deaths,ylim=c(100,300),pch=19,cex=0.2,col=grey(0.6),\n",
    "#  main=\"Time-stratified model (month strata)\",ylab=\"Daily number of deaths\",\n",
    "#  xlab=\"Date\")\n",
    "\n",
    "plot(data$date,data$target,pch=19,cex=0.2,col=grey(0.6),\n",
    "     main=\"Time-stratified model (month strata)\",ylab=\"Daily number of deaths\",\n",
    "     xlab=\"Date\")\n",
    "lines(data$date,pred1,lwd=2)"
   ]
  },
  {
   "cell_type": "code",
   "execution_count": 4,
   "metadata": {},
   "outputs": [
    {
     "name": "stdout",
     "output_type": "stream",
     "text": [
      "package 'tsModel' successfully unpacked and MD5 sums checked\n",
      "\n",
      "The downloaded binary packages are in\n",
      "\tC:\\Users\\bjk1y13\\AppData\\Local\\Temp\\RtmpCk5xk9\\downloaded_packages\n"
     ]
    },
    {
     "name": "stderr",
     "output_type": "stream",
     "text": [
      "Warning message:\n",
      "\"package 'tsModel' was built under R version 3.5.3\"Time Series Modeling for Air Pollution and Health (0.6)\n"
     ]
    }
   ],
   "source": [
    "#####################################\n",
    "# OPTION 2: PERIODIC FUNCTIONS MODEL\n",
    "# (FOURIER TERMS)\n",
    "#####################################\n",
    "\n",
    "# GENERATE FOURIER TERMS\n",
    "# (USE FUNCTION harmonic, IN PACKAGE tsModel TO BE INSTALLED AND THEN LOADED)\n",
    "install.packages(\"tsModel\", repos='http://cran.us.r-project.org')\n",
    "library(tsModel)"
   ]
  },
  {
   "cell_type": "code",
   "execution_count": 5,
   "metadata": {},
   "outputs": [
    {
     "data": {
      "text/plain": [
       "\n",
       "Call:\n",
       "glm(formula = target ~ fourier + time, family = quasipoisson, \n",
       "    data = data)\n",
       "\n",
       "Deviance Residuals: \n",
       "    Min       1Q   Median       3Q      Max  \n",
       "-4.9289  -0.9104  -0.1124   0.6878   3.7224  \n",
       "\n",
       "Coefficients:\n",
       "              Estimate Std. Error t value Pr(>|t|)    \n",
       "(Intercept)  2.442e+00  2.817e-02  86.688  < 2e-16 ***\n",
       "fourier1    -8.036e-02  1.955e-02  -4.111 4.44e-05 ***\n",
       "fourier2    -2.364e-02  1.877e-02  -1.259 0.208301    \n",
       "fourier3     7.906e-02  1.800e-02   4.393 1.30e-05 ***\n",
       "fourier4    -2.105e-01  1.950e-02 -10.792  < 2e-16 ***\n",
       "fourier5     7.072e-02  1.835e-02   3.855 0.000127 ***\n",
       "fourier6     7.170e-03  1.813e-02   0.395 0.692634    \n",
       "time         3.779e-04  7.192e-05   5.255 2.00e-07 ***\n",
       "---\n",
       "Signif. codes:  0 '***' 0.001 '**' 0.01 '*' 0.05 '.' 0.1 ' ' 1\n",
       "\n",
       "(Dispersion parameter for quasipoisson family taken to be 1.446011)\n",
       "\n",
       "    Null deviance: 1362.46  on 666  degrees of freedom\n",
       "Residual deviance:  967.95  on 659  degrees of freedom\n",
       "AIC: NA\n",
       "\n",
       "Number of Fisher Scoring iterations: 4\n"
      ]
     },
     "metadata": {},
     "output_type": "display_data"
    },
    {
     "data": {
      "image/png": "[encoded data removed]",
      "text/plain": [
       "Plot with title \"Sine-cosine functions (Fourier terms)\""
      ]
     },
     "metadata": {},
     "output_type": "display_data"
    }
   ],
   "source": [
    "# 4 SINE-COSINE PAIRS REPRESENTING DIFFERENT HARMONICS WITH PERIOD 1 YEAR\n",
    "data$time <- seq(nrow(data))\n",
    "fourier <- harmonic(data$time,nfreq=3,period=365.25)\n",
    "\n",
    "# FIT A POISSON MODEL FOURIER TERMS + LINEAR TERM FOR TREND\n",
    "# (USE OF quasipoisson FAMILY FOR SCALING THE STANDARD ERRORS)\n",
    "model2 <- glm(target ~ fourier + time,data,family=quasipoisson)\n",
    "summary(model2)\n",
    "\n",
    "# COMPUTE PREDICTED NUMBER OF DEATHS FROM THIS MODEL\n",
    "pred2 <- predict(model2,type=\"response\")\n",
    "\n",
    "#############\n",
    "# FIGURE 2B\n",
    "#############\n",
    "#plot(data$date,data$target,ylim=c(100,300),pch=19,cex=0.2,col=grey(0.6),\n",
    "#     main=\"Sine-cosine functions (Fourier terms)\",ylab=\"Daily number of deaths\",\n",
    "#     xlab=\"Date\")\n",
    "\n",
    "plot(data$date,data$target,pch=19,cex=0.2,col=grey(0.6),\n",
    "  main=\"Sine-cosine functions (Fourier terms)\",ylab=\"Daily number of deaths\",\n",
    "  xlab=\"Date\")\n",
    "lines(data$date,pred2,lwd=2)"
   ]
  },
  {
   "cell_type": "code",
   "execution_count": 6,
   "metadata": {},
   "outputs": [
    {
     "data": {
      "image/png": "[encoded data removed]",
      "text/plain": [
       "Plot with title \"Residuals over time\""
      ]
     },
     "metadata": {},
     "output_type": "display_data"
    }
   ],
   "source": [
    "#####################################\n",
    "# PLOT RESPONSE RESIDUALS OVER TIME\n",
    "# FROM MODEL 3\n",
    "#####################################\n",
    "\n",
    "# GENERATE RESIDUALS\n",
    "res3 <- residuals(model2,type=\"response\")\n",
    "\n",
    "############\n",
    "# FIGURE 3\n",
    "############\n",
    "\n",
    "plot(data$date,res3,pch=19,cex=0.4,col=grey(0.6),\n",
    "  main=\"Residuals over time\",ylab=\"Residuals (observed-fitted)\",xlab=\"Date\")\n",
    "abline(h=1,lty=2,lwd=2)\n",
    "\n",
    "#,ylim=c(-50,150)"
   ]
  },
  {
   "cell_type": "code",
   "execution_count": 7,
   "metadata": {},
   "outputs": [
    {
     "data": {
      "text/plain": [
       "\n",
       "Call:\n",
       "glm(formula = target ~ spl, family = quasipoisson, data = data)\n",
       "\n",
       "Deviance Residuals: \n",
       "    Min       1Q   Median       3Q      Max  \n",
       "-4.9184  -0.9162  -0.1571   0.7554   3.8027  \n",
       "\n",
       "Coefficients:\n",
       "            Estimate Std. Error t value Pr(>|t|)    \n",
       "(Intercept)  2.25819    0.15614  14.462  < 2e-16 ***\n",
       "spl1         0.40758    0.28646   1.423 0.155273    \n",
       "spl2        -0.26323    0.18540  -1.420 0.156146    \n",
       "spl3         0.06125    0.21289   0.288 0.773672    \n",
       "spl4         0.58231    0.17574   3.314 0.000972 ***\n",
       "spl5         0.63806    0.18698   3.412 0.000684 ***\n",
       "spl6         0.10772    0.18364   0.587 0.557696    \n",
       "spl7         0.33036    0.18915   1.747 0.081182 .  \n",
       "spl8        -0.02238    0.18943  -0.118 0.905981    \n",
       "spl9         0.13379    0.18779   0.712 0.476427    \n",
       "spl10        0.64303    0.18242   3.525 0.000453 ***\n",
       "spl11        0.62477    0.18481   3.381 0.000766 ***\n",
       "spl12        0.55626    0.20143   2.762 0.005915 ** \n",
       "spl13        0.33129    0.20916   1.584 0.113692    \n",
       "spl14        0.61423    0.19812   3.100 0.002017 ** \n",
       "---\n",
       "Signif. codes:  0 '***' 0.001 '**' 0.01 '*' 0.05 '.' 0.1 ' ' 1\n",
       "\n",
       "(Dispersion parameter for quasipoisson family taken to be 1.454147)\n",
       "\n",
       "    Null deviance: 1362.46  on 666  degrees of freedom\n",
       "Residual deviance:  958.96  on 652  degrees of freedom\n",
       "AIC: NA\n",
       "\n",
       "Number of Fisher Scoring iterations: 4\n"
      ]
     },
     "metadata": {},
     "output_type": "display_data"
    },
    {
     "data": {
      "image/png": "[encoded data removed]",
      "text/plain": [
       "Plot with title \"Flexible cubic spline model\""
      ]
     },
     "metadata": {},
     "output_type": "display_data"
    }
   ],
   "source": [
    "#####################################\n",
    "# OPTION 3: SPLINE MODEL\n",
    "# (FLEXIBLE SPLINE FUNCTIONS)\n",
    "#####################################\n",
    "\n",
    "# GENERATE SPLINE TERMS\n",
    "# (USE FUNCTION bs IN PACKAGE splines, TO BE LOADED)\n",
    "library(splines)\n",
    "\n",
    "# A CUBIC B-SPLINE WITH 32 EQUALLY-SPACED KNOTS + 2 BOUNDARY KNOTS\n",
    "# (NOTE: THIS PARAMETERIZATION IS SLIGHTLY DIFFERENT THAN STATA'S)\n",
    "# (THE 35 BASIS VARIABLES ARE SET AS df, WITH DEFAULT KNOTS PLACEMENT. SEE ?bs)\n",
    "# (OTHER TYPES OF SPLINES CAN BE PRODUCED WITH THE FUNCTION ns. SEE ?ns)\n",
    "# spl <- bs(data$time,degree=3,df=12)\n",
    "spl <- bs(data$time,degree=3,df=14)\n",
    "\n",
    "# FIT A POISSON MODEL FOURIER TERMS + LINEAR TERM FOR TREND\n",
    "# (USE OF quasipoisson FAMILY FOR SCALING THE STANDARD ERRORS)\n",
    "model3 <- glm(target ~ spl,data,family=quasipoisson)\n",
    "summary(model3)\n",
    "\n",
    "# COMPUTE PREDICTED NUMBER OF DEATHS FROM THIS MODEL\n",
    "pred3 <- predict(model3,type=\"response\")\n",
    "\n",
    "#############\n",
    "# FIGURE 2C\n",
    "#############\n",
    "\n",
    "plot(data$date,data$target,pch=19,cex=0.2,col=grey(0.6),\n",
    "     main=\"Flexible cubic spline model\",ylab=\"Daily number of deaths\",\n",
    "     xlab=\"Date\")\n",
    "lines(data$date,pred3,lwd=2)\n",
    "# this looks a bit overfit, fourier looks better."
   ]
  },
  {
   "cell_type": "code",
   "execution_count": 8,
   "metadata": {},
   "outputs": [
    {
     "data": {
      "image/png": "[encoded data removed]",
      "text/plain": [
       "Plot with title \"Residuals over time\""
      ]
     },
     "metadata": {},
     "output_type": "display_data"
    }
   ],
   "source": [
    "#####################################\n",
    "# PLOT RESPONSE RESIDUALS OVER TIME\n",
    "# FROM MODEL 3\n",
    "#####################################\n",
    "\n",
    "# GENERATE RESIDUALS\n",
    "res3 <- residuals(model3,type=\"response\")\n",
    "\n",
    "############\n",
    "# FIGURE 3\n",
    "############\n",
    "\n",
    "plot(data$date,res3,pch=19,cex=0.4,col=grey(0.6),\n",
    "  main=\"Residuals over time\",ylab=\"Residuals (observed-fitted)\",xlab=\"Date\")\n",
    "abline(h=1,lty=2,lwd=2)\n",
    "\n",
    "#,ylim=c(-50,150)"
   ]
  },
  {
   "cell_type": "code",
   "execution_count": null,
   "metadata": {},
   "outputs": [],
   "source": []
  },
  {
   "cell_type": "code",
   "execution_count": null,
   "metadata": {},
   "outputs": [],
   "source": []
  },
  {
   "cell_type": "code",
   "execution_count": 9,
   "metadata": {},
   "outputs": [
    {
     "name": "stdout",
     "output_type": "stream",
     "text": [
      "package 'Epi' successfully unpacked and MD5 sums checked\n",
      "\n",
      "The downloaded binary packages are in\n",
      "\tC:\\Users\\bjk1y13\\AppData\\Local\\Temp\\RtmpCk5xk9\\downloaded_packages\n"
     ]
    },
    {
     "name": "stderr",
     "output_type": "stream",
     "text": [
      "Warning message:\n",
      "\"package 'Epi' was built under R version 3.5.3\""
     ]
    }
   ],
   "source": [
    "################################################################################\n",
    "# ESTIMATING OZONE-MORTALITY ASSOCIATION\n",
    "# (CONTROLLING FOR CONFOUNDERS)\n",
    "############################################\n",
    "\n",
    "\n",
    "#date year month target phe_resp_virus_tests_total temperature pm10_ugm3 relative_humidity_percrh date_count\n",
    "\n",
    "# COMPARE THE RR (AND CI)\n",
    "# (COMPUTED WITH THE FUNCTION ci.lin IN PACKAGE Epi, TO BE INSTALLED AND LOADED)\n",
    "install.packages(\"Epi\", repos='http://cran.us.r-project.org')\n",
    "library(Epi)"
   ]
  },
  {
   "cell_type": "code",
   "execution_count": 10,
   "metadata": {},
   "outputs": [
    {
     "data": {
      "text/plain": [
       "\n",
       "Call:\n",
       "glm(formula = target ~ pollutant, family = quasipoisson, data = data)\n",
       "\n",
       "Deviance Residuals: \n",
       "    Min       1Q   Median       3Q      Max  \n",
       "-5.1477  -0.9781  -0.1524   0.7219   4.9830  \n",
       "\n",
       "Coefficients:\n",
       "            Estimate Std. Error t value Pr(>|t|)    \n",
       "(Intercept) 2.555893   0.033995  75.185   <2e-16 ***\n",
       "pollutant   0.002552   0.001707   1.495    0.135    \n",
       "---\n",
       "Signif. codes:  0 '***' 0.001 '**' 0.01 '*' 0.05 '.' 0.1 ' ' 1\n",
       "\n",
       "(Dispersion parameter for quasipoisson family taken to be 2.041223)\n",
       "\n",
       "    Null deviance: 1362.5  on 666  degrees of freedom\n",
       "Residual deviance: 1358.0  on 665  degrees of freedom\n",
       "AIC: NA\n",
       "\n",
       "Number of Fisher Scoring iterations: 4\n"
      ]
     },
     "metadata": {},
     "output_type": "display_data"
    },
    {
     "data": {
      "text/html": [
       "<table>\n",
       "<thead><tr><th></th><th scope=col>Estimate</th><th scope=col>StdErr</th><th scope=col>z</th><th scope=col>P</th><th scope=col>exp(Est.)</th><th scope=col>2.5%</th><th scope=col>97.5%</th></tr></thead>\n",
       "<tbody>\n",
       "\t<tr><th scope=row>pollutant</th><td>0.002551929</td><td>0.001707408</td><td>1.494621   </td><td>0.1350133  </td><td>1.002555   </td><td>0.9992058  </td><td>1.005916   </td></tr>\n",
       "</tbody>\n",
       "</table>\n"
      ],
      "text/latex": [
       "\\begin{tabular}{r|lllllll}\n",
       "  & Estimate & StdErr & z & P & exp(Est.) & 2.5\\% & 97.5\\%\\\\\n",
       "\\hline\n",
       "\tpollutant & 0.002551929 & 0.001707408 & 1.494621    & 0.1350133   & 1.002555    & 0.9992058   & 1.005916   \\\\\n",
       "\\end{tabular}\n"
      ],
      "text/markdown": [
       "\n",
       "| <!--/--> | Estimate | StdErr | z | P | exp(Est.) | 2.5% | 97.5% |\n",
       "|---|---|---|---|---|---|---|---|\n",
       "| pollutant | 0.002551929 | 0.001707408 | 1.494621    | 0.1350133   | 1.002555    | 0.9992058   | 1.005916    |\n",
       "\n"
      ],
      "text/plain": [
       "          Estimate    StdErr      z        P         exp(Est.) 2.5%     \n",
       "pollutant 0.002551929 0.001707408 1.494621 0.1350133 1.002555  0.9992058\n",
       "          97.5%   \n",
       "pollutant 1.005916"
      ]
     },
     "metadata": {},
     "output_type": "display_data"
    },
    {
     "data": {
      "text/plain": [
       "\n",
       "Call:\n",
       "glm(formula = target ~ pollutant + fourier, family = quasipoisson, \n",
       "    data = data)\n",
       "\n",
       "Deviance Residuals: \n",
       "    Min       1Q   Median       3Q      Max  \n",
       "-5.0204  -0.8808  -0.1205   0.6732   3.3662  \n",
       "\n",
       "Coefficients:\n",
       "             Estimate Std. Error t value Pr(>|t|)    \n",
       "(Intercept)  2.614460   0.029736  87.924  < 2e-16 ***\n",
       "pollutant   -0.002549   0.001531  -1.665  0.09647 .  \n",
       "fourier1    -0.115399   0.018874  -6.114 1.66e-09 ***\n",
       "fourier2    -0.030992   0.019103  -1.622  0.10520    \n",
       "fourier3     0.082473   0.018504   4.457 9.77e-06 ***\n",
       "fourier4    -0.237835   0.019836 -11.990  < 2e-16 ***\n",
       "fourier5     0.056754   0.018615   3.049  0.00239 ** \n",
       "fourier6     0.009787   0.018425   0.531  0.59547    \n",
       "---\n",
       "Signif. codes:  0 '***' 0.001 '**' 0.01 '*' 0.05 '.' 0.1 ' ' 1\n",
       "\n",
       "(Dispersion parameter for quasipoisson family taken to be 1.498216)\n",
       "\n",
       "    Null deviance: 1362.5  on 666  degrees of freedom\n",
       "Residual deviance: 1003.8  on 659  degrees of freedom\n",
       "AIC: NA\n",
       "\n",
       "Number of Fisher Scoring iterations: 4\n"
      ]
     },
     "metadata": {},
     "output_type": "display_data"
    },
    {
     "data": {
      "text/html": [
       "<table>\n",
       "<thead><tr><th></th><th scope=col>Estimate</th><th scope=col>StdErr</th><th scope=col>z</th><th scope=col>P</th><th scope=col>exp(Est.)</th><th scope=col>2.5%</th><th scope=col>97.5%</th></tr></thead>\n",
       "<tbody>\n",
       "\t<tr><th scope=row>pollutant</th><td>-0.002548925</td><td>0.001531256 </td><td>-1.664598   </td><td>0.0959929   </td><td>0.9974543   </td><td>0.9944652   </td><td>1.000452    </td></tr>\n",
       "</tbody>\n",
       "</table>\n"
      ],
      "text/latex": [
       "\\begin{tabular}{r|lllllll}\n",
       "  & Estimate & StdErr & z & P & exp(Est.) & 2.5\\% & 97.5\\%\\\\\n",
       "\\hline\n",
       "\tpollutant & -0.002548925 & 0.001531256  & -1.664598    & 0.0959929    & 0.9974543    & 0.9944652    & 1.000452    \\\\\n",
       "\\end{tabular}\n"
      ],
      "text/markdown": [
       "\n",
       "| <!--/--> | Estimate | StdErr | z | P | exp(Est.) | 2.5% | 97.5% |\n",
       "|---|---|---|---|---|---|---|---|\n",
       "| pollutant | -0.002548925 | 0.001531256  | -1.664598    | 0.0959929    | 0.9974543    | 0.9944652    | 1.000452     |\n",
       "\n"
      ],
      "text/plain": [
       "          Estimate     StdErr      z         P         exp(Est.) 2.5%     \n",
       "pollutant -0.002548925 0.001531256 -1.664598 0.0959929 0.9974543 0.9944652\n",
       "          97.5%   \n",
       "pollutant 1.000452"
      ]
     },
     "metadata": {},
     "output_type": "display_data"
    }
   ],
   "source": [
    "# UNADJUSTED MODEL\n",
    "model4 <- glm(target ~ pollutant,data,family=quasipoisson)\n",
    "summary(model4)\n",
    "(eff4 <- ci.lin(model4,subset=\"pollutant\",Exp=T))\n",
    "\n",
    "# CONTROLLING FOR SEASONALITY (WITH FOURRIER AS IN MODEL 2)\n",
    "# model5 <- update(model4,.~.+fourier)\n",
    "model5 <- update(model4,.~.+fourier)\n",
    "summary(model5)\n",
    "(eff5 <- ci.lin(model5,subset=\"pollutant\",Exp=T))"
   ]
  },
  {
   "cell_type": "code",
   "execution_count": 11,
   "metadata": {},
   "outputs": [
    {
     "data": {
      "text/plain": [
       "\n",
       "Call:\n",
       "glm(formula = target ~ pollutant, family = quasipoisson, data = data)\n",
       "\n",
       "Deviance Residuals: \n",
       "    Min       1Q   Median       3Q      Max  \n",
       "-5.1477  -0.9781  -0.1524   0.7219   4.9830  \n",
       "\n",
       "Coefficients:\n",
       "            Estimate Std. Error t value Pr(>|t|)    \n",
       "(Intercept) 2.555893   0.033995  75.185   <2e-16 ***\n",
       "pollutant   0.002552   0.001707   1.495    0.135    \n",
       "---\n",
       "Signif. codes:  0 '***' 0.001 '**' 0.01 '*' 0.05 '.' 0.1 ' ' 1\n",
       "\n",
       "(Dispersion parameter for quasipoisson family taken to be 2.041223)\n",
       "\n",
       "    Null deviance: 1362.5  on 666  degrees of freedom\n",
       "Residual deviance: 1358.0  on 665  degrees of freedom\n",
       "AIC: NA\n",
       "\n",
       "Number of Fisher Scoring iterations: 4\n"
      ]
     },
     "metadata": {},
     "output_type": "display_data"
    },
    {
     "data": {
      "text/html": [
       "<table>\n",
       "<thead><tr><th></th><th scope=col>Estimate</th><th scope=col>StdErr</th><th scope=col>z</th><th scope=col>P</th><th scope=col>exp(Est.)</th><th scope=col>2.5%</th><th scope=col>97.5%</th></tr></thead>\n",
       "<tbody>\n",
       "\t<tr><th scope=row>pollutant</th><td>0.002551929</td><td>0.001707408</td><td>1.494621   </td><td>0.1350133  </td><td>1.002555   </td><td>0.9992058  </td><td>1.005916   </td></tr>\n",
       "</tbody>\n",
       "</table>\n"
      ],
      "text/latex": [
       "\\begin{tabular}{r|lllllll}\n",
       "  & Estimate & StdErr & z & P & exp(Est.) & 2.5\\% & 97.5\\%\\\\\n",
       "\\hline\n",
       "\tpollutant & 0.002551929 & 0.001707408 & 1.494621    & 0.1350133   & 1.002555    & 0.9992058   & 1.005916   \\\\\n",
       "\\end{tabular}\n"
      ],
      "text/markdown": [
       "\n",
       "| <!--/--> | Estimate | StdErr | z | P | exp(Est.) | 2.5% | 97.5% |\n",
       "|---|---|---|---|---|---|---|---|\n",
       "| pollutant | 0.002551929 | 0.001707408 | 1.494621    | 0.1350133   | 1.002555    | 0.9992058   | 1.005916    |\n",
       "\n"
      ],
      "text/plain": [
       "          Estimate    StdErr      z        P         exp(Est.) 2.5%     \n",
       "pollutant 0.002551929 0.001707408 1.494621 0.1350133 1.002555  0.9992058\n",
       "          97.5%   \n",
       "pollutant 1.005916"
      ]
     },
     "metadata": {},
     "output_type": "display_data"
    },
    {
     "data": {
      "text/plain": [
       "\n",
       "Call:\n",
       "glm(formula = target ~ pollutant + spl, family = quasipoisson, \n",
       "    data = data)\n",
       "\n",
       "Deviance Residuals: \n",
       "    Min       1Q   Median       3Q      Max  \n",
       "-4.9018  -0.9126  -0.1776   0.7690   3.8291  \n",
       "\n",
       "Coefficients:\n",
       "             Estimate Std. Error t value Pr(>|t|)    \n",
       "(Intercept)  2.240094   0.158442  14.138  < 2e-16 ***\n",
       "pollutant    0.001097   0.001568   0.700 0.484346    \n",
       "spl1         0.407718   0.286838   1.421 0.155673    \n",
       "spl2        -0.260896   0.185640  -1.405 0.160383    \n",
       "spl3         0.048468   0.213898   0.227 0.820812    \n",
       "spl4         0.580331   0.175877   3.300 0.001021 ** \n",
       "spl5         0.634088   0.187246   3.386 0.000751 ***\n",
       "spl6         0.097526   0.184396   0.529 0.597061    \n",
       "spl7         0.334721   0.189433   1.767 0.077703 .  \n",
       "spl8        -0.019249   0.189661  -0.101 0.919190    \n",
       "spl9         0.141482   0.188294   0.751 0.452689    \n",
       "spl10        0.640238   0.182607   3.506 0.000486 ***\n",
       "spl11        0.625090   0.184980   3.379 0.000770 ***\n",
       "spl12        0.550156   0.201854   2.726 0.006593 ** \n",
       "spl13        0.341573   0.209922   1.627 0.104191    \n",
       "spl14        0.607003   0.198678   3.055 0.002341 ** \n",
       "---\n",
       "Signif. codes:  0 '***' 0.001 '**' 0.01 '*' 0.05 '.' 0.1 ' ' 1\n",
       "\n",
       "(Dispersion parameter for quasipoisson family taken to be 1.456268)\n",
       "\n",
       "    Null deviance: 1362.46  on 666  degrees of freedom\n",
       "Residual deviance:  958.25  on 651  degrees of freedom\n",
       "AIC: NA\n",
       "\n",
       "Number of Fisher Scoring iterations: 4\n"
      ]
     },
     "metadata": {},
     "output_type": "display_data"
    },
    {
     "data": {
      "text/html": [
       "<table>\n",
       "<thead><tr><th></th><th scope=col>Estimate</th><th scope=col>StdErr</th><th scope=col>z</th><th scope=col>P</th><th scope=col>exp(Est.)</th><th scope=col>2.5%</th><th scope=col>97.5%</th></tr></thead>\n",
       "<tbody>\n",
       "\t<tr><th scope=row>pollutant</th><td>0.001097258</td><td>0.001568117</td><td>0.6997294  </td><td>0.4840963  </td><td>1.001098   </td><td>0.9980258  </td><td>1.004179   </td></tr>\n",
       "</tbody>\n",
       "</table>\n"
      ],
      "text/latex": [
       "\\begin{tabular}{r|lllllll}\n",
       "  & Estimate & StdErr & z & P & exp(Est.) & 2.5\\% & 97.5\\%\\\\\n",
       "\\hline\n",
       "\tpollutant & 0.001097258 & 0.001568117 & 0.6997294   & 0.4840963   & 1.001098    & 0.9980258   & 1.004179   \\\\\n",
       "\\end{tabular}\n"
      ],
      "text/markdown": [
       "\n",
       "| <!--/--> | Estimate | StdErr | z | P | exp(Est.) | 2.5% | 97.5% |\n",
       "|---|---|---|---|---|---|---|---|\n",
       "| pollutant | 0.001097258 | 0.001568117 | 0.6997294   | 0.4840963   | 1.001098    | 0.9980258   | 1.004179    |\n",
       "\n"
      ],
      "text/plain": [
       "          Estimate    StdErr      z         P         exp(Est.) 2.5%     \n",
       "pollutant 0.001097258 0.001568117 0.6997294 0.4840963 1.001098  0.9980258\n",
       "          97.5%   \n",
       "pollutant 1.004179"
      ]
     },
     "metadata": {},
     "output_type": "display_data"
    }
   ],
   "source": [
    "# UNADJUSTED MODEL\n",
    "model4 <- glm(target ~ pollutant,data,family=quasipoisson)\n",
    "summary(model4)\n",
    "(eff4 <- ci.lin(model4,subset=\"pollutant\",Exp=T))\n",
    "\n",
    "# CONTROLLING FOR SEASONALITY (WITH SPLINE AS IN MODEL 3)\n",
    "# model5 <- update(model4,.~.+fourier)\n",
    "model5 <- update(model4,.~.+spl)\n",
    "summary(model5)\n",
    "(eff5 <- ci.lin(model5,subset=\"pollutant\",Exp=T))"
   ]
  },
  {
   "cell_type": "code",
   "execution_count": 12,
   "metadata": {},
   "outputs": [
    {
     "data": {
      "text/plain": [
       "\n",
       "Call:\n",
       "glm(formula = target ~ pollutant + spl + tempdecile, family = quasipoisson, \n",
       "    data = data)\n",
       "\n",
       "Deviance Residuals: \n",
       "    Min       1Q   Median       3Q      Max  \n",
       "-4.8153  -0.8641  -0.1718   0.7107   3.7938  \n",
       "\n",
       "Coefficients:\n",
       "                       Estimate Std. Error t value Pr(>|t|)    \n",
       "(Intercept)            2.170107   0.170913  12.697  < 2e-16 ***\n",
       "pollutant              0.001558   0.001590   0.980 0.327427    \n",
       "spl1                   0.530095   0.298635   1.775 0.076362 .  \n",
       "spl2                  -0.206979   0.188097  -1.100 0.271575    \n",
       "spl3                   0.065108   0.216198   0.301 0.763398    \n",
       "spl4                   0.629754   0.179190   3.514 0.000472 ***\n",
       "spl5                   0.722044   0.197951   3.648 0.000286 ***\n",
       "spl6                   0.172673   0.190273   0.907 0.364484    \n",
       "spl7                   0.372154   0.195265   1.906 0.057110 .  \n",
       "spl8                   0.030901   0.192571   0.160 0.872566    \n",
       "spl9                   0.184599   0.192801   0.957 0.338696    \n",
       "spl10                  0.675649   0.186416   3.624 0.000313 ***\n",
       "spl11                  0.660886   0.186557   3.543 0.000425 ***\n",
       "spl12                  0.609184   0.209812   2.903 0.003817 ** \n",
       "spl13                  0.457952   0.218783   2.093 0.036725 *  \n",
       "spl14                  0.636119   0.207567   3.065 0.002271 ** \n",
       "tempdecile(2.2,4.7]   -0.075396   0.055018  -1.370 0.171047    \n",
       "tempdecile(4.7,6.1]    0.012567   0.057674   0.218 0.827579    \n",
       "tempdecile(6.1,7.74]   0.046136   0.062016   0.744 0.457190    \n",
       "tempdecile(7.74,9.3]  -0.021939   0.064203  -0.342 0.732683    \n",
       "tempdecile(9.3,10.8]   0.051944   0.065388   0.794 0.427260    \n",
       "tempdecile(10.8,12]   -0.012883   0.071770  -0.180 0.857596    \n",
       "tempdecile(12,13.5]    0.108820   0.074495   1.461 0.144571    \n",
       "tempdecile(13.5,14.9]  0.023663   0.077618   0.305 0.760571    \n",
       "tempdecile(14.9,19.8] -0.067996   0.088205  -0.771 0.441057    \n",
       "---\n",
       "Signif. codes:  0 '***' 0.001 '**' 0.01 '*' 0.05 '.' 0.1 ' ' 1\n",
       "\n",
       "(Dispersion parameter for quasipoisson family taken to be 1.448072)\n",
       "\n",
       "    Null deviance: 1362.46  on 666  degrees of freedom\n",
       "Residual deviance:  937.71  on 642  degrees of freedom\n",
       "AIC: NA\n",
       "\n",
       "Number of Fisher Scoring iterations: 4\n"
      ]
     },
     "metadata": {},
     "output_type": "display_data"
    },
    {
     "data": {
      "text/html": [
       "<table>\n",
       "<thead><tr><th></th><th scope=col>Estimate</th><th scope=col>StdErr</th><th scope=col>z</th><th scope=col>P</th><th scope=col>exp(Est.)</th><th scope=col>2.5%</th><th scope=col>97.5%</th></tr></thead>\n",
       "<tbody>\n",
       "\t<tr><th scope=row>pollutant</th><td>0.001558238</td><td>0.001589946</td><td>0.9800567  </td><td>0.3270581  </td><td>1.001559   </td><td>0.9984432  </td><td>1.004685   </td></tr>\n",
       "</tbody>\n",
       "</table>\n"
      ],
      "text/latex": [
       "\\begin{tabular}{r|lllllll}\n",
       "  & Estimate & StdErr & z & P & exp(Est.) & 2.5\\% & 97.5\\%\\\\\n",
       "\\hline\n",
       "\tpollutant & 0.001558238 & 0.001589946 & 0.9800567   & 0.3270581   & 1.001559    & 0.9984432   & 1.004685   \\\\\n",
       "\\end{tabular}\n"
      ],
      "text/markdown": [
       "\n",
       "| <!--/--> | Estimate | StdErr | z | P | exp(Est.) | 2.5% | 97.5% |\n",
       "|---|---|---|---|---|---|---|---|\n",
       "| pollutant | 0.001558238 | 0.001589946 | 0.9800567   | 0.3270581   | 1.001559    | 0.9984432   | 1.004685    |\n",
       "\n"
      ],
      "text/plain": [
       "          Estimate    StdErr      z         P         exp(Est.) 2.5%     \n",
       "pollutant 0.001558238 0.001589946 0.9800567 0.3270581 1.001559  0.9984432\n",
       "          97.5%   \n",
       "pollutant 1.004685"
      ]
     },
     "metadata": {},
     "output_type": "display_data"
    },
    {
     "data": {
      "text/html": [
       "<table>\n",
       "<thead><tr><th></th><th scope=col>RR</th><th scope=col>ci.low</th><th scope=col>ci.hi</th></tr></thead>\n",
       "<tbody>\n",
       "\t<tr><th scope=row>Unadjusted</th><td>0.26 </td><td>-0.08</td><td>0.59 </td></tr>\n",
       "\t<tr><th scope=row>Plus season/trend</th><td>0.11 </td><td>-0.20</td><td>0.42 </td></tr>\n",
       "\t<tr><th scope=row>Plus temperature</th><td>0.16 </td><td>-0.16</td><td>0.47 </td></tr>\n",
       "</tbody>\n",
       "</table>\n"
      ],
      "text/latex": [
       "\\begin{tabular}{r|lll}\n",
       "  & RR & ci.low & ci.hi\\\\\n",
       "\\hline\n",
       "\tUnadjusted & 0.26  & -0.08 & 0.59 \\\\\n",
       "\tPlus season/trend & 0.11  & -0.20 & 0.42 \\\\\n",
       "\tPlus temperature & 0.16  & -0.16 & 0.47 \\\\\n",
       "\\end{tabular}\n"
      ],
      "text/markdown": [
       "\n",
       "| <!--/--> | RR | ci.low | ci.hi |\n",
       "|---|---|---|---|\n",
       "| Unadjusted | 0.26  | -0.08 | 0.59  |\n",
       "| Plus season/trend | 0.11  | -0.20 | 0.42  |\n",
       "| Plus temperature | 0.16  | -0.16 | 0.47  |\n",
       "\n"
      ],
      "text/plain": [
       "                  RR   ci.low ci.hi\n",
       "Unadjusted        0.26 -0.08  0.59 \n",
       "Plus season/trend 0.11 -0.20  0.42 \n",
       "Plus temperature  0.16 -0.16  0.47 "
      ]
     },
     "metadata": {},
     "output_type": "display_data"
    }
   ],
   "source": [
    "# CONTROLLING FOR TEMPERATURE\n",
    "# (TEMPERATURE MODELLED WITH CATEGORICAL VARIABLES FOR DECILES)\n",
    "# (MORE SOPHISTICATED APPROACHES ARE AVAILABLE - SEE ARMSTRONG EPIDEMIOLOGY 2006)\n",
    "cutoffs <- quantile(data$temperature,probs=0:10/10)\n",
    "tempdecile <- cut(data$temperature,breaks=cutoffs,include.lowest=TRUE)\n",
    "model6 <- update(model5,.~.+tempdecile)\n",
    "summary(model6)\n",
    "(eff6 <- ci.lin(model6,subset=\"pollutant\",Exp=T))\n",
    "\n",
    "# BUILD A SUMMARY TABLE WITH EFFECT AS PERCENT INCREASE\n",
    "tabeff <- rbind(eff4,eff5,eff6)[,5:7]\n",
    "tabeff <- (tabeff-1)*100\n",
    "dimnames(tabeff) <- list(c(\"Unadjusted\",\"Plus season/trend\",\"Plus temperature\"),\n",
    "  c(\"RR\",\"ci.low\",\"ci.hi\"))\n",
    "round(tabeff,2)"
   ]
  },
  {
   "cell_type": "code",
   "execution_count": 13,
   "metadata": {},
   "outputs": [
    {
     "data": {
      "text/html": [
       "<table>\n",
       "<thead><tr><th></th><th scope=col>RR</th><th scope=col>ci.low</th><th scope=col>ci.hi</th></tr></thead>\n",
       "<tbody>\n",
       "\t<tr><th scope=row>Lag 0</th><td>1.0015595</td><td>0.9984432</td><td>1.004685 </td></tr>\n",
       "\t<tr><th scope=row>Lag 1</th><td>1.0028867</td><td>0.9997871</td><td>1.005996 </td></tr>\n",
       "\t<tr><th scope=row>Lag 2</th><td>1.0027026</td><td>0.9996242</td><td>1.005790 </td></tr>\n",
       "\t<tr><th scope=row>Lag 3</th><td>1.0020264</td><td>0.9989026</td><td>1.005160 </td></tr>\n",
       "\t<tr><th scope=row>Lag 4</th><td>1.0012979</td><td>0.9981540</td><td>1.004452 </td></tr>\n",
       "\t<tr><th scope=row>Lag 5</th><td>1.0011556</td><td>0.9979786</td><td>1.004343 </td></tr>\n",
       "\t<tr><th scope=row>Lag 6</th><td>1.0004088</td><td>0.9972153</td><td>1.003612 </td></tr>\n",
       "\t<tr><th scope=row>Lag 7</th><td>0.9999822</td><td>0.9967666</td><td>1.003208 </td></tr>\n",
       "</tbody>\n",
       "</table>\n"
      ],
      "text/latex": [
       "\\begin{tabular}{r|lll}\n",
       "  & RR & ci.low & ci.hi\\\\\n",
       "\\hline\n",
       "\tLag 0 & 1.0015595 & 0.9984432 & 1.004685 \\\\\n",
       "\tLag 1 & 1.0028867 & 0.9997871 & 1.005996 \\\\\n",
       "\tLag 2 & 1.0027026 & 0.9996242 & 1.005790 \\\\\n",
       "\tLag 3 & 1.0020264 & 0.9989026 & 1.005160 \\\\\n",
       "\tLag 4 & 1.0012979 & 0.9981540 & 1.004452 \\\\\n",
       "\tLag 5 & 1.0011556 & 0.9979786 & 1.004343 \\\\\n",
       "\tLag 6 & 1.0004088 & 0.9972153 & 1.003612 \\\\\n",
       "\tLag 7 & 0.9999822 & 0.9967666 & 1.003208 \\\\\n",
       "\\end{tabular}\n"
      ],
      "text/markdown": [
       "\n",
       "| <!--/--> | RR | ci.low | ci.hi |\n",
       "|---|---|---|---|\n",
       "| Lag 0 | 1.0015595 | 0.9984432 | 1.004685  |\n",
       "| Lag 1 | 1.0028867 | 0.9997871 | 1.005996  |\n",
       "| Lag 2 | 1.0027026 | 0.9996242 | 1.005790  |\n",
       "| Lag 3 | 1.0020264 | 0.9989026 | 1.005160  |\n",
       "| Lag 4 | 1.0012979 | 0.9981540 | 1.004452  |\n",
       "| Lag 5 | 1.0011556 | 0.9979786 | 1.004343  |\n",
       "| Lag 6 | 1.0004088 | 0.9972153 | 1.003612  |\n",
       "| Lag 7 | 0.9999822 | 0.9967666 | 1.003208  |\n",
       "\n"
      ],
      "text/plain": [
       "      RR        ci.low    ci.hi   \n",
       "Lag 0 1.0015595 0.9984432 1.004685\n",
       "Lag 1 1.0028867 0.9997871 1.005996\n",
       "Lag 2 1.0027026 0.9996242 1.005790\n",
       "Lag 3 1.0020264 0.9989026 1.005160\n",
       "Lag 4 1.0012979 0.9981540 1.004452\n",
       "Lag 5 1.0011556 0.9979786 1.004343\n",
       "Lag 6 1.0004088 0.9972153 1.003612\n",
       "Lag 7 0.9999822 0.9967666 1.003208"
      ]
     },
     "metadata": {},
     "output_type": "display_data"
    },
    {
     "data": {
      "image/png": "[encoded data removed]",
      "text/plain": [
       "Plot with title \"Lag terms modelled one at a time\""
      ]
     },
     "metadata": {},
     "output_type": "display_data"
    }
   ],
   "source": [
    "################################################################################\n",
    "# EXPLORING THE LAGGED (DELAYED) EFFECTS\n",
    "############################################\n",
    "\n",
    "#####################\n",
    "# SINGLE-LAG MODELS\n",
    "#####################\n",
    "\n",
    "# PREPARE THE TABLE WITH ESTIMATES\n",
    "tablag <- matrix(NA,7+1,3,dimnames=list(paste(\"Lag\",0:7),\n",
    "  c(\"RR\",\"ci.low\",\"ci.hi\")))\n",
    "\n",
    "# RUN THE LOOP\n",
    "for(i in 0:7) {\n",
    "  # LAG OZONE AND TEMPERATURE VARIABLES\n",
    "  pollutantlag <- Lag(data$pollutant,i)\n",
    "  tempdecilelag <- cut(Lag(data$temperature,i),breaks=cutoffs,\n",
    "    include.lowest=TRUE)\n",
    "  # DEFINE THE TRANSFORMATION FOR TEMPERATURE\n",
    "  # LAG SAME AS ABOVE, BUT WITH STRATA TERMS INSTEAD THAN LINEAR\n",
    "  mod <- glm(target ~ pollutantlag + tempdecilelag + spl,data,\n",
    "    family=quasipoisson)\n",
    "  tablag[i+1,] <- ci.lin(mod,subset=\"pollutantlag\",Exp=T)[5:7]\n",
    "}\n",
    "tablag\n",
    "\n",
    "#############\n",
    "# FIGURE 4A\n",
    "#############\n",
    "\n",
    "plot(0:7,0:7,type=\"n\",ylim=c(0.99,1.03),main=\"Lag terms modelled one at a time\",\n",
    "  xlab=\"Lag (days)\",ylab=\"RR and 95%CI per 10ug/m3 ozone increase\")\n",
    "abline(h=1)\n",
    "arrows(0:7,tablag[,2],0:7,tablag[,3],length=0.05,angle=90,code=3)\n",
    "points(0:7,tablag[,1],pch=19)"
   ]
  },
  {
   "cell_type": "code",
   "execution_count": 14,
   "metadata": {},
   "outputs": [
    {
     "name": "stdout",
     "output_type": "stream",
     "text": [
      "package 'dlnm' successfully unpacked and MD5 sums checked\n",
      "\n",
      "The downloaded binary packages are in\n",
      "\tC:\\Users\\bjk1y13\\AppData\\Local\\Temp\\RtmpCk5xk9\\downloaded_packages\n"
     ]
    },
    {
     "name": "stderr",
     "output_type": "stream",
     "text": [
      "Warning message:\n",
      "\"package 'dlnm' was built under R version 3.5.3\"This is dlnm 2.3.9. For details: help(dlnm) and vignette('dlnmOverview').\n"
     ]
    }
   ],
   "source": [
    "#####################\n",
    "# UNCONSTRAINED DLM\n",
    "#####################\n",
    "\n",
    "# FACILITATED BY THE FUNCTIONS IN PACKAGE dlnm, TO BE DOWNLOADED AND LOADED\n",
    "install.packages(\"dlnm\", repos='http://cran.us.r-project.org')\n",
    "\n",
    "library(dlnm)"
   ]
  },
  {
   "cell_type": "code",
   "execution_count": 15,
   "metadata": {},
   "outputs": [
    {
     "name": "stderr",
     "output_type": "stream",
     "text": [
      "Warning message in checkcrossbasis(argvar, arglag, list(...)):\n",
      "\"argument 'type' replaced by 'fun'. See ?onebasis\"Warning message in checkcrossbasis(argvar, arglag, list(...)):\n",
      "\"argument 'type' replaced by 'fun'. See ?onebasis\"Warning message in checkonebasis(fun, args, cen):\n",
      "\"centering through 'cen' now applied at the prediction stage. See ?crosspred\""
     ]
    },
    {
     "name": "stdout",
     "output_type": "stream",
     "text": [
      "CROSSBASIS FUNCTIONS\n",
      "observations: 667 \n",
      "range: 5 to 78 \n",
      "lag period: 0 7 \n",
      "total df:  8 \n",
      "\n",
      "BASIS FOR VAR:\n",
      "fun: lin \n",
      "intercept: FALSE \n",
      "\n",
      "BASIS FOR LAG:\n",
      "fun: integer \n",
      "values: 0 1 2 3 4 5 6 ... \n",
      "intercept: TRUE \n",
      "\n"
     ]
    },
    {
     "name": "stderr",
     "output_type": "stream",
     "text": [
      "Warning message in checkcrossbasis(argvar, arglag, list(...)):\n",
      "\"argument 'type' replaced by 'fun'. See ?onebasis\"Warning message in checkcrossbasis(argvar, arglag, list(...)):\n",
      "\"argument 'type' replaced by 'fun'. See ?onebasis\"Warning message in checkonebasis(fun, args, cen):\n",
      "\"argument 'knots' replaced by 'breaks' in function strata. See ?strata\""
     ]
    },
    {
     "name": "stdout",
     "output_type": "stream",
     "text": [
      "CROSSBASIS FUNCTIONS\n",
      "observations: 667 \n",
      "range: -2.4 to 19.8 \n",
      "lag period: 0 7 \n",
      "total df:  72 \n",
      "\n",
      "BASIS FOR VAR:\n",
      "fun: strata \n",
      "df: 9 \n",
      "breaks: 2.2 4.7 6.1 7.74 9.3 10.8 12.02 ... \n",
      "ref: 1 \n",
      "intercept: FALSE \n",
      "\n",
      "BASIS FOR LAG:\n",
      "fun: integer \n",
      "values: 0 1 2 3 4 5 6 ... \n",
      "intercept: TRUE \n",
      "\n"
     ]
    },
    {
     "data": {
      "text/html": [
       "<table>\n",
       "<thead><tr><th></th><th scope=col>RR</th><th scope=col>ci.low</th><th scope=col>ci.hi</th></tr></thead>\n",
       "<tbody>\n",
       "\t<tr><th scope=row>lag0</th><td>0.9730732</td><td>0.9352749</td><td>1.012399 </td></tr>\n",
       "\t<tr><th scope=row>lag1</th><td>1.0051788</td><td>0.9610880</td><td>1.051292 </td></tr>\n",
       "\t<tr><th scope=row>lag2</th><td>1.0050051</td><td>0.9601365</td><td>1.051970 </td></tr>\n",
       "\t<tr><th scope=row>lag3</th><td>0.9962423</td><td>0.9513147</td><td>1.043292 </td></tr>\n",
       "\t<tr><th scope=row>lag4</th><td>0.9881754</td><td>0.9436930</td><td>1.034755 </td></tr>\n",
       "\t<tr><th scope=row>lag5</th><td>1.0073208</td><td>0.9621913</td><td>1.054567 </td></tr>\n",
       "\t<tr><th scope=row>lag6</th><td>0.9874643</td><td>0.9428618</td><td>1.034177 </td></tr>\n",
       "\t<tr><th scope=row>lag7</th><td>0.9860639</td><td>0.9468066</td><td>1.026949 </td></tr>\n",
       "</tbody>\n",
       "</table>\n"
      ],
      "text/latex": [
       "\\begin{tabular}{r|lll}\n",
       "  & RR & ci.low & ci.hi\\\\\n",
       "\\hline\n",
       "\tlag0 & 0.9730732 & 0.9352749 & 1.012399 \\\\\n",
       "\tlag1 & 1.0051788 & 0.9610880 & 1.051292 \\\\\n",
       "\tlag2 & 1.0050051 & 0.9601365 & 1.051970 \\\\\n",
       "\tlag3 & 0.9962423 & 0.9513147 & 1.043292 \\\\\n",
       "\tlag4 & 0.9881754 & 0.9436930 & 1.034755 \\\\\n",
       "\tlag5 & 1.0073208 & 0.9621913 & 1.054567 \\\\\n",
       "\tlag6 & 0.9874643 & 0.9428618 & 1.034177 \\\\\n",
       "\tlag7 & 0.9860639 & 0.9468066 & 1.026949 \\\\\n",
       "\\end{tabular}\n"
      ],
      "text/markdown": [
       "\n",
       "| <!--/--> | RR | ci.low | ci.hi |\n",
       "|---|---|---|---|\n",
       "| lag0 | 0.9730732 | 0.9352749 | 1.012399  |\n",
       "| lag1 | 1.0051788 | 0.9610880 | 1.051292  |\n",
       "| lag2 | 1.0050051 | 0.9601365 | 1.051970  |\n",
       "| lag3 | 0.9962423 | 0.9513147 | 1.043292  |\n",
       "| lag4 | 0.9881754 | 0.9436930 | 1.034755  |\n",
       "| lag5 | 1.0073208 | 0.9621913 | 1.054567  |\n",
       "| lag6 | 0.9874643 | 0.9428618 | 1.034177  |\n",
       "| lag7 | 0.9860639 | 0.9468066 | 1.026949  |\n",
       "\n"
      ],
      "text/plain": [
       "     RR        ci.low    ci.hi   \n",
       "lag0 0.9730732 0.9352749 1.012399\n",
       "lag1 1.0051788 0.9610880 1.051292\n",
       "lag2 1.0050051 0.9601365 1.051970\n",
       "lag3 0.9962423 0.9513147 1.043292\n",
       "lag4 0.9881754 0.9436930 1.034755\n",
       "lag5 1.0073208 0.9621913 1.054567\n",
       "lag6 0.9874643 0.9428618 1.034177\n",
       "lag7 0.9860639 0.9468066 1.026949"
      ]
     },
     "metadata": {},
     "output_type": "display_data"
    },
    {
     "data": {
      "text/html": [
       "<strong>10:</strong> 0.949183800546749"
      ],
      "text/latex": [
       "\\textbf{10:} 0.949183800546749"
      ],
      "text/markdown": [
       "**10:** 0.949183800546749"
      ],
      "text/plain": [
       "       10 \n",
       "0.9491838 "
      ]
     },
     "metadata": {},
     "output_type": "display_data"
    },
    {
     "data": {
      "text/html": [
       "<strong>10:</strong> 0.89693843842654"
      ],
      "text/latex": [
       "\\textbf{10:} 0.89693843842654"
      ],
      "text/markdown": [
       "**10:** 0.89693843842654"
      ],
      "text/plain": [
       "       10 \n",
       "0.8969384 "
      ]
     },
     "metadata": {},
     "output_type": "display_data"
    },
    {
     "data": {
      "text/html": [
       "<strong>10:</strong> 1.00447237917562"
      ],
      "text/latex": [
       "\\textbf{10:} 1.00447237917562"
      ],
      "text/markdown": [
       "**10:** 1.00447237917562"
      ],
      "text/plain": [
       "      10 \n",
       "1.004472 "
      ]
     },
     "metadata": {},
     "output_type": "display_data"
    },
    {
     "data": {
      "image/png": "[encoded data removed]",
      "text/plain": [
       "Plot with title \"All lag terms modelled together (unconstrained)\""
      ]
     },
     "metadata": {},
     "output_type": "display_data"
    }
   ],
   "source": [
    "# IN PARTICULAR, THE FUNCTION crossbasis PRODUCES THE TRANSFORMATION FOR \n",
    "#   SPECIFIC LAG STRUCTURES AND OPTIONALLY FOR NON-LINEARITY\n",
    "# THE FUNCTION crosspred INSTEAD PREDICTS ESTIMATED EFFECTS\n",
    "\n",
    "# PRODUCE THE CROSS-BASIS FOR OZONE (SCALING NOT NEEDED)\n",
    "# A SIMPLE UNSTRANSFORMED LINEAR TERM AND THE UNCONSTRAINED LAG STRUCTURE\n",
    "cbo3unc <- crossbasis(data$pollutant,lag=c(0,7),argvar=list(type=\"lin\",cen=FALSE),\n",
    "  arglag=list(type=\"integer\"))\n",
    "summary(cbo3unc)\n",
    "\n",
    "# PRODUCE THE CROSS-BASIS FOR TEMPERATURE\n",
    "# AS ABOVE, BUT WITH STRATA DEFINED BY INTERNAL CUT-OFFS\n",
    "cbtempunc <- crossbasis(data$temperature,lag=c(0,7),\n",
    "  argvar=list(type=\"strata\",knots=cutoffs[2:10]),\n",
    "  arglag=list(type=\"integer\"))\n",
    "summary(cbtempunc)\n",
    "\n",
    "# RUN THE MODEL AND OBTAIN PREDICTIONS FOR OZONE LEVEL 10ug/m3\n",
    "model7 <- glm(target ~ cbo3unc + cbtempunc + fourier,data,family=quasipoisson)\n",
    "pred7 <- crosspred(cbo3unc,model7,at=10)\n",
    "\n",
    "# ESTIMATED EFFECTS AT EACH LAG\n",
    "tablag2 <- with(pred7,t(rbind(matRRfit,matRRlow,matRRhigh)))\n",
    "colnames(tablag2) <- c(\"RR\",\"ci.low\",\"ci.hi\")\n",
    "tablag2\n",
    "\n",
    "# OVERALL CUMULATIVE (NET) EFFECT\n",
    "pred7$allRRfit ; pred7$allRRlow ; pred7$allRRhigh\n",
    "\n",
    "#############\n",
    "# FIGURE 4B\n",
    "#############\n",
    "#ylim=c(0.99,1.03)\n",
    "plot(pred7,var=10,type=\"p\",ci=\"bars\",col=1,pch=19,\n",
    "  main=\"All lag terms modelled together (unconstrained)\",xlab=\"Lag (days)\",\n",
    "  ylab=\"RR and 95%CI per 10ug/m3 ozone increase\")"
   ]
  },
  {
   "cell_type": "code",
   "execution_count": 16,
   "metadata": {},
   "outputs": [
    {
     "name": "stderr",
     "output_type": "stream",
     "text": [
      "Warning message in checkcrossbasis(argvar, arglag, list(...)):\n",
      "\"argument 'type' replaced by 'fun'. See ?onebasis\"Warning message in checkcrossbasis(argvar, arglag, list(...)):\n",
      "\"argument 'type' replaced by 'fun'. See ?onebasis\"Warning message in checkonebasis(fun, args, cen):\n",
      "\"centering through 'cen' now applied at the prediction stage. See ?crosspred\"Warning message in checkonebasis(fun, args, cen):\n",
      "\"argument 'knots' replaced by 'breaks' in function strata. See ?strata\""
     ]
    },
    {
     "name": "stdout",
     "output_type": "stream",
     "text": [
      "CROSSBASIS FUNCTIONS\n",
      "observations: 667 \n",
      "range: 5 to 78 \n",
      "lag period: 0 7 \n",
      "total df:  3 \n",
      "\n",
      "BASIS FOR VAR:\n",
      "fun: lin \n",
      "intercept: FALSE \n",
      "\n",
      "BASIS FOR LAG:\n",
      "fun: strata \n",
      "df: 3 \n",
      "breaks: 1 3 \n",
      "ref: 1 \n",
      "intercept: TRUE \n",
      "\n"
     ]
    },
    {
     "data": {
      "text/html": [
       "<table>\n",
       "<thead><tr><th></th><th scope=col>RR</th><th scope=col>ci.low</th><th scope=col>ci.hi</th></tr></thead>\n",
       "<tbody>\n",
       "\t<tr><th scope=row>lag0</th><td>0.9956543</td><td>0.9590120</td><td>1.033697 </td></tr>\n",
       "\t<tr><th scope=row>lag1</th><td>1.0172694</td><td>0.9952618</td><td>1.039764 </td></tr>\n",
       "\t<tr><th scope=row>lag2</th><td>1.0172694</td><td>0.9952618</td><td>1.039764 </td></tr>\n",
       "\t<tr><th scope=row>lag3</th><td>1.0034802</td><td>0.9919162</td><td>1.015179 </td></tr>\n",
       "\t<tr><th scope=row>lag4</th><td>1.0034802</td><td>0.9919162</td><td>1.015179 </td></tr>\n",
       "\t<tr><th scope=row>lag5</th><td>1.0034802</td><td>0.9919162</td><td>1.015179 </td></tr>\n",
       "\t<tr><th scope=row>lag6</th><td>1.0034802</td><td>0.9919162</td><td>1.015179 </td></tr>\n",
       "\t<tr><th scope=row>lag7</th><td>1.0034802</td><td>0.9919162</td><td>1.015179 </td></tr>\n",
       "</tbody>\n",
       "</table>\n"
      ],
      "text/latex": [
       "\\begin{tabular}{r|lll}\n",
       "  & RR & ci.low & ci.hi\\\\\n",
       "\\hline\n",
       "\tlag0 & 0.9956543 & 0.9590120 & 1.033697 \\\\\n",
       "\tlag1 & 1.0172694 & 0.9952618 & 1.039764 \\\\\n",
       "\tlag2 & 1.0172694 & 0.9952618 & 1.039764 \\\\\n",
       "\tlag3 & 1.0034802 & 0.9919162 & 1.015179 \\\\\n",
       "\tlag4 & 1.0034802 & 0.9919162 & 1.015179 \\\\\n",
       "\tlag5 & 1.0034802 & 0.9919162 & 1.015179 \\\\\n",
       "\tlag6 & 1.0034802 & 0.9919162 & 1.015179 \\\\\n",
       "\tlag7 & 1.0034802 & 0.9919162 & 1.015179 \\\\\n",
       "\\end{tabular}\n"
      ],
      "text/markdown": [
       "\n",
       "| <!--/--> | RR | ci.low | ci.hi |\n",
       "|---|---|---|---|\n",
       "| lag0 | 0.9956543 | 0.9590120 | 1.033697  |\n",
       "| lag1 | 1.0172694 | 0.9952618 | 1.039764  |\n",
       "| lag2 | 1.0172694 | 0.9952618 | 1.039764  |\n",
       "| lag3 | 1.0034802 | 0.9919162 | 1.015179  |\n",
       "| lag4 | 1.0034802 | 0.9919162 | 1.015179  |\n",
       "| lag5 | 1.0034802 | 0.9919162 | 1.015179  |\n",
       "| lag6 | 1.0034802 | 0.9919162 | 1.015179  |\n",
       "| lag7 | 1.0034802 | 0.9919162 | 1.015179  |\n",
       "\n"
      ],
      "text/plain": [
       "     RR        ci.low    ci.hi   \n",
       "lag0 0.9956543 0.9590120 1.033697\n",
       "lag1 1.0172694 0.9952618 1.039764\n",
       "lag2 1.0172694 0.9952618 1.039764\n",
       "lag3 1.0034802 0.9919162 1.015179\n",
       "lag4 1.0034802 0.9919162 1.015179\n",
       "lag5 1.0034802 0.9919162 1.015179\n",
       "lag6 1.0034802 0.9919162 1.015179\n",
       "lag7 1.0034802 0.9919162 1.015179"
      ]
     },
     "metadata": {},
     "output_type": "display_data"
    },
    {
     "data": {
      "text/html": [
       "<strong>10:</strong> 1.04839420154666"
      ],
      "text/latex": [
       "\\textbf{10:} 1.04839420154666"
      ],
      "text/markdown": [
       "**10:** 1.04839420154666"
      ],
      "text/plain": [
       "      10 \n",
       "1.048394 "
      ]
     },
     "metadata": {},
     "output_type": "display_data"
    },
    {
     "data": {
      "text/html": [
       "<strong>10:</strong> 0.983528070221693"
      ],
      "text/latex": [
       "\\textbf{10:} 0.983528070221693"
      ],
      "text/markdown": [
       "**10:** 0.983528070221693"
      ],
      "text/plain": [
       "       10 \n",
       "0.9835281 "
      ]
     },
     "metadata": {},
     "output_type": "display_data"
    },
    {
     "data": {
      "text/html": [
       "<strong>10:</strong> 1.11753841615207"
      ],
      "text/latex": [
       "\\textbf{10:} 1.11753841615207"
      ],
      "text/markdown": [
       "**10:** 1.11753841615207"
      ],
      "text/plain": [
       "      10 \n",
       "1.117538 "
      ]
     },
     "metadata": {},
     "output_type": "display_data"
    },
    {
     "data": {
      "image/png": "[encoded data removed]",
      "text/plain": [
       "Plot with title \"All lag terms modelled together (with costraints)\""
      ]
     },
     "metadata": {},
     "output_type": "display_data"
    },
    {
     "data": {
      "image/png": "[encoded data removed]",
      "text/plain": [
       "Plot with title \"Residuals over time\""
      ]
     },
     "metadata": {},
     "output_type": "display_data"
    },
    {
     "data": {
      "image/png": "[encoded data removed]",
      "text/plain": [
       "Plot with title \"From original model\""
      ]
     },
     "metadata": {},
     "output_type": "display_data"
    },
    {
     "data": {
      "image/png": "[encoded data removed]",
      "text/plain": [
       "Plot with title \"From model adjusted for residual autocorrelation\""
      ]
     },
     "metadata": {},
     "output_type": "display_data"
    }
   ],
   "source": [
    "####################################\n",
    "# CONSTRAINED (LAG-STRATIFIED) DLM\n",
    "####################################\n",
    "\n",
    "# PRODUCE A DIFFERENT CROSS-BASIS FOR OZONE\n",
    "# USE STRATA FOR LAG STRUCTURE, WITH CUT-OFFS DEFINING RIGHT-OPEN INTERVALS \n",
    "cbo3constr <- crossbasis(data$pollutant,lag=c(0,7),argvar=list(type=\"lin\",cen=FALSE),\n",
    "  arglag=list(type=\"strata\",knots=c(1,3)))\n",
    "summary(cbo3constr)\n",
    "\n",
    "# RUN THE MODEL AND OBTAIN PREDICTIONS FOR OZONE LEVEL 10ug/m3\n",
    "model8 <- glm(target ~ cbo3constr + cbtempunc + spl,data,family=quasipoisson)\n",
    "pred8 <- crosspred(cbo3constr,model8,at=10)\n",
    "\n",
    "# ESTIMATED EFFECTS AT EACH LAG\n",
    "tablag3 <- with(pred8,t(rbind(matRRfit,matRRlow,matRRhigh)))\n",
    "colnames(tablag3) <- c(\"RR\",\"ci.low\",\"ci.hi\")\n",
    "tablag3\n",
    "\n",
    "# OVERALL CUMULATIVE (NET) EFFECT\n",
    "pred8$allRRfit ; pred8$allRRlow ; pred8$allRRhigh\n",
    "\n",
    "#############\n",
    "# FIGURE 4C\n",
    "#############\n",
    "\n",
    "plot(pred8,var=10,type=\"p\",ci=\"bars\",col=1,pch=19,\n",
    "  main=\"All lag terms modelled together (with costraints)\",xlab=\"Lag (days)\",\n",
    "  ylab=\"RR and 95%CI per 10ug/m3 ozone increase\")\n",
    "\n",
    "################################################################################\n",
    "# MODEL CHECKING\n",
    "##################\n",
    "\n",
    "# GENERATE DEVIANCE RESIDUALS FROM UNCONSTRAINED DISTRIBUTED LAG MODEL\n",
    "res7 <- residuals(model7,type=\"deviance\")\n",
    "\n",
    "#############\n",
    "# FIGURE A1\n",
    "#############\n",
    "\n",
    "plot(data$date,res7,ylim=c(-5,10),pch=19,cex=0.7,col=grey(0.6),\n",
    "  main=\"Residuals over time\",ylab=\"Deviance residuals\",xlab=\"Date\")\n",
    "abline(h=0,lty=2,lwd=2)\n",
    "\n",
    "#############################\n",
    "# FIGURE A2a\n",
    "#############################\n",
    "\n",
    "pacf(res7,na.action=na.omit,main=\"From original model\")\n",
    "\n",
    "# INCLUDE THE 1-DAY LAGGED RESIDUAL IN THE MODEL\n",
    "model9 <- update(model7,.~.+Lag(res7,1))\n",
    "\n",
    "#############################\n",
    "# FIGURE A2b\n",
    "#############################\n",
    "\n",
    "pacf(residuals(model9,type=\"deviance\"),na.action=na.omit,\n",
    "  main=\"From model adjusted for residual autocorrelation\")\n",
    "\n",
    "#"
   ]
  },
  {
   "cell_type": "code",
   "execution_count": null,
   "metadata": {},
   "outputs": [],
   "source": []
  },
  {
   "cell_type": "code",
   "execution_count": null,
   "metadata": {},
   "outputs": [],
   "source": []
  },
  {
   "cell_type": "code",
   "execution_count": null,
   "metadata": {},
   "outputs": [],
   "source": []
  }
 ],
 "metadata": {
  "kernelspec": {
   "display_name": "R [conda env:R]",
   "language": "R",
   "name": "conda-env-R-r"
  },
  "language_info": {
   "codemirror_mode": "r",
   "file_extension": ".r",
   "mimetype": "text/x-r-source",
   "name": "R",
   "pygments_lexer": "r",
   "version": "3.5.1"
  }
 },
 "nbformat": 4,
 "nbformat_minor": 2
}
